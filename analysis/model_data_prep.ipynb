{
 "cells": [
  {
   "cell_type": "code",
   "execution_count": 1,
   "metadata": {},
   "outputs": [],
   "source": [
    "from scipy.io import loadmat\n",
    "from scipy.stats import circmean, circstd\n",
    "import numpy as np\n",
    "from tqdm import tqdm\n",
    "import matplotlib.pyplot as plt\n",
    "import pandas as pd\n",
    "\n",
    "from utils import validate_data"
   ]
  },
  {
   "cell_type": "markdown",
   "metadata": {},
   "source": [
    "## Loading all the data"
   ]
  },
  {
   "cell_type": "code",
   "execution_count": 2,
   "metadata": {},
   "outputs": [],
   "source": [
    "# Set in stone\n",
    "data_path = '../axej/'\n",
    "n_subjects = 13\n",
    "n_sessions = 4\n",
    "n_runs = 6\n",
    "n_trials = 120\n",
    "n_ts = 500\n",
    "\n",
    "exp_ts = 1000\n",
    "\n",
    "# noise frames = 0 to 220 (250 - 30)\n",
    "noise_thresh = 0.5\n",
    "noise_gap = 30\n",
    "\n",
    "\n",
    "experiment_orientations = [159, 123, 87, 51, 15]\n",
    "subjects = [\"01\", \"02\", \"03\", \"04\", \"05\", \"06\", \"07\", \"08\" ,\"09\", \"10\", \"11\", \"12\", \"14\"]\n",
    "\n",
    "def get_calib(subj, sess):\n",
    "    mat_contents = loadmat(data_path + f'AxeJEEG_Subj{subjects[subj]}_S{sess+1}_Cali1.mat.mat', struct_as_record=False, squeeze_me=True)\n",
    "    return mat_contents[\"p\"].__dict__\n",
    "\n",
    "def get_run(subj, sess, run):\n",
    "    mat_contents = loadmat(data_path + f'AxeJEEG_Subj{subjects[subj]}_S{sess+1}_Run{run+1}.mat.mat', struct_as_record=False, squeeze_me=True)\n",
    "    return mat_contents[\"p\"].__dict__"
   ]
  },
  {
   "cell_type": "code",
   "execution_count": 37,
   "metadata": {},
   "outputs": [
    {
     "name": "stderr",
     "output_type": "stream",
     "text": [
      "100%|██████████| 13/13 [00:01<00:00,  9.41it/s]\n"
     ]
    },
    {
     "data": {
      "text/plain": [
       "((13, 4, 6, 120, 500),\n",
       " (13, 4, 6, 120, 500),\n",
       " (13, 4, 6, 120),\n",
       " (13, 4, 6, 120),\n",
       " (13, 4, 6, 120),\n",
       " (13, 4, 6, 120),\n",
       " (13, 4, 6, 120))"
      ]
     },
     "execution_count": 37,
     "metadata": {},
     "output_type": "execute_result"
    }
   ],
   "source": [
    "# Get all run data\n",
    "# subjexts x sessions x runs\n",
    "jx = []\n",
    "jy = []\n",
    "stimdir = []\n",
    "tgonset = []\n",
    "\n",
    "# Attention (attCue): tr_foc = 1, tr_div = 2\n",
    "# Coherence (tgCoh): tr_lo = 1, tr_hi = 2\n",
    "# ExpOrientation (expOri): 1,2,3,4,5 -> 159, 123, 87, 51, 15\n",
    "att = []\n",
    "coh = []\n",
    "exp = []\n",
    "\n",
    "for subj in tqdm(range(n_subjects)):\n",
    "    for sess in range(n_sessions):\n",
    "        for run in range(n_runs):\n",
    "\n",
    "            data = get_run(subj, sess, run)\n",
    "            jx.append(data[\"joyx\"])\n",
    "            jy.append(data[\"joyy\"])\n",
    "            stimdir.append(data[\"stimDirREAL\"])\n",
    "\n",
    "            f_tgonset = data[\"f_precuedur\"] + data[\"f_cuedur\"]\n",
    "            tgonset.append(f_tgonset)\n",
    "\n",
    "            att.append(data[\"attCue\"])\n",
    "            coh.append(data[\"tgCoh\"])\n",
    "\n",
    "            try:\n",
    "                # print(data[\"expOri\"])\n",
    "                exp.append([experiment_orientations[data[\"expOri\"] - 1]]*n_trials)\n",
    "            except:\n",
    "                # print(\"No expOri\")\n",
    "                exp.append([np.nan]*n_trials)\n",
    "                \n",
    "\n",
    "# Shape the run data\n",
    "jx = np.array(jx, dtype=np.float64).reshape(n_subjects, n_sessions, n_runs, n_trials, n_ts)\n",
    "jy = np.array(jy, dtype=np.float64).reshape(n_subjects, n_sessions, n_runs, n_trials, n_ts)\n",
    "stimdir = np.array(stimdir).reshape(n_subjects, n_sessions, n_runs, n_trials)\n",
    "tgonset = np.array(tgonset).reshape(n_subjects, n_sessions, n_runs, n_trials)\n",
    "att = np.array(att, dtype=np.float64).reshape(n_subjects, n_sessions, n_runs, n_trials)\n",
    "coh = np.array(coh, dtype=np.float64).reshape(n_subjects, n_sessions, n_runs, n_trials)\n",
    "exp = np.array(exp, dtype=np.float64).reshape(n_subjects, n_sessions, n_runs, n_trials)\n",
    "\n",
    "jx.shape, jy.shape, stimdir.shape, tgonset.shape, att.shape, coh.shape, exp.shape"
   ]
  },
  {
   "cell_type": "markdown",
   "metadata": {},
   "source": [
    "## Logic for Getting Valid Trials:\n",
    "\n",
    "1. Get all the trials\n",
    "2. Align all target onset at 250 ts\n",
    "3. Get distance from center and angle from center\n",
    "4. If the distance moves <0.4 au n frames before target onset. Then that trial is \"too early\" and all response set nan.\n",
    "5. If ts has distance > 1 au then set its response angle to the last valid angle (if first, the nan) and set that distance to 1.\n",
    "6. get angle first distance = 1 a.u. instance after target onset. or if it never reaches 1, then angle at max distance after target onset. as the response angle."
   ]
  },
  {
   "cell_type": "code",
   "execution_count": 25,
   "metadata": {},
   "outputs": [],
   "source": [
    "shifted_jx, shifted_jy, dist_from_cent, resp_angle, final_resp_angles = validate_data(n_subjects, n_sessions, n_runs, n_trials, n_ts, exp_ts, jx, jy, tgonset, noise_thresh, noise_gap)"
   ]
  },
  {
   "cell_type": "code",
   "execution_count": 26,
   "metadata": {},
   "outputs": [
    {
     "name": "stdout",
     "output_type": "stream",
     "text": [
      "2919 removed trials\n",
      "7.7964743589743595 % removed trials\n"
     ]
    }
   ],
   "source": [
    "# Get all trials where angles are only nan\n",
    "nan_trials = np.where(np.isnan(resp_angle).all(axis=-1))\n",
    "print(nan_trials[0].shape[0], \"removed trials\")\n",
    "print(nan_trials[0].shape[0] / (n_subjects * n_sessions * n_runs * n_trials) * 100, \"% removed trials\")"
   ]
  },
  {
   "cell_type": "code",
   "execution_count": 35,
   "metadata": {},
   "outputs": [
    {
     "data": {
      "text/plain": [
       "(13, 4, 6, 120)"
      ]
     },
     "execution_count": 35,
     "metadata": {},
     "output_type": "execute_result"
    }
   ],
   "source": [
    "exp.shape"
   ]
  },
  {
   "cell_type": "code",
   "execution_count": null,
   "metadata": {},
   "outputs": [],
   "source": [
    "exp[0,0, :5, :]"
   ]
  },
  {
   "cell_type": "markdown",
   "metadata": {},
   "source": [
    "## Circular stat defs"
   ]
  },
  {
   "cell_type": "code",
   "execution_count": 42,
   "metadata": {},
   "outputs": [],
   "source": [
    "def circdist(a, b):\n",
    "    return min(abs(a-b), 360-abs(a-b))\n",
    "\n",
    "def circmedian(angs):\n",
    "    angs = np.array(angs)\n",
    "    angs = angs[~np.isnan(angs)]\n",
    "    pdists = angs[np.newaxis, :] - angs[:, np.newaxis]\n",
    "    pdists = (pdists + 180) % (2 * 180) - 180\n",
    "    pdists = np.abs(pdists).sum(1)\n",
    "    return angs[np.argmin(pdists)]"
   ]
  },
  {
   "cell_type": "code",
   "execution_count": 43,
   "metadata": {},
   "outputs": [],
   "source": [
    "calib_median = np.load(\"../cache/calib_results/circ_median.npy\")\n",
    "median_key = {15:0, 51:1, 87:2, 123:3, 159:4}"
   ]
  },
  {
   "cell_type": "code",
   "execution_count": 44,
   "metadata": {},
   "outputs": [],
   "source": [
    "calib_std = np.load(\"../cache/calib_results/circ_std.npy\")\n",
    "std_key = {15:0, 51:1, 87:2, 123:3, 159:4}"
   ]
  },
  {
   "cell_type": "markdown",
   "metadata": {},
   "source": [
    "## Design Matrix\n",
    "\n",
    "Things that are considered as u_t\n",
    "\n",
    "- Calibrated stimulus (median)\n",
    "- Coherece\n",
    "- Attention \n",
    "\n",
    "compared:\n",
    "\n",
    "- bias"
   ]
  },
  {
   "cell_type": "code",
   "execution_count": 45,
   "metadata": {},
   "outputs": [
    {
     "data": {
      "text/plain": [
       "((13, 4, 6, 120), (13, 4, 6, 120))"
      ]
     },
     "execution_count": 45,
     "metadata": {},
     "output_type": "execute_result"
    }
   ],
   "source": [
    "final_resp_angles.shape, stimdir.shape"
   ]
  },
  {
   "cell_type": "markdown",
   "metadata": {},
   "source": [
    "#### calib stimdir:\n",
    "\n",
    "- Some representations go below the horizon.\n",
    "- So rotating 90 deg counterclockwise before scaling to 0-1 range:\n",
    "    - target\n",
    "    - observation"
   ]
  },
  {
   "cell_type": "markdown",
   "metadata": {},
   "source": [
    "##### Rotate by 90 deg counterclockwise:"
   ]
  },
  {
   "cell_type": "code",
   "execution_count": 10,
   "metadata": {},
   "outputs": [],
   "source": [
    "# Rotate all angles by 90 deg counter-clockwise\n",
    "target = (calib_median + 90) % 360\n",
    "observation = (final_resp_angles + 90) % 360"
   ]
  },
  {
   "cell_type": "code",
   "execution_count": 11,
   "metadata": {},
   "outputs": [
    {
     "data": {
      "text/plain": [
       "Text(0, 0.5, 'jy')"
      ]
     },
     "execution_count": 11,
     "metadata": {},
     "output_type": "execute_result"
    },
    {
     "data": {
      "image/png": "[encoded data removed]",
      "text/plain": [
       "<Figure size 400x400 with 1 Axes>"
      ]
     },
     "metadata": {},
     "output_type": "display_data"
    }
   ],
   "source": [
    "# Scatter plot on a cricumference of a circle with radius 1\n",
    "# based on the angle provided from the right horizontal axis as 0 and going counter-clockwise to 360\n",
    "# angles will be given in degrees\n",
    "\n",
    "x = np.cos(np.deg2rad(target))\n",
    "y = np.sin(np.deg2rad(target))\n",
    "\n",
    "plt.figure(figsize=(4,4))\n",
    "plt.scatter(x, y, s=10, c=\"k\", label=\"Target\")\n",
    "plt.xlim(-1.1, 1.1)\n",
    "plt.ylim(-1.1, 1.1)\n",
    "plt.title(\"Target (rotated by 90 deg)\")\n",
    "plt.xlabel(\"jx\")\n",
    "plt.ylabel(\"jy\")\n",
    "\n"
   ]
  },
  {
   "cell_type": "code",
   "execution_count": 12,
   "metadata": {},
   "outputs": [
    {
     "data": {
      "text/plain": [
       "Text(0, 0.5, 'jy')"
      ]
     },
     "execution_count": 12,
     "metadata": {},
     "output_type": "execute_result"
    },
    {
     "data": {
      "image/png": "[encoded data removed]",
      "text/plain": [
       "<Figure size 400x400 with 1 Axes>"
      ]
     },
     "metadata": {},
     "output_type": "display_data"
    }
   ],
   "source": [
    "x = np.cos(np.deg2rad(observation))\n",
    "y = np.sin(np.deg2rad(observation))\n",
    "\n",
    "plt.figure(figsize=(4,4))\n",
    "plt.scatter(x, y, s=10, c=\"k\", label=\"Target\")\n",
    "plt.xlim(-1.1, 1.1)\n",
    "plt.ylim(-1.1, 1.1)\n",
    "plt.title(\"Observation (rotated by 90 deg)\")\n",
    "plt.xlabel(\"jx\")\n",
    "plt.ylabel(\"jy\")"
   ]
  },
  {
   "cell_type": "markdown",
   "metadata": {},
   "source": [
    "##### Scale to 0-1 range:"
   ]
  },
  {
   "cell_type": "code",
   "execution_count": 13,
   "metadata": {},
   "outputs": [],
   "source": [
    "# Rotate all angles by 90 deg counter-clockwise\n",
    "target = (calib_median + 90) % 360\n",
    "observation = (final_resp_angles + 90) % 360\n",
    "\n",
    "# Scale everything to be between 0 and 1\n",
    "target = target / 360\n",
    "observation = observation / 360"
   ]
  },
  {
   "cell_type": "code",
   "execution_count": 14,
   "metadata": {},
   "outputs": [
    {
     "data": {
      "text/plain": [
       "(13, 4, 6, 120)"
      ]
     },
     "execution_count": 14,
     "metadata": {},
     "output_type": "execute_result"
    }
   ],
   "source": [
    "observation.shape"
   ]
  },
  {
   "cell_type": "code",
   "execution_count": 15,
   "metadata": {},
   "outputs": [],
   "source": [
    "stimulus = np.zeros((n_subjects, n_sessions, n_runs, n_trials))\n",
    "\n",
    "for subj in range(n_subjects):\n",
    "    for sess in range(n_sessions):\n",
    "        for run in range(n_runs):\n",
    "            for trial in range(n_trials):\n",
    "                target_key = median_key[stimdir[subj, sess, run, trial]]\n",
    "                stimulus[subj, sess, run, trial] = target[subj, target_key]"
   ]
  },
  {
   "cell_type": "markdown",
   "metadata": {},
   "source": [
    "#### Attention + Coherence:"
   ]
  },
  {
   "cell_type": "code",
   "execution_count": 16,
   "metadata": {},
   "outputs": [],
   "source": [
    "# Coherence (tgCoh): tr_lo = 1, tr_hi = 2\n",
    "# coh = []\n",
    "\n",
    "# Attention (attCue): tr_foc = 1, tr_div = 2\n",
    "# att = []"
   ]
  },
  {
   "cell_type": "code",
   "execution_count": 17,
   "metadata": {},
   "outputs": [
    {
     "data": {
      "text/plain": [
       "((13, 4, 6, 120), (13, 4, 6, 120))"
      ]
     },
     "execution_count": 17,
     "metadata": {},
     "output_type": "execute_result"
    }
   ],
   "source": [
    "att.shape, coh.shape"
   ]
  },
  {
   "cell_type": "code",
   "execution_count": 18,
   "metadata": {},
   "outputs": [],
   "source": [
    "coh[coh == 2] = 1\n",
    "coh[coh == 1] = -1\n",
    "\n",
    "att[att == 1] = 1\n",
    "att[att == 2] = -1"
   ]
  },
  {
   "cell_type": "markdown",
   "metadata": {},
   "source": [
    "## Cache it"
   ]
  },
  {
   "cell_type": "code",
   "execution_count": 19,
   "metadata": {},
   "outputs": [
    {
     "data": {
      "text/plain": [
       "((13, 4, 6, 120), (13, 4, 6, 120), (13, 4, 6, 120), (13, 4, 6, 120))"
      ]
     },
     "execution_count": 19,
     "metadata": {},
     "output_type": "execute_result"
    }
   ],
   "source": [
    "stimulus.shape, att.shape, coh.shape, observation.shape"
   ]
  },
  {
   "cell_type": "code",
   "execution_count": 20,
   "metadata": {},
   "outputs": [
    {
     "data": {
      "text/plain": [
       "34521"
      ]
     },
     "execution_count": 20,
     "metadata": {},
     "output_type": "execute_result"
    }
   ],
   "source": [
    "# Total non nan responses\n",
    "len(observation.flatten()) - np.unique(observation, return_counts= 1)[1][-1]"
   ]
  },
  {
   "cell_type": "code",
   "execution_count": 21,
   "metadata": {},
   "outputs": [],
   "source": [
    "# Drop all \"too early\" trials:\n",
    "\n",
    "# valid_stimulus = stimulus[~np.isnan(observation)]\n",
    "# valid_att = att[~np.isnan(observation)]\n",
    "# valid_coh = coh[~np.isnan(observation)]\n",
    "\n",
    "# valid_stimulus.shape, valid_att.shape, valid_coh.shape"
   ]
  },
  {
   "cell_type": "code",
   "execution_count": 22,
   "metadata": {},
   "outputs": [
    {
     "data": {
      "text/plain": [
       "'209/312 trials contain nan values'"
      ]
     },
     "execution_count": 22,
     "metadata": {},
     "output_type": "execute_result"
    }
   ],
   "source": [
    "# check if there are any nan values\n",
    "tot_nan = 0\n",
    "for session in observation.reshape(-1, 120):\n",
    "    if np.isnan(session).any():\n",
    "        tot_nan += 1\n",
    "\n",
    "f\"{tot_nan}/312 trials contain nan values\""
   ]
  },
  {
   "cell_type": "code",
   "execution_count": 23,
   "metadata": {},
   "outputs": [],
   "source": [
    "# setting all observation with nan to -1 (no response)\n",
    "\n",
    "valid_observation = observation.reshape(-1, 120, 1)\n",
    "valid_observation[np.isnan(valid_observation)] = -1\n",
    "\n",
    "valid_stimulus = stimulus.reshape(-1, 120)\n",
    "valid_coh = coh.reshape(-1, 120)\n",
    "valid_att = att.reshape(-1, 120)"
   ]
  },
  {
   "cell_type": "code",
   "execution_count": 24,
   "metadata": {},
   "outputs": [
    {
     "data": {
      "text/plain": [
       "(312, 120, 3)"
      ]
     },
     "execution_count": 24,
     "metadata": {},
     "output_type": "execute_result"
    }
   ],
   "source": [
    "valid_design_matrix = np.stack([valid_stimulus, valid_coh, valid_att], axis=-1)\n",
    "valid_design_matrix.shape"
   ]
  },
  {
   "cell_type": "code",
   "execution_count": 25,
   "metadata": {},
   "outputs": [
    {
     "data": {
      "text/plain": [
       "(312, 120, 1)"
      ]
     },
     "execution_count": 25,
     "metadata": {},
     "output_type": "execute_result"
    }
   ],
   "source": [
    "valid_observation.shape"
   ]
  },
  {
   "cell_type": "code",
   "execution_count": 28,
   "metadata": {},
   "outputs": [],
   "source": [
    "# np.save(\"../cache/data_prep/observation.npy\", valid_observation)\n",
    "# np.save(\"../cache/data_prep/design_matrix.npy\", valid_design_matrix)"
   ]
  },
  {
   "cell_type": "code",
   "execution_count": null,
   "metadata": {},
   "outputs": [],
   "source": []
  }
 ],
 "metadata": {
  "kernelspec": {
   "display_name": "ssm",
   "language": "python",
   "name": "python3"
  },
  "language_info": {
   "codemirror_mode": {
    "name": "ipython",
    "version": 3
   },
   "file_extension": ".py",
   "mimetype": "text/x-python",
   "name": "python",
   "nbconvert_exporter": "python",
   "pygments_lexer": "ipython3",
   "version": "3.10.6"
  }
 },
 "nbformat": 4,
 "nbformat_minor": 2
}
