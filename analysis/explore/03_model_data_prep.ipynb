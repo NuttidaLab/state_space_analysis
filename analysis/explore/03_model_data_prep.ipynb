{
 "cells": [
  {
   "cell_type": "code",
   "execution_count": 105,
   "metadata": {},
   "outputs": [],
   "source": [
    "from scipy.io import loadmat\n",
    "from scipy.stats import circmean, circstd\n",
    "import numpy as np\n",
    "from tqdm import tqdm\n",
    "import matplotlib.pyplot as plt\n",
    "import pandas as pd\n",
    "\n",
    "from utils import validate_data"
   ]
  },
  {
   "cell_type": "markdown",
   "metadata": {},
   "source": [
    "## Loading all the data"
   ]
  },
  {
   "cell_type": "code",
   "execution_count": 106,
   "metadata": {},
   "outputs": [],
   "source": [
    "# Set in stone\n",
    "data_path = '../axej/'\n",
    "n_subjects = 13\n",
    "n_sessions = 4\n",
    "n_runs = 6\n",
    "n_trials = 120\n",
    "n_ts = 500\n",
    "\n",
    "exp_ts = 1000\n",
    "\n",
    "# noise frames = 0 to 220 (250 - 30)\n",
    "noise_thresh = 0.5\n",
    "noise_gap = 30\n",
    "\n",
    "\n",
    "experiment_orientations = [159, 123, 87, 51, 15]\n",
    "subjects = [\"01\", \"02\", \"03\", \"04\", \"05\", \"06\", \"07\", \"08\" ,\"09\", \"10\", \"11\", \"12\", \"14\"]\n",
    "\n",
    "def get_calib(subj, sess):\n",
    "    mat_contents = loadmat(data_path + f'AxeJEEG_Subj{subjects[subj]}_S{sess+1}_Cali1.mat.mat', struct_as_record=False, squeeze_me=True)\n",
    "    return mat_contents[\"p\"].__dict__\n",
    "\n",
    "def get_run(subj, sess, run):\n",
    "    mat_contents = loadmat(data_path + f'AxeJEEG_Subj{subjects[subj]}_S{sess+1}_Run{run+1}.mat.mat', struct_as_record=False, squeeze_me=True)\n",
    "    return mat_contents[\"p\"].__dict__"
   ]
  },
  {
   "cell_type": "code",
   "execution_count": 107,
   "metadata": {},
   "outputs": [
    {
     "name": "stderr",
     "output_type": "stream",
     "text": [
      "100%|██████████| 13/13 [00:01<00:00,  8.66it/s]\n"
     ]
    },
    {
     "data": {
      "text/plain": [
       "((13, 4, 6, 120, 500),\n",
       " (13, 4, 6, 120, 500),\n",
       " (13, 4, 6, 120),\n",
       " (13, 4, 6, 120),\n",
       " (13, 4, 6, 120),\n",
       " (13, 4, 6, 120),\n",
       " (13, 4, 6, 120))"
      ]
     },
     "execution_count": 107,
     "metadata": {},
     "output_type": "execute_result"
    }
   ],
   "source": [
    "# Get all run data\n",
    "# subjexts x sessions x runs\n",
    "jx = []\n",
    "jy = []\n",
    "stimdir = []\n",
    "tgonset = []\n",
    "\n",
    "# Attention (attCue): tr_foc = 1, tr_div = 2\n",
    "# Coherence (tgCoh): tr_lo = 1, tr_hi = 2\n",
    "# ExpOrientation (expOri): 1,2,3,4,5 -> 159, 123, 87, 51, 15\n",
    "att = []\n",
    "coh = []\n",
    "exp = []\n",
    "\n",
    "for subj in tqdm(range(n_subjects)):\n",
    "    for sess in range(n_sessions):\n",
    "        for run in range(n_runs):\n",
    "\n",
    "            data = get_run(subj, sess, run)\n",
    "            jx.append(data[\"joyx\"])\n",
    "            jy.append(data[\"joyy\"])\n",
    "            stimdir.append(data[\"stimDirREAL\"])\n",
    "\n",
    "            f_tgonset = data[\"f_precuedur\"] + data[\"f_cuedur\"]\n",
    "            tgonset.append(f_tgonset)\n",
    "\n",
    "            att.append(data[\"attCue\"])\n",
    "            coh.append(data[\"tgCoh\"])\n",
    "\n",
    "            try:\n",
    "                # print(data[\"expOri\"])\n",
    "                exp.append([experiment_orientations[data[\"expOri\"] - 1]]*n_trials)\n",
    "            except:\n",
    "                # print(\"No expOri\")\n",
    "                exp.append([np.nan]*n_trials)\n",
    "                \n",
    "\n",
    "# Shape the run data\n",
    "jx = np.array(jx, dtype=np.float64).reshape(n_subjects, n_sessions, n_runs, n_trials, n_ts)\n",
    "jy = np.array(jy, dtype=np.float64).reshape(n_subjects, n_sessions, n_runs, n_trials, n_ts)\n",
    "stimdir = np.array(stimdir).reshape(n_subjects, n_sessions, n_runs, n_trials)\n",
    "tgonset = np.array(tgonset).reshape(n_subjects, n_sessions, n_runs, n_trials)\n",
    "att = np.array(att, dtype=np.float64).reshape(n_subjects, n_sessions, n_runs, n_trials)\n",
    "coh = np.array(coh, dtype=np.float64).reshape(n_subjects, n_sessions, n_runs, n_trials)\n",
    "exp = np.array(exp, dtype=np.float64).reshape(n_subjects, n_sessions, n_runs, n_trials)\n",
    "\n",
    "jx.shape, jy.shape, stimdir.shape, tgonset.shape, att.shape, coh.shape, exp.shape"
   ]
  },
  {
   "cell_type": "markdown",
   "metadata": {},
   "source": [
    "## Logic for Getting Valid Trials:\n",
    "\n",
    "1. Get all the trials\n",
    "2. Align all target onset at 250 ts\n",
    "3. Get distance from center and angle from center\n",
    "4. If the distance moves <0.4 au n frames before target onset. Then that trial is \"too early\" and all response set nan.\n",
    "5. If ts has distance > 1 au then set its response angle to the last valid angle (if first, the nan) and set that distance to 1.\n",
    "6. get angle first distance = 1 a.u. instance after target onset. or if it never reaches 1, then angle at max distance after target onset. as the response angle."
   ]
  },
  {
   "cell_type": "code",
   "execution_count": 108,
   "metadata": {},
   "outputs": [],
   "source": [
    "shifted_jx, shifted_jy, dist_from_cent, resp_angle, final_resp_angles, final_resp_idx = validate_data(n_subjects, n_sessions, n_runs, n_trials, n_ts, exp_ts, jx, jy, tgonset, noise_thresh, noise_gap, do_noise_thresh=False)"
   ]
  },
  {
   "cell_type": "code",
   "execution_count": 109,
   "metadata": {},
   "outputs": [
    {
     "data": {
      "text/plain": [
       "((13, 4, 6, 120, 999),\n",
       " (13, 4, 6, 120, 999),\n",
       " (13, 4, 6, 120, 998),\n",
       " (13, 4, 6, 120, 998))"
      ]
     },
     "execution_count": 109,
     "metadata": {},
     "output_type": "execute_result"
    }
   ],
   "source": [
    "# Calculate the velocity and acceleration of the joystick\n",
    "\n",
    "# Velocity\n",
    "jx_vel = np.diff(shifted_jx, axis=-1)\n",
    "jy_vel = np.diff(shifted_jy, axis=-1)\n",
    "\n",
    "# Acceleration\n",
    "jx_acc = np.diff(jx_vel, axis=-1)\n",
    "jy_acc = np.diff(jy_vel, axis=-1)\n",
    "\n",
    "jx_vel.shape, jy_vel.shape, jx_acc.shape, jy_acc.shape"
   ]
  },
  {
   "cell_type": "code",
   "execution_count": 110,
   "metadata": {},
   "outputs": [
    {
     "data": {
      "image/png": "[encoded data removed]",
      "text/plain": [
       "<Figure size 640x480 with 1 Axes>"
      ]
     },
     "metadata": {},
     "output_type": "display_data"
    }
   ],
   "source": [
    "# Plot the velocity and acceleration of the joystick for visual inspection\n",
    "for subj in range(n_subjects):\n",
    "    for sess in range(n_sessions):\n",
    "        for run in range(n_runs):\n",
    "            for trial in range(n_trials):\n",
    "                plt.plot(jx[subj, sess, run, trial], label=\"jx\")\n",
    "                plt.plot(jy[subj, sess, run, trial], label=\"jy\")\n",
    "                plt.plot(shifted_jx[subj, sess, run, trial], label=\"shifted_jx\")\n",
    "                plt.plot(shifted_jy[subj, sess, run, trial], label=\"shifted_jy\")\n",
    "                plt.plot(jx_vel[subj, sess, run, trial], label=\"jx_vel\")\n",
    "                plt.plot(jy_vel[subj, sess, run, trial], label=\"jy_vel\")\n",
    "                plt.plot(jx_acc[subj, sess, run, trial], label=\"jx_acc\")\n",
    "                plt.plot(jy_acc[subj, sess, run, trial], label=\"jy_acc\")\n",
    "                plt.legend()\n",
    "                # x and y axis labels\n",
    "                plt.xlabel(\"Time (timesteps)\")\n",
    "                plt.ylabel(\"Position (pixels)\")\n",
    "                plt.title(\"Joystick data processing\")\n",
    "                plt.show()\n",
    "                break\n",
    "            break\n",
    "        break\n",
    "    break"
   ]
  },
  {
   "cell_type": "code",
   "execution_count": 111,
   "metadata": {},
   "outputs": [
    {
     "data": {
      "text/plain": [
       "((13, 4, 6, 120),\n",
       " (13, 4, 6, 120),\n",
       " (13, 4, 6, 120),\n",
       " (13, 4, 6, 120),\n",
       " (13, 4, 6, 120),\n",
       " (13, 4, 6, 120))"
      ]
     },
     "execution_count": 111,
     "metadata": {},
     "output_type": "execute_result"
    }
   ],
   "source": [
    "# Final response velocity and acceleration\n",
    "final_resp_loc_jx = np.zeros((n_subjects, n_sessions, n_runs, n_trials))\n",
    "final_resp_loc_jy = np.zeros((n_subjects, n_sessions, n_runs, n_trials))\n",
    "final_resp_vel_jx = np.zeros((n_subjects, n_sessions, n_runs, n_trials))\n",
    "final_resp_vel_jy = np.zeros((n_subjects, n_sessions, n_runs, n_trials))\n",
    "final_resp_acc_jx = np.zeros((n_subjects, n_sessions, n_runs, n_trials))\n",
    "final_resp_acc_jy = np.zeros((n_subjects, n_sessions, n_runs, n_trials))\n",
    "\n",
    "for subj in range(n_subjects):\n",
    "    for sess in range(n_sessions):\n",
    "        for run in range(n_runs):\n",
    "            for trial in range(n_trials):\n",
    "                final_resp_loc_jx[subj, sess, run, trial] = shifted_jx[subj, sess, run, trial, final_resp_idx[subj, sess, run, trial]]\n",
    "                final_resp_loc_jy[subj, sess, run, trial] = shifted_jy[subj, sess, run, trial, final_resp_idx[subj, sess, run, trial]]\n",
    "                final_resp_vel_jx[subj, sess, run, trial] = shifted_jx[subj, sess, run, trial, final_resp_idx[subj, sess, run, trial]]\n",
    "                final_resp_vel_jy[subj, sess, run, trial] = shifted_jy[subj, sess, run, trial, final_resp_idx[subj, sess, run, trial]]\n",
    "                final_resp_acc_jx[subj, sess, run, trial] = shifted_jy[subj, sess, run, trial, final_resp_idx[subj, sess, run, trial]]\n",
    "                final_resp_acc_jy[subj, sess, run, trial] = shifted_jy[subj, sess, run, trial, final_resp_idx[subj, sess, run, trial]]\n",
    "\n",
    "final_resp_vel_jx.shape, final_resp_vel_jy.shape, final_resp_acc_jx.shape, final_resp_acc_jy.shape, final_resp_loc_jx.shape, final_resp_loc_jy.shape"
   ]
  },
  {
   "cell_type": "code",
   "execution_count": 112,
   "metadata": {},
   "outputs": [
    {
     "name": "stdout",
     "output_type": "stream",
     "text": [
      "0 removed trials\n",
      "0.0 % removed trials\n"
     ]
    }
   ],
   "source": [
    "# Get all trials where angles are only nan\n",
    "nan_trials = np.where(np.isnan(resp_angle).all(axis=-1))\n",
    "print(nan_trials[0].shape[0], \"removed trials\")\n",
    "print(nan_trials[0].shape[0] / (n_subjects * n_sessions * n_runs * n_trials) * 100, \"% removed trials\")"
   ]
  },
  {
   "cell_type": "markdown",
   "metadata": {},
   "source": [
    "## Circular stat defs"
   ]
  },
  {
   "cell_type": "code",
   "execution_count": 113,
   "metadata": {},
   "outputs": [],
   "source": [
    "def circdist(a, b):\n",
    "    return min(abs(a-b), 360-abs(a-b))\n",
    "\n",
    "def circmedian(angs):\n",
    "    angs = np.array(angs)\n",
    "    angs = angs[~np.isnan(angs)]\n",
    "    pdists = angs[np.newaxis, :] - angs[:, np.newaxis]\n",
    "    pdists = (pdists + 180) % (2 * 180) - 180\n",
    "    pdists = np.abs(pdists).sum(1)\n",
    "    return angs[np.argmin(pdists)]"
   ]
  },
  {
   "cell_type": "code",
   "execution_count": 114,
   "metadata": {},
   "outputs": [],
   "source": [
    "calib_median = np.load(\"../analysis/cache/circ_median.npy\")\n",
    "median_key = {15:0, 51:1, 87:2, 123:3, 159:4}"
   ]
  },
  {
   "cell_type": "code",
   "execution_count": 115,
   "metadata": {},
   "outputs": [],
   "source": [
    "calib_std = np.load(\"../analysis/cache/circ_std.npy\")\n",
    "std_key = {15:0, 51:1, 87:2, 123:3, 159:4}"
   ]
  },
  {
   "cell_type": "markdown",
   "metadata": {},
   "source": [
    "## Design Matrix\n",
    "\n",
    "Things that are considered as u_t\n",
    "\n",
    "- Calibrated stimulus (median)\n",
    "- Coherece\n",
    "- Attention \n",
    "- Expectation\n",
    "\n",
    "compared:\n",
    "\n",
    "- bias"
   ]
  },
  {
   "cell_type": "code",
   "execution_count": 116,
   "metadata": {},
   "outputs": [],
   "source": [
    "stimulus = np.zeros((n_subjects, n_sessions, n_runs, n_trials))\n",
    "exp_cali = np.zeros((n_subjects, n_sessions, n_runs, n_trials))\n",
    "\n",
    "for subj in range(n_subjects):\n",
    "    for sess in range(n_sessions):\n",
    "        for run in range(n_runs):\n",
    "            for trial in range(n_trials):\n",
    "                target_key = median_key[stimdir[subj, sess, run, trial]]\n",
    "                stimulus[subj, sess, run, trial] = calib_median[subj, target_key]\n",
    "\n",
    "                exp_t = exp[subj, sess, run, trial]\n",
    "                if np.isnan(exp_t):\n",
    "                    exp_cali[subj, sess, run, trial] = np.nan\n",
    "                else:\n",
    "                    exp_key = median_key[exp_t]\n",
    "                    exp_cali[subj, sess, run, trial] = calib_median[subj, exp_key]"
   ]
  },
  {
   "cell_type": "markdown",
   "metadata": {},
   "source": [
    "#### Attention + Coherence + Expectation:"
   ]
  },
  {
   "cell_type": "code",
   "execution_count": 117,
   "metadata": {},
   "outputs": [],
   "source": [
    "# Coherence (tgCoh): tr_lo = 1, tr_hi = 2\n",
    "# coh = []\n",
    "\n",
    "# Attention (attCue): tr_foc = 1, tr_div = 2\n",
    "# att = []\n",
    "\n",
    "# ExpOrientation (expOri): 1,2,3,4,5 -> 159, 123, 87, 51, 15 -> calib_median\n",
    "# exp_cali = []"
   ]
  },
  {
   "cell_type": "code",
   "execution_count": 118,
   "metadata": {},
   "outputs": [
    {
     "data": {
      "text/plain": [
       "((13, 4, 6, 120), (13, 4, 6, 120), (13, 4, 6, 120))"
      ]
     },
     "execution_count": 118,
     "metadata": {},
     "output_type": "execute_result"
    }
   ],
   "source": [
    "coh.shape, att.shape, exp_cali.shape"
   ]
  },
  {
   "cell_type": "code",
   "execution_count": 119,
   "metadata": {},
   "outputs": [],
   "source": [
    "coh[coh == 1] = 0\n",
    "coh[coh == 2] = 1\n",
    "\n",
    "att[att == 1] = 1\n",
    "att[att == 2] = 0"
   ]
  },
  {
   "cell_type": "markdown",
   "metadata": {},
   "source": [
    "## Cleanup and standardization"
   ]
  },
  {
   "cell_type": "code",
   "execution_count": 120,
   "metadata": {},
   "outputs": [
    {
     "data": {
      "text/plain": [
       "((13, 4, 6, 120),\n",
       " (13, 4, 6, 120),\n",
       " (13, 4, 6, 120),\n",
       " (13, 4, 6, 120),\n",
       " (13, 4, 6, 120),\n",
       " (13, 4, 6, 120))"
      ]
     },
     "execution_count": 120,
     "metadata": {},
     "output_type": "execute_result"
    }
   ],
   "source": [
    "final_resp_vel_jx.shape, final_resp_vel_jy.shape, final_resp_acc_jx.shape, final_resp_acc_jy.shape, final_resp_loc_jx.shape, final_resp_loc_jy.shape"
   ]
  },
  {
   "cell_type": "code",
   "execution_count": 121,
   "metadata": {},
   "outputs": [
    {
     "data": {
      "text/plain": [
       "(13, 4, 6, 120)"
      ]
     },
     "execution_count": 121,
     "metadata": {},
     "output_type": "execute_result"
    }
   ],
   "source": [
    "stimulus.shape"
   ]
  },
  {
   "cell_type": "code",
   "execution_count": 122,
   "metadata": {},
   "outputs": [],
   "source": [
    "# make stimulus from angles 0to360 to x and y\n",
    "\n",
    "stimulus_x = np.cos(np.radians(stimulus))\n",
    "stimulus_y = np.sin(np.radians(stimulus))"
   ]
  },
  {
   "cell_type": "code",
   "execution_count": 123,
   "metadata": {},
   "outputs": [
    {
     "name": "stdout",
     "output_type": "stream",
     "text": [
      "-0.8278397329336239\n",
      "0.560964683894081\n",
      "145.8774616545835\n"
     ]
    },
    {
     "data": {
      "text/plain": [
       "(-1.0, 1.0)"
      ]
     },
     "execution_count": 123,
     "metadata": {},
     "output_type": "execute_result"
    },
    {
     "data": {
      "image/png": "[encoded data removed]",
      "text/plain": [
       "<Figure size 640x480 with 1 Axes>"
      ]
     },
     "metadata": {},
     "output_type": "display_data"
    }
   ],
   "source": [
    "# Sanity checking co-ordinate extraction\n",
    "\n",
    "# plot these for checking\n",
    "print(stimulus_x[0,0,0,0])\n",
    "print(stimulus_y[0,0,0,0])\n",
    "print(stimulus[0,0,0,0])\n",
    "\n",
    "# plot a line to sitm x and y from 0,0\n",
    "plt.plot([0, stimulus_x[0,0,0,0]], [0, stimulus_y[0,0,0,0]])\n",
    "plt.xlim(-1, 1)\n",
    "plt.ylim(-1, 1)"
   ]
  },
  {
   "cell_type": "code",
   "execution_count": 124,
   "metadata": {},
   "outputs": [],
   "source": [
    "# total variables\n",
    "# final_resp_loc_jx, final_resp_loc_jy,\n",
    "# final_resp_vel_jx, final_resp_vel_jy,\n",
    "# final_resp_acc_jx, final_resp_acc_jy,"
   ]
  },
  {
   "cell_type": "code",
   "execution_count": 125,
   "metadata": {},
   "outputs": [
    {
     "data": {
      "text/plain": [
       "((13, 4, 6, 120),\n",
       " (13, 4, 6, 120),\n",
       " (13, 4, 6, 120),\n",
       " (13, 4, 6, 120),\n",
       " (13, 4, 6, 120),\n",
       " (13, 4, 6, 120))"
      ]
     },
     "execution_count": 125,
     "metadata": {},
     "output_type": "execute_result"
    }
   ],
   "source": [
    "final_resp_vel_jx.shape, final_resp_vel_jy.shape, final_resp_acc_jx.shape, final_resp_acc_jy.shape, final_resp_loc_jx.shape, final_resp_loc_jy.shape"
   ]
  },
  {
   "cell_type": "code",
   "execution_count": 126,
   "metadata": {},
   "outputs": [
    {
     "data": {
      "text/plain": [
       "((13, 4, 6, 120), (13, 4, 6, 120))"
      ]
     },
     "execution_count": 126,
     "metadata": {},
     "output_type": "execute_result"
    }
   ],
   "source": [
    "coh.shape, att.shape"
   ]
  },
  {
   "cell_type": "code",
   "execution_count": 127,
   "metadata": {},
   "outputs": [
    {
     "data": {
      "text/plain": [
       "((13, 4, 6, 120), (13, 4, 6, 120))"
      ]
     },
     "execution_count": 127,
     "metadata": {},
     "output_type": "execute_result"
    }
   ],
   "source": [
    "stimulus_x.shape, stimulus_y.shape"
   ]
  },
  {
   "cell_type": "code",
   "execution_count": 128,
   "metadata": {},
   "outputs": [],
   "source": [
    "# All the data is now ready for the model\n",
    "total_data = np.stack([final_resp_loc_jx, final_resp_loc_jy, final_resp_vel_jx, final_resp_vel_jy, final_resp_acc_jx, final_resp_acc_jy, stimulus_x, stimulus_y, coh, att], axis=0)"
   ]
  },
  {
   "cell_type": "code",
   "execution_count": 129,
   "metadata": {},
   "outputs": [
    {
     "data": {
      "text/plain": [
       "(10, 13, 4, 6, 120)"
      ]
     },
     "execution_count": 129,
     "metadata": {},
     "output_type": "execute_result"
    }
   ],
   "source": [
    "total_data.shape"
   ]
  },
  {
   "cell_type": "code",
   "execution_count": 132,
   "metadata": {},
   "outputs": [
    {
     "name": "stdout",
     "output_type": "stream",
     "text": [
      "0\n",
      "[]\n",
      "0\n",
      "[]\n",
      "0\n",
      "[]\n",
      "0\n",
      "[]\n",
      "0\n",
      "[]\n",
      "0\n",
      "[]\n",
      "0\n",
      "[]\n",
      "0\n",
      "[]\n",
      "0\n",
      "[]\n",
      "0\n",
      "[]\n"
     ]
    }
   ],
   "source": [
    "# count nan\n",
    "# loop through all and print the nan count\n",
    "for i in range(total_data.shape[0]):\n",
    "    print(np.isnan(total_data[i]).sum())\n",
    "    # show the index of the nan\n",
    "    print(np.argwhere(np.isnan(total_data[i])))"
   ]
  },
  {
   "cell_type": "code",
   "execution_count": 133,
   "metadata": {},
   "outputs": [],
   "source": [
    "# save the data\n",
    "# np.save(\"../analysis/cache/total_data.npy\", total_data)"
   ]
  },
  {
   "cell_type": "code",
   "execution_count": null,
   "metadata": {},
   "outputs": [],
   "source": []
  },
  {
   "cell_type": "code",
   "execution_count": null,
   "metadata": {},
   "outputs": [],
   "source": []
  },
  {
   "cell_type": "code",
   "execution_count": null,
   "metadata": {},
   "outputs": [],
   "source": []
  },
  {
   "cell_type": "code",
   "execution_count": null,
   "metadata": {},
   "outputs": [],
   "source": []
  },
  {
   "cell_type": "code",
   "execution_count": 39,
   "metadata": {},
   "outputs": [
    {
     "data": {
      "text/plain": [
       "((13, 4, 5, 120),\n",
       " (13, 4, 5, 120),\n",
       " (13, 4, 5, 120),\n",
       " (13, 4, 5, 120),\n",
       " (260, 120),\n",
       " (260, 120, 4))"
      ]
     },
     "execution_count": 39,
     "metadata": {},
     "output_type": "execute_result"
    }
   ],
   "source": [
    "# Remove trials with no expectation manipulation\n",
    "\n",
    "exp_obs = final_resp_angles[:, :, :5, :].reshape(-1, 120)\n",
    "\n",
    "exp_stim = stimulus[:, :, :5, :]\n",
    "exp_coh = coh[:, :, :5, :]\n",
    "exp_att = att[:, :, :5, :]\n",
    "exp_exp = exp_cali[:, :, :5, :]\n",
    "\n",
    "exp_design_matrix = np.stack([exp_stim, exp_coh, exp_att, exp_exp], axis=-1).reshape(-1, 120, 4)\n",
    "\n",
    "exp_stim.shape, exp_coh.shape, exp_att.shape, exp_exp.shape, exp_obs.shape, exp_design_matrix.shape"
   ]
  },
  {
   "cell_type": "code",
   "execution_count": 19,
   "metadata": {},
   "outputs": [
    {
     "data": {
      "text/plain": [
       "((260, 120, 1), (260, 120, 4))"
      ]
     },
     "execution_count": 19,
     "metadata": {},
     "output_type": "execute_result"
    }
   ],
   "source": [
    "valid_obs = np.expand_dims(np.array(exp_obs), -1)\n",
    "valid_design = np.array(exp_design_matrix)\n",
    "\n",
    "valid_obs.shape, valid_design.shape"
   ]
  },
  {
   "cell_type": "code",
   "execution_count": 20,
   "metadata": {},
   "outputs": [],
   "source": [
    "# np.save(\"../analysis/cache/exp_obs.npy\", valid_obs)\n",
    "# np.save(\"../analysis/cache/exp_design.npy\", valid_design)"
   ]
  }
 ],
 "metadata": {
  "kernelspec": {
   "display_name": "ssm",
   "language": "python",
   "name": "python3"
  },
  "language_info": {
   "codemirror_mode": {
    "name": "ipython",
    "version": 3
   },
   "file_extension": ".py",
   "mimetype": "text/x-python",
   "name": "python",
   "nbconvert_exporter": "python",
   "pygments_lexer": "ipython3",
   "version": "3.10.6"
  }
 },
 "nbformat": 4,
 "nbformat_minor": 2
}
