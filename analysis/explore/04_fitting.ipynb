{
 "cells": [
  {
   "cell_type": "code",
   "execution_count": 1,
   "metadata": {},
   "outputs": [
    {
     "name": "stderr",
     "output_type": "stream",
     "text": [
      "WARNING: All log messages before absl::InitializeLog() is called are written to STDERR\n",
      "I0000 00:00:1725645768.220247  286664 tfrt_cpu_pjrt_client.cc:349] TfrtCpuClient created.\n",
      "No GPU/TPU found, falling back to CPU. (Set TF_CPP_MIN_LOG_LEVEL=0 and rerun for more info.)\n"
     ]
    }
   ],
   "source": [
    "from scipy import io\n",
    "from pathlib import Path\n",
    "\n",
    "import numpy as np\n",
    "# rng = np.random.default_rng()\n",
    "\n",
    "import jax.numpy as jnp\n",
    "import jax.random as jr\n",
    "\n",
    "import optax\n",
    "\n",
    "from collections import defaultdict\n",
    "import pickle as pkl\n",
    "\n",
    "import seaborn as sns\n",
    "import matplotlib.pyplot as plt\n",
    "import matplotlib.patches as mpatches\n",
    "\n",
    "from dynamax.hidden_markov_model import ET_HMM, E_HMM, T_HMM\n",
    "from dynamax.utils.plotting import gradient_cmap"
   ]
  },
  {
   "cell_type": "code",
   "execution_count": 2,
   "metadata": {},
   "outputs": [
    {
     "data": {
      "text/plain": [
       "((260, 120, 4), (260, 120, 1))"
      ]
     },
     "execution_count": 2,
     "metadata": {},
     "output_type": "execute_result"
    }
   ],
   "source": [
    "# Load calibrated design matrix and observation\n",
    "# design matrix:\n",
    "#   - 1st column: Stimulus (calibrated)\n",
    "#   - 2nd column: Coherence\n",
    "#   - 3rd column: Attention\n",
    "#   - 4th column: Expectation (calibrated)\n",
    "design_matrix = np.load(\"../analysis/cache/exp_design.npy\")\n",
    "observation = np.load(\"../analysis/cache/exp_obs.npy\")\n",
    "\n",
    "design_matrix.shape, observation.shape"
   ]
  },
  {
   "cell_type": "code",
   "execution_count": 3,
   "metadata": {},
   "outputs": [],
   "source": [
    "# Convert to radians\n",
    "design_matrix[:,:,0] = np.deg2rad(design_matrix[:,:,0])\n",
    "design_matrix[:,:,3] = np.deg2rad(design_matrix[:,:,3])\n",
    "\n",
    "observation = np.deg2rad(observation)\n",
    "\n",
    "# Add flat biases column\n",
    "flat_biases = np.ones_like(design_matrix[:,:,:1])\n",
    "design_matrix =  np.concatenate([design_matrix, flat_biases], axis=-1)"
   ]
  },
  {
   "cell_type": "code",
   "execution_count": 4,
   "metadata": {},
   "outputs": [],
   "source": [
    "# Shuffle data\n",
    "shuff_idx = np.random.permutation(len(design_matrix))\n",
    "\n",
    "design_matrix = design_matrix[shuff_idx]\n",
    "observation = observation[shuff_idx]"
   ]
  },
  {
   "cell_type": "code",
   "execution_count": 5,
   "metadata": {},
   "outputs": [],
   "source": [
    "# Split it 80:20 for training and testing\n",
    "\n",
    "train_idx = int(0.8 * len(design_matrix))\n",
    "\n",
    "train_design = design_matrix[:train_idx]\n",
    "train_obs = observation[:train_idx]\n",
    "\n",
    "test_design = design_matrix[train_idx:]\n",
    "test_obs = observation[train_idx:]"
   ]
  },
  {
   "cell_type": "code",
   "execution_count": 6,
   "metadata": {},
   "outputs": [],
   "source": [
    "# convert to jax arrays\n",
    "train_emissions = jnp.array(train_obs)\n",
    "train_inputs = jnp.array(train_design)"
   ]
  },
  {
   "cell_type": "code",
   "execution_count": 7,
   "metadata": {},
   "outputs": [],
   "source": [
    "# A training cache to store all the models and their parameters\n",
    "training_cache = defaultdict(dict)\n",
    "\n",
    "# DS to store the models organized\n",
    "class Model_Store:\n",
    "    n_states: int\n",
    "    fit_model: None\n",
    "    fit_params: None\n",
    "    lps: None"
   ]
  },
  {
   "cell_type": "code",
   "execution_count": 8,
   "metadata": {},
   "outputs": [],
   "source": [
    "def train_hmms(model_class, num_states, emission_dim, input_dim, train_emissions, train_inputs):\n",
    "    \n",
    "    model = model_class(num_states, input_dim, emission_dim)\n",
    "    parameters, properties = model.initialize(key=jr.PRNGKey(1))\n",
    "\n",
    "    # Fit with SGD\n",
    "    fit_params, lps = model.fit_sgd(params = parameters, \n",
    "                                    props = properties, \n",
    "                                    emissions = train_emissions, \n",
    "                                    inputs = train_inputs, \n",
    "                                    num_epochs = 5000, \n",
    "                                    optimizer = optax.adam(1e-4), \n",
    "                                    shuffle = False, \n",
    "                                    batch_size = 32)\n",
    "    \n",
    "    return model, fit_params, lps"
   ]
  },
  {
   "cell_type": "code",
   "execution_count": 9,
   "metadata": {},
   "outputs": [],
   "source": [
    "# for i in range(10):\n",
    "#     model, fit_params, lps = train_hmms(E_HMM, 2, 1, 5, train_emissions, train_inputs)\n",
    "#     print(f\"Model {i} trained - {lps[:10]}\")"
   ]
  },
  {
   "cell_type": "code",
   "execution_count": 10,
   "metadata": {},
   "outputs": [
    {
     "name": "stdout",
     "output_type": "stream",
     "text": [
      "Training: ET_HMM - 3 states\n",
      "[2.0024195 1.9983617 1.9943178 1.9902885 1.9862753 1.982278  1.9782981\n",
      " 1.9743353 1.9703901 1.9664623]\n",
      "Training: E_HMM - 3 states\n",
      "[2.0014584 1.9973913 1.9933379 1.9892995 1.9852773 1.9812715 1.9772825\n",
      " 1.9733113 1.9693574 1.9654208]\n",
      "Training: T_HMM - 3 states\n",
      "[2.005565  2.004551  2.0035405 2.0025337 2.0015306 2.0005314 1.9995363\n",
      " 1.9985449 1.9975579 1.9965748]\n"
     ]
    }
   ],
   "source": [
    "min_state, max_state = 3, 3\n",
    "emission_dim, input_dim = 1, 5\n",
    "\n",
    "for model_class in [ET_HMM, E_HMM, T_HMM]:\n",
    "\n",
    "    for num_states in range(min_state, max_state+1):\n",
    "        print(f'Training: {model_class.__name__} - {num_states} states')\n",
    "\n",
    "        model, fit_params, lps = train_hmms(model_class, num_states, emission_dim, input_dim, train_emissions, train_inputs)\n",
    "\n",
    "        print(f\"{lps[:10]}\")\n",
    "\n",
    "        t_store = Model_Store()\n",
    "        t_store.n_states = num_states\n",
    "        t_store.fit_model = model\n",
    "        t_store.fit_params = fit_params\n",
    "        t_store.lps = lps\n",
    "\n",
    "        training_cache[model_class.__name__][num_states] = t_store\n"
   ]
  },
  {
   "cell_type": "code",
   "execution_count": 12,
   "metadata": {},
   "outputs": [
    {
     "data": {
      "text/plain": [
       "ParamsET_HMM(initial=ParamsStandardHMMInitialState(probs=Array([0.20569214, 0.33288547, 0.46142238], dtype=float32)), transitions=ParamsET_Transitions(transition_matrix=Array([[0.15079704, 0.7906471 , 0.05855593],\n",
       "       [0.02953597, 0.7138907 , 0.2565734 ],\n",
       "       [0.01489414, 0.9704076 , 0.01469822]], dtype=float32), transition_weights=Array([[-0.00295883, -0.02011733,  0.00127638,  0.00208977, -0.01400751],\n",
       "       [-0.00447574,  0.00723497,  0.00549877, -0.01346807,  0.00572236],\n",
       "       [ 0.005439  , -0.00175116, -0.00196063, -0.00147497,  0.00494916]],      dtype=float32)), emissions=ParamsET_Emissions(weights=Array([[[ 0.9441166 ,  0.00499397,  0.02183866,  0.05175149,\n",
       "         -0.04561728]],\n",
       "\n",
       "       [[-0.03443658, -0.0204086 ,  0.04581711,  0.02254143,\n",
       "          0.9817551 ]],\n",
       "\n",
       "       [[-0.02108398,  0.05295916, -0.00896955,  0.00308305,\n",
       "          2.3185802 ]]], dtype=float32), covs=Array([[[43.99967  ]],\n",
       "\n",
       "       [[ 4.0123854]],\n",
       "\n",
       "       [[12.004267 ]]], dtype=float32)))"
      ]
     },
     "execution_count": 12,
     "metadata": {},
     "output_type": "execute_result"
    }
   ],
   "source": [
    "training_cache[\"ET_HMM\"][3].fit_params"
   ]
  },
  {
   "cell_type": "code",
   "execution_count": 13,
   "metadata": {},
   "outputs": [],
   "source": [
    "# training_cache[\"shuffle_idx\"] = shuff_idx\n",
    "\n",
    "# # Save the trained data so we dont have to train again and again\n",
    "# with open('training_cache_post.pkl', 'wb') as f:\n",
    "#     pkl.dump(training_cache, f)"
   ]
  }
 ],
 "metadata": {
  "kernelspec": {
   "display_name": "ssm",
   "language": "python",
   "name": "python3"
  },
  "language_info": {
   "codemirror_mode": {
    "name": "ipython",
    "version": 3
   },
   "file_extension": ".py",
   "mimetype": "text/x-python",
   "name": "python",
   "nbconvert_exporter": "python",
   "pygments_lexer": "ipython3",
   "version": "3.10.14"
  }
 },
 "nbformat": 4,
 "nbformat_minor": 2
}
