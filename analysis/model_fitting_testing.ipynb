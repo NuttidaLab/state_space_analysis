{
 "cells": [
  {
   "cell_type": "code",
   "execution_count": 1,
   "metadata": {},
   "outputs": [
    {
     "name": "stderr",
     "output_type": "stream",
     "text": [
      "An NVIDIA GPU may be present on this machine, but a CUDA-enabled jaxlib is not installed. Falling back to cpu.\n"
     ]
    }
   ],
   "source": [
    "from scipy import io\n",
    "from pathlib import Path\n",
    "\n",
    "import numpy as np\n",
    "rng = np.random.default_rng()\n",
    "\n",
    "import jax.numpy as jnp\n",
    "import jax.random as jr\n",
    "\n",
    "import optax\n",
    "\n",
    "import seaborn as sns\n",
    "import matplotlib.pyplot as plt\n",
    "import matplotlib.patches as mpatches\n",
    "\n",
    "from dynamax.hidden_markov_model import ET_HMM, E_HMM, T_HMM, CircularRegressionBiasedHMM\n",
    "from dynamax.utils.plotting import gradient_cmap"
   ]
  },
  {
   "cell_type": "markdown",
   "metadata": {},
   "source": [
    "## Utility"
   ]
  },
  {
   "cell_type": "code",
   "execution_count": 2,
   "metadata": {},
   "outputs": [],
   "source": [
    "sns.set_style(\"white\")\n",
    "sns.set_context(\"talk\")\n",
    "\n",
    "color_names = [\n",
    "    \"windows blue\",\n",
    "    \"red\",\n",
    "    \"amber\",\n",
    "    \"faded green\",\n",
    "    \"dusty purple\",\n",
    "    \"orange\",\n",
    "    \"brown\",\n",
    "    \"pink\",\n",
    "    \"greyish\",\n",
    "    \"light blue\",\n",
    "    \"green\",\n",
    "    \"yellow\",\n",
    "]\n",
    "\n",
    "colors = sns.xkcd_palette(color_names)\n",
    "cmap = gradient_cmap(colors)"
   ]
  },
  {
   "cell_type": "code",
   "execution_count": 3,
   "metadata": {},
   "outputs": [],
   "source": [
    "def plot_emissions_and_states(emissions, design, most_likely_states, posterior, cmap, colors):\n",
    "    # print(\"emmissions shape\", emissions.shape)\n",
    "    # print(\"design shape\", design.shape)\n",
    "\n",
    "    emission_dim = emissions.shape[-1]\n",
    "    time_bins = emissions.shape[0]\n",
    "    state_probability_spread = posterior.smoothed_probs.T\n",
    "    lim = 1.1 * max(abs(emissions).max(), 1)\n",
    "\n",
    "    plt.figure(figsize=(12, 10))\n",
    "    plt.suptitle(\"Emissions and Inferred States\", y=1.01)\n",
    "\n",
    "    # Plot number 1\n",
    "    plt.subplot(311)\n",
    "\n",
    "    im = plt.imshow(most_likely_states[None, :],\n",
    "        aspect=\"auto\",\n",
    "        cmap=cmap,\n",
    "        vmin=0,\n",
    "        vmax=len(colors) - 1,\n",
    "        extent=(0, time_bins, 0, np.pi)\n",
    "    )\n",
    "\n",
    "    values = np.unique(most_likely_states.ravel())\n",
    "    colors_x = [ im.cmap(im.norm(value)) for value in values]\n",
    "    patches = [ mpatches.Patch(color=colors_x[i], label=f\"State {values[i] + 1}\") for i in range(len(values)) ]\n",
    "    plt.legend(handles=patches, bbox_to_anchor=(1.05, 1), loc=2, borderaxespad=0., title=\"Most Likely Z\")\n",
    "\n",
    "    # emissions line\n",
    "    for d in range(emission_dim):\n",
    "        plt.plot(emissions[:,d], '-ko')\n",
    "\n",
    "    plt.yticks(ticks=[0, np.pi/2, np.pi], labels=[0, \"$\\pi/2$\", \"$\\pi$\"])\n",
    "\n",
    "\n",
    "    # Plot number 2\n",
    "    plt.subplot(312)\n",
    "    im2 = plt.imshow(most_likely_states[None, :],\n",
    "        aspect=\"auto\",\n",
    "        cmap=cmap,\n",
    "        vmin=0,\n",
    "        vmax=len(colors) - 1,\n",
    "        extent=(0, time_bins, 0, np.pi)\n",
    "    )\n",
    "\n",
    "    # plt.plot(design, '-ko')\n",
    "    # plot this but each line is a different color\n",
    "    # line_colors = [\"red\", \"blue\", \"green\", \"orange\"]\n",
    "    # Rare colors\n",
    "    line_colors = [\"#FF5733\", \"#33FF57\", \"#5733FF\", \"#528003\", \"#FF33E6\"]\n",
    "    for line in range(design.shape[1]):\n",
    "        plt.plot(design[:, line], '--x', color=line_colors[line])\n",
    "\n",
    "    plt.legend([\"Target\", \"Focused\", \"High Coh\", \"Expc\"], bbox_to_anchor=(1.05, 1))\n",
    "\n",
    "    plt.yticks(ticks=[0, np.pi/2, np.pi], labels=[0, \"$\\pi/2$\", \"$\\pi$\"])\n",
    "\n",
    "\n",
    "    # Plot number 3\n",
    "    plt.subplot(313)\n",
    "    plt.imshow(state_probability_spread, aspect=\"auto\", interpolation=\"none\", cmap=\"Greys\", vmin=0, vmax=1)\n",
    "    plt.ylabel(\"$z_{\\\\mathrm{inferred}}$\")\n",
    "    plt.yticks(ticks=range(state_probability_spread.shape[0]), labels=np.array(range(state_probability_spread.shape[0])) + 1)\n",
    "    plt.xlabel(\"time\")\n",
    "\n",
    "    plt.show()\n",
    "    # plt.savefig(\"factors_affecting.eps\", format=\"eps\")\n",
    "\n",
    "def plot_lps(lps): \n",
    "    plt.figure(figsize=(6, 3))\n",
    "    # true_lp = true_arhmm.marginal_log_prob(true_params, emissions, inputs=inputs)\n",
    "    plt.plot(lps, label=\"EM\")\n",
    "    # plt.plot(true_lp * jnp.ones(len(lps)), ':k', label=\"True\")\n",
    "    plt.xlabel(\"EM Iteration\")\n",
    "    plt.ylabel(\"Log Probability\")\n",
    "    plt.legend(loc=\"lower right\")\n",
    "    plt.show()\n",
    "\n",
    "def plot_validation(cross_valids, show_var = True, max_states = 7):\n",
    "    avg_val_lls = cross_valids.mean(axis=1)\n",
    "    plt.plot(range(2, max_states), avg_val_lls, '-ko')\n",
    "    if show_var:\n",
    "        for k, per_fold_val_lls in zip(range(2, max_states), cross_valids):\n",
    "            plt.plot(k * jnp.ones_like(per_fold_val_lls), per_fold_val_lls, '.')\n",
    "    plt.xticks(range(2, max_states))\n",
    "    plt.xlabel(\"num states ($K$)\")\n",
    "    plt.ylabel(\"avg. validation log prob.\")\n",
    "    # plt.savefig(\"cross_val.eps\", format=\"eps\")\n",
    "    plt.show()"
   ]
  },
  {
   "cell_type": "markdown",
   "metadata": {},
   "source": [
    "## Loading Data"
   ]
  },
  {
   "cell_type": "code",
   "execution_count": 4,
   "metadata": {},
   "outputs": [],
   "source": [
    "design_matrix = np.load(\"../analysis/cache/exp_design.npy\")\n",
    "observation = np.load(\"../analysis/cache/exp_obs.npy\")\n",
    "\n",
    "design_matrix.shape, observation.shape\n",
    "\n",
    "# design_matrix = design_matrix[:260]\n",
    "# observation = observation[:260]\n",
    "\n",
    "design_matrix[:,:,0] = np.deg2rad(design_matrix[:,:,0])\n",
    "design_matrix[:,:,3] = np.deg2rad(design_matrix[:,:,3])\n",
    "\n",
    "flat_biases = np.ones_like(design_matrix[:,:,:1])\n",
    "design_matrix =  np.concatenate([design_matrix, flat_biases], axis=-1)"
   ]
  },
  {
   "cell_type": "code",
   "execution_count": 5,
   "metadata": {},
   "outputs": [],
   "source": [
    "\n",
    "\n",
    "\n",
    "shuff_idx = np.random.permutation(len(design_matrix))\n",
    "\n",
    "design_matrix = design_matrix[shuff_idx]\n",
    "observation = observation[shuff_idx]\n",
    "\n",
    "observation = np.deg2rad(observation)"
   ]
  },
  {
   "cell_type": "code",
   "execution_count": null,
   "metadata": {},
   "outputs": [],
   "source": []
  },
  {
   "cell_type": "code",
   "execution_count": 6,
   "metadata": {},
   "outputs": [],
   "source": [
    "# Split it 80:20 for training and testing\n",
    "\n",
    "train_idx = int(0.8 * len(design_matrix))\n",
    "\n",
    "train_design = design_matrix[:train_idx]\n",
    "train_obs = observation[:train_idx]\n",
    "\n",
    "test_design = design_matrix[train_idx:]\n",
    "test_obs = observation[train_idx:]"
   ]
  },
  {
   "cell_type": "code",
   "execution_count": 7,
   "metadata": {},
   "outputs": [
    {
     "data": {
      "text/plain": [
       "((208, 120, 5), (208, 120, 1), (52, 120, 5), (52, 120, 1))"
      ]
     },
     "execution_count": 7,
     "metadata": {},
     "output_type": "execute_result"
    }
   ],
   "source": [
    "train_design.shape, train_obs.shape, test_design.shape, test_obs.shape"
   ]
  },
  {
   "cell_type": "code",
   "execution_count": 8,
   "metadata": {},
   "outputs": [],
   "source": [
    "# Repeat training data multiple times and shuffle them\n",
    "\n",
    "# train_design = np.repeat(train_design, 10, axis=0)\n",
    "# train_obs = np.repeat(train_obs, 10, axis=0)\n",
    "\n",
    "# shuff_idx = np.random.permutation(len(train_design))\n",
    "\n",
    "# train_design = train_design[shuff_idx]\n",
    "# train_obs = train_obs[shuff_idx]"
   ]
  },
  {
   "cell_type": "code",
   "execution_count": 9,
   "metadata": {},
   "outputs": [
    {
     "data": {
      "text/plain": [
       "((208, 120, 5), (208, 120, 1))"
      ]
     },
     "execution_count": 9,
     "metadata": {},
     "output_type": "execute_result"
    }
   ],
   "source": [
    "train_design.shape, train_obs.shape"
   ]
  },
  {
   "cell_type": "code",
   "execution_count": 10,
   "metadata": {},
   "outputs": [],
   "source": [
    "# convert to jax\n",
    "train_emissions = jnp.array(train_obs)\n",
    "train_inputs = jnp.array(train_design)"
   ]
  },
  {
   "cell_type": "markdown",
   "metadata": {},
   "source": [
    "## Fitting"
   ]
  },
  {
   "cell_type": "code",
   "execution_count": 11,
   "metadata": {},
   "outputs": [],
   "source": [
    "def train_arhmm(num_states, emission_dim, input_dim, train_emissions, train_inputs):\n",
    "    # Initialize with K-Means\n",
    "    lrhmm = ET_HMM(num_states, input_dim, emission_dim)\n",
    "    params, props = lrhmm.initialize(key=jr.PRNGKey(1))\n",
    "\n",
    "    # Fit with EM\n",
    "    fitted_params, lps = lrhmm.fit_sgd(params, props, train_emissions, num_epochs = 10000 , inputs=train_inputs, optimizer=optax.adam(1e-4), shuffle=False, batch_size=64)\n",
    "    # fitted_params, lps = lrhmm.fit_em(params, props, train_emissions, num_iters = 200 , inputs=train_inputs)\n",
    "\n",
    "    return lrhmm, fitted_params, lps"
   ]
  },
  {
   "cell_type": "code",
   "execution_count": 12,
   "metadata": {},
   "outputs": [
    {
     "name": "stdout",
     "output_type": "stream",
     "text": [
      "Training: 2 states\n"
     ]
    }
   ],
   "source": [
    "all_models, all_params, all_lps = [], [], []\n",
    "\n",
    "input_dim = 5\n",
    "emission_dim = 1\n",
    "\n",
    "min_state = 2\n",
    "max_state = 3\n",
    "\n",
    "for num_states in range(min_state, max_state):\n",
    "    print(f'Training: {num_states} states')\n",
    "    arhmm, fitted_params, lps = train_arhmm(num_states, emission_dim, input_dim, train_emissions, train_inputs)\n",
    "    all_models.append(arhmm)\n",
    "    all_params.append(fitted_params)\n",
    "    all_lps.append(lps)\n",
    "\n",
    "\n",
    "# log_likelihoods.shape (120, 2, 1)\n",
    "    \n",
    "# (0.0, Traced<ShapedArray(float32[2])>with<DynamicJaxprTrace(level=6/0)>)\n",
    "# Traced<ShapedArray(int32[120])>with<DynamicJaxprTrace(level=6/0)>"
   ]
  },
  {
   "cell_type": "code",
   "execution_count": 13,
   "metadata": {},
   "outputs": [
    {
     "data": {
      "text/plain": [
       "Array([1.9825556, 1.980359 , 1.9781661, ..., 1.0841352, 1.0841352,\n",
       "       1.0841353], dtype=float32)"
      ]
     },
     "execution_count": 13,
     "metadata": {},
     "output_type": "execute_result"
    }
   ],
   "source": [
    "all_lps[0]"
   ]
  },
  {
   "cell_type": "code",
   "execution_count": 14,
   "metadata": {},
   "outputs": [
    {
     "data": {
      "text/plain": [
       "Text(0, 0.5, 'Loss')"
      ]
     },
     "execution_count": 14,
     "metadata": {},
     "output_type": "execute_result"
    },
    {
     "data": {
      "image/png": "[encoded data removed]",
      "text/plain": [
       "<Figure size 800x600 with 1 Axes>"
      ]
     },
     "metadata": {},
     "output_type": "display_data"
    }
   ],
   "source": [
    "# SGD\n",
    "plt.figure(figsize=(8, 6))\n",
    "\n",
    "for x in all_lps:\n",
    "    plt.plot(x, \"--\")\n",
    "plt.legend(range(min_state, max_state))\n",
    "# plt.ylim(-2, 2)\n",
    "plt.xlim(0, 10000)\n",
    "plt.title(\"SGD Loss\")\n",
    "plt.xlabel(\"Epoch\")\n",
    "plt.ylabel(\"Loss\")\n",
    "# plt.savefig(\"sgd_loss.eps\", format=\"eps\")"
   ]
  },
  {
   "cell_type": "code",
   "execution_count": 15,
   "metadata": {},
   "outputs": [],
   "source": [
    "# for x in all_lps:\n",
    "#     plt.plot(x, \"-\")\n",
    "# plt.legend(range(min_state, max_state))\n",
    "# # plt.ylim(25000, 37000)\n",
    "# plt.xlim(0, 200)\n",
    "\n",
    "# plt.title(\"Expectation Maximization across states\")\n",
    "# plt.xlabel(\"Epoch\")\n",
    "# plt.ylabel(\"Log Likelihood\")"
   ]
  },
  {
   "cell_type": "code",
   "execution_count": 16,
   "metadata": {},
   "outputs": [],
   "source": [
    "def cross_validate(all_models, all_params, emissions, inputs):\n",
    "    cross_valids = []\n",
    "\n",
    "    for model_idx in range(len(all_models)):\n",
    "        print(f'Cross Validating: {model_idx} model')\n",
    "        state_log_probs = []\n",
    "        for validation_idx in range(len(emissions)):\n",
    "            log_prob = all_models[model_idx].marginal_log_prob(all_params[model_idx], emissions[validation_idx], inputs=inputs[validation_idx])\n",
    "            state_log_probs.append(float(log_prob))\n",
    "        cross_valids.append(state_log_probs)\n",
    "\n",
    "    return np.array(cross_valids)"
   ]
  },
  {
   "cell_type": "code",
   "execution_count": 17,
   "metadata": {},
   "outputs": [
    {
     "name": "stdout",
     "output_type": "stream",
     "text": [
      "Cross Validating: 0 model\n"
     ]
    }
   ],
   "source": [
    "# cross_train = cross_validate(all_models, all_params, train_emissions, train_design)\n",
    "cross_train = cross_validate(all_models, all_params, test_obs, test_design)\n"
   ]
  },
  {
   "cell_type": "code",
   "execution_count": null,
   "metadata": {},
   "outputs": [],
   "source": []
  },
  {
   "cell_type": "code",
   "execution_count": null,
   "metadata": {},
   "outputs": [],
   "source": []
  },
  {
   "cell_type": "code",
   "execution_count": 18,
   "metadata": {},
   "outputs": [
    {
     "data": {
      "image/png": "[encoded data removed]",
      "text/plain": [
       "<Figure size 640x480 with 1 Axes>"
      ]
     },
     "metadata": {},
     "output_type": "display_data"
    }
   ],
   "source": [
    "plot_validation(cross_valids=cross_train, show_var=False, max_states=max_state) "
   ]
  },
  {
   "cell_type": "code",
   "execution_count": 19,
   "metadata": {},
   "outputs": [
    {
     "data": {
      "text/plain": [
       "array([[-138.48643494, -117.08281708,  -89.31720734, -124.66958618,\n",
       "        -152.88771057, -178.04905701, -136.81021118, -123.22232056,\n",
       "        -116.65106964, -141.5750885 ,  -89.84317017, -103.20593262,\n",
       "        -117.54076385, -109.07196045, -145.90446472, -156.27546692,\n",
       "        -176.97486877, -124.52042389, -148.10006714, -141.05058289,\n",
       "        -148.91648865, -121.6023407 ,  -99.63342285, -155.52549744,\n",
       "        -195.11022949, -152.34526062, -117.79919434, -131.74829102,\n",
       "        -183.67414856, -113.70204926,  -90.14568329, -103.41968536,\n",
       "        -135.32409668, -139.26931763, -142.86392212, -107.36914825,\n",
       "        -130.35096741, -144.99589539, -134.2755127 , -132.13505554,\n",
       "        -180.85908508, -164.01887512, -122.98738098, -156.73240662,\n",
       "        -209.89602661, -110.60729218, -120.4900589 , -200.40539551,\n",
       "        -126.48019409, -115.55518341, -127.52593231, -129.69657898]])"
      ]
     },
     "execution_count": 19,
     "metadata": {},
     "output_type": "execute_result"
    }
   ],
   "source": [
    "cross_train"
   ]
  },
  {
   "cell_type": "code",
   "execution_count": 20,
   "metadata": {},
   "outputs": [],
   "source": [
    "# np.save(\"cross_test.npy\", cross_train)"
   ]
  },
  {
   "cell_type": "code",
   "execution_count": 21,
   "metadata": {},
   "outputs": [
    {
     "name": "stderr",
     "output_type": "stream",
     "text": [
      "/tmp/ipykernel_34072/2705444555.py:2: UserWarning: set_ticklabels() should only be used with a fixed number of ticks, i.e. after set_ticks() or using a FixedLocator.\n",
      "  ax.set_xticklabels(range(min_state, max_state))\n"
     ]
    },
    {
     "data": {
      "text/plain": [
       "Text(0, 0.5, 'Validation Log Probability')"
      ]
     },
     "execution_count": 21,
     "metadata": {},
     "output_type": "execute_result"
    },
    {
     "data": {
      "image/png": "[encoded data removed]",
      "text/plain": [
       "<Figure size 640x480 with 1 Axes>"
      ]
     },
     "metadata": {},
     "output_type": "display_data"
    }
   ],
   "source": [
    "ax = sns.boxplot(data=cross_train.T)\n",
    "ax.set_xticklabels(range(min_state, max_state))\n",
    "plt.xlabel(\"# States\")\n",
    "plt.ylabel(\"Validation Log Probability\")\n",
    "# plt.savefig(\"validation_box.eps\", format=\"eps\")"
   ]
  },
  {
   "cell_type": "code",
   "execution_count": null,
   "metadata": {},
   "outputs": [],
   "source": []
  },
  {
   "cell_type": "code",
   "execution_count": null,
   "metadata": {},
   "outputs": [],
   "source": []
  },
  {
   "cell_type": "code",
   "execution_count": null,
   "metadata": {},
   "outputs": [],
   "source": []
  },
  {
   "cell_type": "code",
   "execution_count": 22,
   "metadata": {},
   "outputs": [],
   "source": [
    "# np.save(\"../cache/cross_valid.npy\", cross_train)"
   ]
  },
  {
   "cell_type": "code",
   "execution_count": 23,
   "metadata": {},
   "outputs": [],
   "source": [
    "# temp = np.load(\"../cache/cross_valid.npy\")\n",
    "# temp.shape"
   ]
  },
  {
   "cell_type": "code",
   "execution_count": 24,
   "metadata": {},
   "outputs": [],
   "source": [
    "# def inspect_sample(model_idx, em_idx):\n",
    "#     most_likely_states = all_models[model_idx].most_likely_states(all_params[model_idx], train_emissions[em_idx], inputs=train_inputs[em_idx])\n",
    "#     posterior = all_models[model_idx].smoother(all_params[model_idx], train_emissions[em_idx], inputs=train_inputs[em_idx])\n",
    "#     plot_emissions_and_states(train_emissions[em_idx], most_likely_states, posterior, cmap, colors)\n",
    "\n",
    "# for i in range(2):\n",
    "#     inspect_sample(5-2, i)"
   ]
  },
  {
   "cell_type": "code",
   "execution_count": 25,
   "metadata": {},
   "outputs": [],
   "source": [
    "# print(\"transitions\", p_fourth.transitions.transition_matrix)\n",
    "# print(\"weights\", p_fourth.emissions.weights)\n",
    "# print(\"biases\", p_fourth.emissions.biases)\n",
    "# print(\"covs\", p_fourth.emissions.covs)"
   ]
  },
  {
   "cell_type": "code",
   "execution_count": 26,
   "metadata": {},
   "outputs": [
    {
     "ename": "IndexError",
     "evalue": "list index out of range",
     "output_type": "error",
     "traceback": [
      "\u001b[0;31m---------------------------------------------------------------------------\u001b[0m",
      "\u001b[0;31mIndexError\u001b[0m                                Traceback (most recent call last)",
      "Cell \u001b[0;32mIn[26], line 3\u001b[0m\n\u001b[1;32m      1\u001b[0m model_to_check \u001b[38;5;241m=\u001b[39m \u001b[38;5;241m3\u001b[39m\n\u001b[0;32m----> 3\u001b[0m fourth \u001b[38;5;241m=\u001b[39m \u001b[43mall_models\u001b[49m\u001b[43m[\u001b[49m\u001b[43mmodel_to_check\u001b[49m\u001b[43m \u001b[49m\u001b[38;5;241;43m-\u001b[39;49m\u001b[43m \u001b[49m\u001b[38;5;241;43m2\u001b[39;49m\u001b[43m]\u001b[49m\n\u001b[1;32m      4\u001b[0m p_fourth \u001b[38;5;241m=\u001b[39m all_params[model_to_check \u001b[38;5;241m-\u001b[39m \u001b[38;5;241m2\u001b[39m]\n\u001b[1;32m      6\u001b[0m curr_states \u001b[38;5;241m=\u001b[39m model_to_check\n",
      "\u001b[0;31mIndexError\u001b[0m: list index out of range"
     ]
    }
   ],
   "source": [
    "model_to_check = 3\n",
    "\n",
    "fourth = all_models[model_to_check - 2]\n",
    "p_fourth = all_params[model_to_check - 2]\n",
    "\n",
    "curr_states = model_to_check\n",
    "\n",
    "# Plot MLE parameters:\n",
    "fig = plt.figure(figsize=(12*1.5, 4*1.5), dpi=300, facecolor='w', edgecolor='k')\n",
    "plt.subplot(1, 2, 1)\n",
    "cols = colors\n",
    "for k in range(curr_states):\n",
    "    plt.plot(range(input_dim), p_fourth.emissions.weights[k][0], marker='o',\n",
    "             color=cols[k], linestyle='-',\n",
    "             lw=1.5, label=\"state \" + str(k+1))\n",
    "\n",
    "# for k in range(curr_states):\n",
    "#     plt.plot(range(input_dim), p_fourth.emissions.weights[k][0] + p_fourth.emissions.biases[k], marker='x',\n",
    "#              color=cols[k], linestyle='--', alpha = 0.5,\n",
    "#              lw=1.5, label=f\"state {k+1} + bias\")\n",
    "\n",
    "plt.yticks(fontsize=15)\n",
    "plt.ylabel(\"weight\", fontsize=15)\n",
    "plt.xlabel(\"input\", fontsize=15)\n",
    "# plt.xticks([0, 1, 2, 3], ['target', 'coherance', 'focus', 'bias (0)'], fontsize=10, rotation=45)\n",
    "plt.xticks([0, 1, 2, 3, 4], ['Calibrated \\nTarget', 'High coh', 'Focused', 'Exp Ori', \"Bias\"], fontsize=15, rotation=0)\n",
    "plt.axhline(y=0, color=\"k\", alpha=0.5, ls=\"--\")\n",
    "# transparant boundery for legend\n",
    "plt.legend(framealpha = 0, fontsize=10)\n",
    "plt.title(\"State weights\", fontsize = 15)\n",
    "\n",
    "\n",
    "\n",
    "\n",
    "plt.subplot(1, 2, 2)\n",
    "gen_trans_mat = p_fourth.transitions.transition_matrix\n",
    "sns.heatmap(gen_trans_mat, annot=True, linewidths=1, linecolor='white')\n",
    "# put the ticks \n",
    "plt.xticks(np.arange(curr_states) + 0.5, np.arange(curr_states) + 1, fontsize=15)\n",
    "plt.yticks(np.arange(curr_states) + 0.5, np.arange(curr_states) + 1, fontsize=15)\n",
    "# set font size of heatmap annotations\n",
    "plt.ylabel(\"state t\", fontsize = 15)\n",
    "plt.xlabel(\"state t+1\", fontsize = 15)\n",
    "plt.title(\"transition matrix\", fontsize = 15)\n",
    "\n",
    "# bias = p_fourth.emissions.biases.reshape(-1).tolist()\n",
    "covs = p_fourth.emissions.covs.reshape(-1).tolist()\n",
    "\n",
    "for i in range(curr_states):\n",
    "    print(\"| state\", i+1, \"| covs\", covs[i], \"|\")\n",
    "    # print(\"| state\", i+1, \"| bias\", bias[i], \"| covs\", covs[i], \"|\")\n",
    "    print(\"-\"*50)\n",
    "\n",
    "# plt.savefig(\"state_weights.eps\", format=\"eps\")"
   ]
  },
  {
   "cell_type": "code",
   "execution_count": null,
   "metadata": {},
   "outputs": [],
   "source": [
    "p_fourth.emissions.weights"
   ]
  },
  {
   "cell_type": "code",
   "execution_count": null,
   "metadata": {},
   "outputs": [],
   "source": [
    "p_fourth.transitions.transition_matrix"
   ]
  },
  {
   "cell_type": "code",
   "execution_count": null,
   "metadata": {},
   "outputs": [],
   "source": [
    "sns.heatmap(p_fourth.transitions.transition_matrix, annot=True, linewidths=1, linecolor='white')"
   ]
  },
  {
   "cell_type": "code",
   "execution_count": null,
   "metadata": {},
   "outputs": [],
   "source": []
  },
  {
   "cell_type": "code",
   "execution_count": null,
   "metadata": {},
   "outputs": [],
   "source": [
    "tw = p_fourth.transitions.transition_weights"
   ]
  },
  {
   "cell_type": "code",
   "execution_count": null,
   "metadata": {},
   "outputs": [],
   "source": [
    "tw"
   ]
  },
  {
   "cell_type": "code",
   "execution_count": null,
   "metadata": {},
   "outputs": [],
   "source": [
    "sns.lineplot(tw.T)"
   ]
  },
  {
   "cell_type": "code",
   "execution_count": null,
   "metadata": {},
   "outputs": [],
   "source": []
  },
  {
   "cell_type": "code",
   "execution_count": null,
   "metadata": {},
   "outputs": [],
   "source": [
    "model_to_check, test_obs.shape"
   ]
  },
  {
   "cell_type": "code",
   "execution_count": null,
   "metadata": {},
   "outputs": [],
   "source": [
    "model_idx = model_to_check-2\n",
    "all_posteriors = []\n",
    "\n",
    "for em_idx in range(train_emissions.shape[0]):\n",
    "    most_likely_states = all_models[model_idx].most_likely_states(all_params[model_idx], train_emissions[em_idx], inputs=train_inputs[em_idx])\n",
    "    posterior = all_models[model_idx].smoother(all_params[model_idx], train_emissions[em_idx], inputs=train_inputs[em_idx])\n",
    "    all_posteriors.append(posterior.predicted_probs)"
   ]
  },
  {
   "cell_type": "code",
   "execution_count": null,
   "metadata": {},
   "outputs": [],
   "source": [
    "avg_sess = np.array(all_posteriors).mean(axis=0)\n",
    "std_sess = np.array(all_posteriors).std(axis=0)\n",
    "\n",
    "avg_sess.shape, std_sess.shape"
   ]
  },
  {
   "cell_type": "code",
   "execution_count": null,
   "metadata": {},
   "outputs": [],
   "source": [
    "plt.figure(figsize=(6, 4))\n",
    "\n",
    "K = model_to_check\n",
    "total_sessions = train_emissions.shape[0]\n",
    "\n",
    "for k in range(K):\n",
    "    plt.plot(avg_sess[:, k], label=\"State \" + str(k + 1), lw=1,\n",
    "                color=cols[k])\n",
    "    se = std_sess[:, k] / np.sqrt(total_sessions)\n",
    "    plt.plot(avg_sess[:, k] + se, color=cols[k], alpha=0.3)\n",
    "    plt.plot(avg_sess[:, k] - se, color=cols[k], alpha=0.3)\n",
    "\n",
    "# plt.xticks([0, 45, 90], [\"\", \"\", \"\"], fontsize=15)\n",
    "# plt.yticks([0, 0.5, 1], [\"\", \"\", \"\"], fontsize=15)\n",
    "plt.ylim((-0.01, 1.01))\n",
    "plt.title(f\"Avg. Session (total {total_sessions} sess)\", fontsize=15)\n",
    "plt.xlabel(\"trial #\", fontsize=15)\n",
    "plt.ylabel(\"p(state)\", fontsize=15)\n",
    "plt.legend(fontsize=15, framealpha=0)\n",
    "# plt.gca().spines['right'].set_visible(False)\n",
    "# plt.gca().spines['top'].set_visible(False)\n",
    "# plt.xticks([0, 45, 90, 120], [\"0\", \"45\", \"90\", \"120\"], fontsize=15)\n",
    "# plt.yticks([0, 0.5, 1], [\"0\", \"0.5\", \"1\"], fontsize=15)\n",
    "\n",
    "# plt.savefig(\"avg_sess.eps\", format=\"eps\")"
   ]
  },
  {
   "cell_type": "code",
   "execution_count": null,
   "metadata": {},
   "outputs": [],
   "source": []
  },
  {
   "cell_type": "code",
   "execution_count": null,
   "metadata": {},
   "outputs": [],
   "source": [
    "def inspect_sample(model_idx, em_idx):\n",
    "    most_likely_states = all_models[model_idx].most_likely_states(all_params[model_idx], test_obs[em_idx], inputs=test_design[em_idx])\n",
    "    posterior = all_models[model_idx].smoother(all_params[model_idx], test_obs[em_idx], inputs=test_design[em_idx])\n",
    "    plot_emissions_and_states(test_obs[em_idx], test_design[em_idx], most_likely_states, posterior, cmap, colors)\n",
    "\n",
    "for i in range(1):\n",
    "    inspect_sample(model_to_check-2, i)\n",
    "\n"
   ]
  },
  {
   "cell_type": "code",
   "execution_count": null,
   "metadata": {},
   "outputs": [],
   "source": []
  },
  {
   "cell_type": "code",
   "execution_count": null,
   "metadata": {},
   "outputs": [],
   "source": [
    "from tensorflow_probability.substrates import jax as tfp\n",
    "import jax.numpy as jnp\n",
    "import numpy as np\n",
    "import matplotlib.pyplot as plt\n",
    "\n",
    "tfd = tfp.distributions\n"
   ]
  },
  {
   "cell_type": "code",
   "execution_count": null,
   "metadata": {},
   "outputs": [],
   "source": [
    "wts = p_fourth.emissions.weights\n",
    "cvs = p_fourth.emissions.covs"
   ]
  },
  {
   "cell_type": "code",
   "execution_count": null,
   "metadata": {},
   "outputs": [],
   "source": [
    "wts.shape, cvs.shape"
   ]
  },
  {
   "cell_type": "code",
   "execution_count": null,
   "metadata": {},
   "outputs": [],
   "source": [
    "# make 3, 1 plot\n",
    "designs = ['Calibrated \\nTarget', 'High coh', 'Focused', 'Exp Ori', \"Bias\"]\n",
    "\n",
    "fig, axs = plt.subplots(3, 1, figsize=(8, 16))\n",
    "\n",
    "for i in range(3):\n",
    "    ax = axs[i]\n",
    "\n",
    "    curr_wt = wts[i][0]\n",
    "    curr_vr = cvs[i]\n",
    "    \n",
    "    for idx, name in enumerate(designs):\n",
    "    \n",
    "        # ax.axvline(curr_wt[idx], color='k', linestyle='--', alpha=0.5)\n",
    "        \n",
    "        dst = tfd.VonMises(curr_wt[idx], 1/curr_vr[idx])\n",
    "        x = np.linspace(-np.pi, np.pi, 1000)\n",
    "        y = dst.cdf(x)\n",
    "\n",
    "\n",
    "        ax.plot(x, y, label=name)\n",
    "\n",
    "        # put mean in the plot and the y axis\n",
    "        ax.axvline(curr_wt[idx], color='k', linestyle='--', alpha=0.2)\n",
    "\n",
    "    ax.set_title(f\"State {i+1}\")\n",
    "    ax.set_ylabel(\"Cumulative Density\")\n",
    "\n",
    "    # # give space between subplots\n",
    "    # plt.subplots_adjust(hspace=0.5)\n",
    "\n",
    "    # Only show ticks on the last plot\n",
    "    if i == 2:\n",
    "        ax.set_xlabel(\"Values\")\n",
    "    else:\n",
    "        ax.set_xticks([])\n",
    "\n",
    "    # combine all x axis to bottom\n",
    "    # ax.set_xticks([-np.pi, -np.pi/2, 0, np.pi/2, np.pi])\n",
    "    # ax.set_xticklabels([\"$-\\pi$\", \"$-\\pi/2$\", \"0\", \"$\\pi/2$\", \"$\\pi$\"])\n",
    "        \n",
    "    ax.set_yticks([0, 0.25, 0.5,0.75, 1])\n",
    "    ax.set_yticklabels([\"0%\", \"25%\", \"50%\", \"75%\", \"100%\"])\n",
    "\n",
    "    # put legend outside on the top right\n",
    "    ax.legend(loc='upper right', bbox_to_anchor=(1.4, 1))\n",
    "\n",
    "# plt.savefig(\"state_cdf.eps\", format=\"eps\")"
   ]
  },
  {
   "cell_type": "code",
   "execution_count": null,
   "metadata": {},
   "outputs": [],
   "source": [
    "curr_wt"
   ]
  },
  {
   "cell_type": "code",
   "execution_count": null,
   "metadata": {},
   "outputs": [],
   "source": [
    "# Now do almost the same for pdf\n",
    "\n",
    "fig, axs = plt.subplots(3, 1, figsize=(8, 16))\n",
    "\n",
    "for i in range(3):\n",
    "    ax = axs[i]\n",
    "\n",
    "    curr_wt = wts[i][0]\n",
    "    curr_vr = cvs[i]\n",
    "    \n",
    "    for idx, name in enumerate(designs):\n",
    "    \n",
    "        # ax.axvline(curr_wt[idx], color='k', linestyle='--', alpha=0.5)\n",
    "        \n",
    "        dst = tfd.VonMises(curr_wt[idx], 1/curr_vr[idx])\n",
    "        x = np.linspace(-np.pi, np.pi, 1000)\n",
    "        y = dst.prob(x)\n",
    "\n",
    "\n",
    "        ax.plot(x, y, label=name)\n",
    "\n",
    "        # put mean in the plot and the y axis\n",
    "        ax.axvline(curr_wt[idx], color='k', linestyle='--', alpha=0.2)\n",
    "\n",
    "    ax.set_title(f\"State {i+1}\")\n",
    "    ax.set_ylabel(\"Probability Density\")\n",
    "\n",
    "    # give space between subplots\n",
    "    plt.subplots_adjust(hspace=0.5)\n",
    "\n",
    "    # Only show ticks on the last plot\n",
    "    if i == 2:\n",
    "        ax.set_xlabel(\"Values\")\n",
    "    # else:\n",
    "    #     ax.set_xticks([])\n",
    "        \n",
    "    # mark the mean on x axis\n",
    "    ax.set_xticks(curr_wt)\n",
    "    ax.set_xticklabels([str(x)[:4] for x in curr_wt], rotation=45)\n",
    "\n",
    "\n",
    "    # put legend outside on the top right\n",
    "    ax.legend(loc='upper right', bbox_to_anchor=(1.4, 1))\n",
    "\n",
    "# plt.savefig(\"state_pdf.eps\", format=\"eps\")"
   ]
  },
  {
   "cell_type": "code",
   "execution_count": null,
   "metadata": {},
   "outputs": [],
   "source": []
  },
  {
   "cell_type": "code",
   "execution_count": null,
   "metadata": {},
   "outputs": [],
   "source": []
  },
  {
   "cell_type": "code",
   "execution_count": null,
   "metadata": {},
   "outputs": [],
   "source": []
  },
  {
   "cell_type": "code",
   "execution_count": null,
   "metadata": {},
   "outputs": [],
   "source": []
  },
  {
   "cell_type": "code",
   "execution_count": null,
   "metadata": {},
   "outputs": [],
   "source": []
  },
  {
   "cell_type": "code",
   "execution_count": null,
   "metadata": {},
   "outputs": [],
   "source": []
  },
  {
   "cell_type": "code",
   "execution_count": null,
   "metadata": {},
   "outputs": [],
   "source": [
    "g = sns.displot(data=penguins, x=\"flipper_length_mm\", y=\"bill_length_mm\", kind=\"kde\", rug=True)"
   ]
  },
  {
   "cell_type": "code",
   "execution_count": null,
   "metadata": {},
   "outputs": [],
   "source": []
  },
  {
   "cell_type": "code",
   "execution_count": null,
   "metadata": {},
   "outputs": [],
   "source": [
    "from tensorflow_probability.substrates import jax as tfp\n",
    "import jax.numpy as jnp\n",
    "import numpy as np\n",
    "import matplotlib.pyplot as plt\n",
    "\n",
    "tfd = tfp.distributions\n",
    "\n",
    "dst = tfd.VonMises(loc=0, concentration=1)\n",
    "\n",
    "data = dst.sample(1000, seed=jr.PRNGKey(1))\n",
    "\n",
    "\n",
    "# # plot the pdf\n",
    "# x = np.linspace(-np.pi, np.pi, 100)\n",
    "# plt.plot(x, dst.prob(x))\n",
    "\n",
    "# # plot the cdf\n",
    "# plt.plot(x, dst.cdf(x))\n",
    "\n",
    "# check = 5 # radiance\n",
    "\n",
    "# # plot this on the graph as probability of value 5\n",
    "# plt.plot(np.linspace(np.pi, np.pi *2, 100), dst.prob(np.linspace(np.pi, np.pi *4, 100)), '--')\n",
    "\n",
    "# plt.plot(np.linspace(np.pi, np.pi *2, 100), dst.cdf(np.linspace(np.pi, np.pi *4, 100)), '--')\n",
    "\n"
   ]
  }
 ],
 "metadata": {
  "kernelspec": {
   "display_name": "ssm",
   "language": "python",
   "name": "python3"
  },
  "language_info": {
   "codemirror_mode": {
    "name": "ipython",
    "version": 3
   },
   "file_extension": ".py",
   "mimetype": "text/x-python",
   "name": "python",
   "nbconvert_exporter": "python",
   "pygments_lexer": "ipython3",
   "version": "3.10.6"
  }
 },
 "nbformat": 4,
 "nbformat_minor": 2
}
