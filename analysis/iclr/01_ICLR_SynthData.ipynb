{
 "cells": [
  {
   "cell_type": "code",
   "execution_count": 1,
   "metadata": {},
   "outputs": [
    {
     "name": "stderr",
     "output_type": "stream",
     "text": [
      "WARNING: All log messages before absl::InitializeLog() is called are written to STDERR\n",
      "I0000 00:00:1727444632.471678 1842471 tfrt_cpu_pjrt_client.cc:349] TfrtCpuClient created.\n",
      "No GPU/TPU found, falling back to CPU. (Set TF_CPP_MIN_LOG_LEVEL=0 and rerun for more info.)\n"
     ]
    }
   ],
   "source": [
    "from scipy import io\n",
    "from pathlib import Path\n",
    "\n",
    "import numpy as np\n",
    "import jax.numpy as jnp\n",
    "import jax.random as jr\n",
    "import optax\n",
    "\n",
    "from collections import defaultdict\n",
    "import pickle as pkl\n",
    "\n",
    "import seaborn as sns\n",
    "import matplotlib.pyplot as plt\n",
    "import matplotlib.patches as mpatches\n",
    "\n",
    "from dynamax.hidden_markov_model import CircHMM\n",
    "from dynamax.utils.plotting import gradient_cmap\n",
    "\n",
    "from functools import partial\n",
    "from jax import vmap"
   ]
  },
  {
   "cell_type": "code",
   "execution_count": 2,
   "metadata": {},
   "outputs": [],
   "source": [
    "num_train_batches = 80\n",
    "num_test_batches = 20\n",
    "num_timesteps = 20\n",
    "\n",
    "key = jr.PRNGKey(1)\n",
    "\n",
    "# Make an HMM and sample data and true underlying states\n",
    "true_num_states = 5\n",
    "input_dim = 2\n",
    "emission_dim = 1\n",
    "hmm = CircHMM(true_num_states, input_dim, emission_dim)\n",
    "\n",
    "# Specify parameters of the HMM\n",
    "initial_probs = jnp.ones(true_num_states) / true_num_states\n",
    "\n",
    "transition_weights = 1 * jr.normal(key, (true_num_states, true_num_states, input_dim))\n",
    "\n",
    "emission_weights = 0.1 * jr.normal(key, (true_num_states, emission_dim, input_dim))\n",
    "emission_covs = jnp.tile(jnp.eye(emission_dim), (true_num_states, 1, 1)) * 50\n",
    "\n"
   ]
  },
  {
   "cell_type": "code",
   "execution_count": 3,
   "metadata": {},
   "outputs": [
    {
     "data": {
      "text/plain": [
       "Array([0.2, 0.2, 0.2, 0.2, 0.2], dtype=float32)"
      ]
     },
     "execution_count": 3,
     "metadata": {},
     "output_type": "execute_result"
    }
   ],
   "source": [
    "initial_probs"
   ]
  },
  {
   "cell_type": "code",
   "execution_count": 4,
   "metadata": {},
   "outputs": [
    {
     "data": {
      "text/plain": [
       "(5, 5, 2)"
      ]
     },
     "execution_count": 4,
     "metadata": {},
     "output_type": "execute_result"
    }
   ],
   "source": [
    "transition_weights.shape\n",
    "# transition_weights"
   ]
  },
  {
   "cell_type": "code",
   "execution_count": 5,
   "metadata": {},
   "outputs": [],
   "source": [
    "stronger_diag = jnp.stack([jnp.zeros((true_num_states, true_num_states)), jnp.eye(true_num_states) * 3], axis=-1)\n",
    "# stronger_diag"
   ]
  },
  {
   "cell_type": "code",
   "execution_count": 6,
   "metadata": {},
   "outputs": [
    {
     "data": {
      "text/plain": [
       "Array([[[-0.76433897,  4.4304023 ],\n",
       "        [ 0.29602233, -0.2620028 ],\n",
       "        [ 0.7534696 ,  0.38421908],\n",
       "        [ 1.3584293 ,  1.9853761 ],\n",
       "        [-0.5374943 , -1.2144603 ]],\n",
       "\n",
       "       [[ 1.1424834 ,  0.23388885],\n",
       "        [-0.977204  ,  2.9880054 ],\n",
       "        [ 0.6962024 ,  1.3386534 ],\n",
       "        [ 0.35359615,  1.3369001 ],\n",
       "        [ 1.3061655 , -1.6693078 ]],\n",
       "\n",
       "       [[-0.12277574,  0.8758087 ],\n",
       "        [-0.38047376, -0.8069952 ],\n",
       "        [ 0.03505866,  3.1026542 ],\n",
       "        [ 0.12381285, -1.1133257 ],\n",
       "        [-0.19076478,  1.4280903 ]],\n",
       "\n",
       "       [[-0.78696334,  1.7904425 ],\n",
       "        [ 0.60417485, -0.29894122],\n",
       "        [ 1.7950747 , -1.4379933 ],\n",
       "        [ 2.10746   ,  2.9403543 ],\n",
       "        [-1.8987111 , -0.5051671 ]],\n",
       "\n",
       "       [[-0.56490016, -1.0505275 ],\n",
       "        [ 0.39251304,  0.86643845],\n",
       "        [ 1.1392976 , -0.3791278 ],\n",
       "        [ 1.6222832 ,  0.1660295 ],\n",
       "        [-0.08054032,  4.6325336 ]]], dtype=float32)"
      ]
     },
     "execution_count": 6,
     "metadata": {},
     "output_type": "execute_result"
    }
   ],
   "source": [
    "# transition_weights generator configuration\n",
    "transition_weights_mod = transition_weights + stronger_diag\n",
    "transition_weights_mod"
   ]
  },
  {
   "cell_type": "code",
   "execution_count": 7,
   "metadata": {},
   "outputs": [
    {
     "data": {
      "text/plain": [
       "Array([-3.0415928 , -1.8099556 , -0.5783186 ,  0.65331864,  1.8849556 ],      dtype=float32)"
      ]
     },
     "execution_count": 7,
     "metadata": {},
     "output_type": "execute_result"
    }
   ],
   "source": [
    "# distribute -pi to pi evenly in state range\n",
    "offset = 0\n",
    "state_range = (jnp.linspace(0.1, 1.6 * jnp.pi, true_num_states) + offset) % ( 2* jnp.pi) - jnp.pi\n",
    "state_range"
   ]
  },
  {
   "cell_type": "code",
   "execution_count": 8,
   "metadata": {},
   "outputs": [
    {
     "data": {
      "text/plain": [
       "(-3.141592653589793, 3.141592653589793)"
      ]
     },
     "execution_count": 8,
     "metadata": {},
     "output_type": "execute_result"
    },
    {
     "data": {
      "image/png": "[encoded data removed]",
      "text/plain": [
       "<Figure size 640x480 with 1 Axes>"
      ]
     },
     "metadata": {},
     "output_type": "display_data"
    }
   ],
   "source": [
    "# plot this state range\n",
    "plt.figure()\n",
    "plt.plot(state_range, jnp.zeros_like(state_range), 'o')\n",
    "plt.xlim(-jnp.pi, jnp.pi)"
   ]
  },
  {
   "cell_type": "code",
   "execution_count": 9,
   "metadata": {},
   "outputs": [
    {
     "data": {
      "text/plain": [
       "Array([[[ 0.0690805 , -3.0415928 ]],\n",
       "\n",
       "       [[-0.1155789 , -1.8099556 ]],\n",
       "\n",
       "       [[-0.01959843, -0.5783186 ]],\n",
       "\n",
       "       [[ 0.09156866,  0.65331864]],\n",
       "\n",
       "       [[-0.03674942,  1.8849556 ]]], dtype=float32)"
      ]
     },
     "execution_count": 9,
     "metadata": {},
     "output_type": "execute_result"
    }
   ],
   "source": [
    "# emission_weights\n",
    "emission_weights_mod = emission_weights.at[:, 0, 1].set(state_range)\n",
    "emission_weights_mod"
   ]
  },
  {
   "cell_type": "code",
   "execution_count": 10,
   "metadata": {},
   "outputs": [],
   "source": [
    "true_params, _ = hmm.initialize(initial_probs=initial_probs,\n",
    "                                transition_weights=transition_weights_mod,\n",
    "                                emission_weights=emission_weights_mod,\n",
    "                                emission_covariances=emission_covs)"
   ]
  },
  {
   "cell_type": "code",
   "execution_count": 11,
   "metadata": {},
   "outputs": [
    {
     "data": {
      "text/plain": [
       "((80, 20, 2), (20, 20, 2))"
      ]
     },
     "execution_count": 11,
     "metadata": {},
     "output_type": "execute_result"
    }
   ],
   "source": [
    "# choose from 0 to 1 randomly num_timesteps times\n",
    "first_input = jr.uniform(key, (num_train_batches, num_timesteps,1))\n",
    "intercept = jnp.ones((num_train_batches, num_timesteps, 1))\n",
    "\n",
    "inputs_batch_train = jnp.concatenate([first_input, intercept], axis=-1)\n",
    "\n",
    "\n",
    "# do for the test batch\n",
    "first_input = jr.uniform(key, (num_test_batches, num_timesteps,1))\n",
    "intercept = jnp.ones((num_test_batches, num_timesteps, 1))\n",
    "\n",
    "inputs_batch_test = jnp.concatenate([first_input, intercept], axis=-1)\n",
    "\n",
    "inputs_batch_train.shape, inputs_batch_test.shape"
   ]
  },
  {
   "cell_type": "code",
   "execution_count": 12,
   "metadata": {},
   "outputs": [],
   "source": [
    "# # Sample train, validation, and test data\n",
    "# train_key, val_key, test_key = jr.split(jr.PRNGKey(0), 3)\n",
    "# f = vmap(partial(hmm.sample, true_params, num_timesteps=num_timesteps, inputs=jnp.ones((num_timesteps, input_dim))))\n",
    "# train_true_states, train_emissions = f(jr.split(train_key, num_train_batches))\n",
    "# test_true_states,  test_emissions  = f(jr.split(test_key, num_test_batches))"
   ]
  },
  {
   "cell_type": "code",
   "execution_count": 37,
   "metadata": {},
   "outputs": [],
   "source": [
    "# # Sample train, validation, and test data\n",
    "train_key, val_key, test_key = jr.split(jr.PRNGKey(0), 3)\n",
    "\n",
    "# Split keys for each batch\n",
    "train_keys = jr.split(train_key, num_train_batches)\n",
    "\n",
    "# Sample by indexing the input for each batch outside the function\n",
    "train_true_states, train_emissions = [], []\n",
    "for i in range(num_train_batches):\n",
    "    true_states, emissions = hmm.sample(true_params, num_timesteps=num_timesteps, inputs=inputs_batch_train[i], key=train_keys[i])\n",
    "    train_true_states.append(true_states)\n",
    "    train_emissions.append(emissions)\n",
    "\n",
    "# Convert lists to jax arrays\n",
    "train_true_states = jnp.array(train_true_states)\n",
    "train_emissions = jnp.array(train_emissions)\n",
    "\n",
    "# Similarly for test data\n",
    "test_keys = jr.split(test_key, num_test_batches)\n",
    "test_true_states, test_emissions = [], []\n",
    "for i in range(num_test_batches):\n",
    "    true_states, emissions = hmm.sample(true_params, num_timesteps=num_timesteps, inputs=inputs_batch_test[i], key=test_keys[i])\n",
    "    test_true_states.append(true_states)\n",
    "    test_emissions.append(emissions)\n",
    "\n",
    "test_true_states = jnp.array(test_true_states)\n",
    "test_emissions = jnp.array(test_emissions)"
   ]
  },
  {
   "cell_type": "code",
   "execution_count": 38,
   "metadata": {},
   "outputs": [
    {
     "data": {
      "text/plain": [
       "(80, 20, 1, 1)"
      ]
     },
     "execution_count": 38,
     "metadata": {},
     "output_type": "execute_result"
    }
   ],
   "source": [
    "train_emissions.shape"
   ]
  },
  {
   "cell_type": "code",
   "execution_count": 39,
   "metadata": {},
   "outputs": [
    {
     "data": {
      "text/plain": [
       "Array([[ 1.7999133 ,  2.0399837 ,  1.9671775 ],\n",
       "       [-0.56344867, -0.6033572 ,  1.7276726 ],\n",
       "       [-1.9712641 ,  0.8270781 ,  2.0297892 ],\n",
       "       [ 1.7224189 ,  1.9227799 ,  2.1529088 ],\n",
       "       [-0.42788813, -3.0859756 , -2.7703147 ]], dtype=float32)"
      ]
     },
     "execution_count": 39,
     "metadata": {},
     "output_type": "execute_result"
    }
   ],
   "source": [
    "train_emissions.reshape(80,20)[:5, :3]"
   ]
  },
  {
   "cell_type": "code",
   "execution_count": 40,
   "metadata": {},
   "outputs": [
    {
     "data": {
      "text/plain": [
       "Array([[4, 4, 4],\n",
       "       [2, 2, 4],\n",
       "       [1, 3, 4],\n",
       "       [4, 4, 4],\n",
       "       [2, 0, 0]], dtype=int32)"
      ]
     },
     "execution_count": 40,
     "metadata": {},
     "output_type": "execute_result"
    }
   ],
   "source": [
    "train_true_states.reshape(80,20)[:5, :3]"
   ]
  },
  {
   "cell_type": "code",
   "execution_count": 41,
   "metadata": {},
   "outputs": [
    {
     "data": {
      "text/plain": [
       "(80, 20)"
      ]
     },
     "execution_count": 41,
     "metadata": {},
     "output_type": "execute_result"
    }
   ],
   "source": [
    "train_true_states.shape"
   ]
  },
  {
   "cell_type": "code",
   "execution_count": 42,
   "metadata": {},
   "outputs": [
    {
     "data": {
      "image/png": "[encoded data removed]",
      "text/plain": [
       "<Figure size 640x480 with 1 Axes>"
      ]
     },
     "metadata": {},
     "output_type": "display_data"
    }
   ],
   "source": [
    "# visualize train data\n",
    "# train_emissions.reshape(10,100)[0]\n",
    "\n",
    "# to visualize:\n",
    "# emm = train_emissions.reshape(num_train_batches,num_timesteps)[1]\n",
    "# tr = train_true_states.reshape(num_train_batches,num_timesteps)[1]\n",
    "\n",
    "emm = train_emissions.reshape(-1)\n",
    "tr = train_true_states.reshape(-1)\n",
    "\n",
    "# emissions are radians, so plot them on the number line and color by state\n",
    "fig, ax = plt.subplots()\n",
    "for i in range(5):\n",
    "    ax.scatter(emm[tr==i], tr[tr==i], color=[\"red\", \"blue\", \"green\", \"purple\", \"orange\"][i])\n",
    "plt.show()\n"
   ]
  },
  {
   "cell_type": "code",
   "execution_count": 43,
   "metadata": {},
   "outputs": [
    {
     "data": {
      "image/png": "[encoded data removed]",
      "text/plain": [
       "<Figure size 640x480 with 1 Axes>"
      ]
     },
     "metadata": {},
     "output_type": "display_data"
    }
   ],
   "source": [
    "# using the tr as labels, plot the distribution of emm for each state\n",
    "fig, ax = plt.subplots()\n",
    "for i in range(5):\n",
    "    sns.kdeplot(emm[tr==i], color=[\"red\", \"blue\", \"green\", \"purple\", \"orange\"][i], ax=ax)\n",
    "plt.show()\n"
   ]
  },
  {
   "cell_type": "code",
   "execution_count": null,
   "metadata": {},
   "outputs": [],
   "source": []
  },
  {
   "cell_type": "code",
   "execution_count": null,
   "metadata": {},
   "outputs": [],
   "source": []
  },
  {
   "cell_type": "code",
   "execution_count": null,
   "metadata": {},
   "outputs": [],
   "source": []
  },
  {
   "cell_type": "code",
   "execution_count": null,
   "metadata": {},
   "outputs": [],
   "source": []
  },
  {
   "cell_type": "code",
   "execution_count": null,
   "metadata": {},
   "outputs": [],
   "source": []
  },
  {
   "cell_type": "code",
   "execution_count": null,
   "metadata": {},
   "outputs": [],
   "source": []
  },
  {
   "cell_type": "code",
   "execution_count": 44,
   "metadata": {},
   "outputs": [
    {
     "data": {
      "text/plain": [
       "((80, 20, 1, 1), (80, 20, 2))"
      ]
     },
     "execution_count": 44,
     "metadata": {},
     "output_type": "execute_result"
    }
   ],
   "source": [
    "train_emissions.shape, inputs_batch_train.shape"
   ]
  },
  {
   "cell_type": "code",
   "execution_count": 45,
   "metadata": {},
   "outputs": [],
   "source": [
    "# Initialize the parameters using K-Means on the full training set\n",
    "key = jr.PRNGKey(0)\n",
    "test_hmm = CircHMM(5, input_dim, emission_dim)\n",
    "params, props = test_hmm.initialize(key=key)\n",
    "params, lps = test_hmm.fit_sgd( params = params, \n",
    "                                props = props, \n",
    "                                emissions = train_emissions.reshape(num_train_batches,num_timesteps,1), \n",
    "                                inputs = inputs_batch_train, \n",
    "                                num_epochs = 5000, \n",
    "                                optimizer = optax.adam(1e-3), \n",
    "                                shuffle = False,\n",
    "                                batch_size = 8)"
   ]
  },
  {
   "cell_type": "code",
   "execution_count": 46,
   "metadata": {},
   "outputs": [
    {
     "data": {
      "text/plain": [
       "Array([ 1.9346794 ,  1.9228525 ,  1.9116592 , ..., -0.0179133 ,\n",
       "       -0.01791378, -0.01791415], dtype=float32)"
      ]
     },
     "execution_count": 46,
     "metadata": {},
     "output_type": "execute_result"
    }
   ],
   "source": [
    "lps"
   ]
  },
  {
   "cell_type": "code",
   "execution_count": 47,
   "metadata": {},
   "outputs": [
    {
     "data": {
      "text/plain": [
       "(80, 20)"
      ]
     },
     "execution_count": 47,
     "metadata": {},
     "output_type": "execute_result"
    }
   ],
   "source": [
    "train_true_states.shape"
   ]
  },
  {
   "cell_type": "code",
   "execution_count": 48,
   "metadata": {},
   "outputs": [],
   "source": [
    "# make test hmm predict the most linekly states for the train_emissions\n",
    "predicted_train_states = []\n",
    "for i in range(num_train_batches): predicted_train_states.append(test_hmm.most_likely_states(params, train_emissions.reshape(num_train_batches,num_timesteps,1)[i], inputs_batch_train[i]))\n",
    "predicted_train_states = np.array(predicted_train_states)"
   ]
  },
  {
   "cell_type": "code",
   "execution_count": 56,
   "metadata": {},
   "outputs": [
    {
     "data": {
      "text/plain": [
       "((80, 20, 2), (80, 20, 1, 1))"
      ]
     },
     "execution_count": 56,
     "metadata": {},
     "output_type": "execute_result"
    }
   ],
   "source": [
    "inputs_batch_train.shape, train_emissions.shape"
   ]
  },
  {
   "cell_type": "code",
   "execution_count": 49,
   "metadata": {},
   "outputs": [
    {
     "data": {
      "text/plain": [
       "Array([[4, 4, 4, ..., 3, 3, 3],\n",
       "       [2, 2, 4, ..., 0, 0, 0],\n",
       "       [1, 3, 4, ..., 4, 3, 3],\n",
       "       ...,\n",
       "       [3, 3, 3, ..., 3, 3, 3],\n",
       "       [2, 2, 1, ..., 3, 0, 0],\n",
       "       [4, 4, 4, ..., 4, 4, 4]], dtype=int32)"
      ]
     },
     "execution_count": 49,
     "metadata": {},
     "output_type": "execute_result"
    }
   ],
   "source": [
    "train_true_states"
   ]
  },
  {
   "cell_type": "code",
   "execution_count": 50,
   "metadata": {},
   "outputs": [
    {
     "data": {
      "text/plain": [
       "array([[3, 3, 3, ..., 0, 0, 0],\n",
       "       [2, 2, 3, ..., 4, 4, 4],\n",
       "       [4, 1, 3, ..., 3, 0, 0],\n",
       "       ...,\n",
       "       [0, 0, 0, ..., 0, 0, 0],\n",
       "       [2, 2, 4, ..., 0, 4, 4],\n",
       "       [4, 4, 4, ..., 3, 3, 3]], dtype=int32)"
      ]
     },
     "execution_count": 50,
     "metadata": {},
     "output_type": "execute_result"
    }
   ],
   "source": [
    "predicted_train_states"
   ]
  },
  {
   "cell_type": "code",
   "execution_count": 51,
   "metadata": {},
   "outputs": [
    {
     "data": {
      "image/png": "[encoded data removed]",
      "text/plain": [
       "<Figure size 640x480 with 1 Axes>"
      ]
     },
     "metadata": {},
     "output_type": "display_data"
    }
   ],
   "source": [
    "# train_emissions.reshape(10,100)[0]\n",
    "\n",
    "# to visualize:\n",
    "emm = train_emissions\n",
    "tr = train_true_states\n",
    "\n",
    "# emissions are radians, so plot them on the number line and color by state\n",
    "fig, ax = plt.subplots()\n",
    "for i in range(5):\n",
    "    ax.scatter(emm[tr==i], tr[tr==i], color=[\"red\", \"blue\", \"green\", \"purple\", \"orange\"][i])\n",
    "plt.show()\n"
   ]
  },
  {
   "cell_type": "code",
   "execution_count": 52,
   "metadata": {},
   "outputs": [
    {
     "data": {
      "image/png": "[encoded data removed]",
      "text/plain": [
       "<Figure size 640x480 with 1 Axes>"
      ]
     },
     "metadata": {},
     "output_type": "display_data"
    }
   ],
   "source": [
    "# train_emissions.reshape(10,100)[0]\n",
    "\n",
    "# to visualize:\n",
    "emm = train_emissions\n",
    "tr = predicted_train_states\n",
    "\n",
    "# emissions are radians, so plot them on the number line and color by state\n",
    "fig, ax = plt.subplots()\n",
    "for i in range(5):\n",
    "    ax.scatter(emm[tr==i], tr[tr==i], color=[\"red\", \"blue\", \"green\", \"purple\", \"orange\"][i])\n",
    "plt.show()\n"
   ]
  },
  {
   "cell_type": "code",
   "execution_count": 57,
   "metadata": {},
   "outputs": [
    {
     "data": {
      "text/plain": [
       "ParamsCircEmissions(weights=Array([[[ 1.2036087e-03,  6.9784826e-01]],\n",
       "\n",
       "       [[-1.9889466e+00, -5.3734064e-01]],\n",
       "\n",
       "       [[-1.3594960e-01, -4.5982715e-01]],\n",
       "\n",
       "       [[-9.5200971e-02,  1.9052734e+00]],\n",
       "\n",
       "       [[ 9.4084209e-03, -2.7081876e+00]]], dtype=float32), covs=Array([[[43.507515 ]],\n",
       "\n",
       "       [[ 1.2963858]],\n",
       "\n",
       "       [[95.080986 ]],\n",
       "\n",
       "       [[46.825867 ]],\n",
       "\n",
       "       [[ 4.391645 ]]], dtype=float32))"
      ]
     },
     "execution_count": 57,
     "metadata": {},
     "output_type": "execute_result"
    }
   ],
   "source": [
    "params.emissions"
   ]
  },
  {
   "cell_type": "code",
   "execution_count": 59,
   "metadata": {},
   "outputs": [
    {
     "data": {
      "text/plain": [
       "ParamsCircHMMTransitions(transition_weights=Array([[[  5.201272  ,   6.6077924 ],\n",
       "        [ -5.2665725 , -10.283406  ],\n",
       "        [ -4.626707  , -10.171854  ],\n",
       "        [ -5.2387886 , -10.3169775 ],\n",
       "        [  0.05970363,   5.925474  ]],\n",
       "\n",
       "       [[ 45.412746  , -12.619491  ],\n",
       "        [ -3.5158274 , -11.564228  ],\n",
       "        [-44.221775  ,  13.163435  ],\n",
       "        [ -1.731528  ,   4.9167495 ],\n",
       "        [ -7.7380137 , -10.312078  ]],\n",
       "\n",
       "       [[ -7.024143  , -10.29201   ],\n",
       "        [ -7.55875   , -10.42802   ],\n",
       "        [ -1.8699553 ,   7.5391755 ],\n",
       "        [  3.577636  ,   1.470324  ],\n",
       "        [  7.0281568 ,  -1.5134386 ]],\n",
       "\n",
       "       [[ -2.4849617 ,   4.198206  ],\n",
       "        [ -8.05157   , -11.580108  ],\n",
       "        [  6.391537  ,  -4.0004263 ],\n",
       "        [ -2.94658   ,   7.1260495 ],\n",
       "        [ -8.130544  , -11.735113  ]],\n",
       "\n",
       "       [[ -1.2618259 ,  -8.304747  ],\n",
       "        [  5.385241  ,   7.599416  ],\n",
       "        [ -5.9455185 ,  -6.9125705 ],\n",
       "        [ -2.6158676 ,  -8.062509  ],\n",
       "        [  5.6951737 ,   8.683308  ]]], dtype=float32))"
      ]
     },
     "execution_count": 59,
     "metadata": {},
     "output_type": "execute_result"
    }
   ],
   "source": [
    "params.transitions"
   ]
  },
  {
   "cell_type": "code",
   "execution_count": 95,
   "metadata": {},
   "outputs": [],
   "source": [
    "t_tr, t_em = test_hmm.sample(params,key= key, num_timesteps=100, inputs=jnp.ones((100,1)))"
   ]
  },
  {
   "cell_type": "code",
   "execution_count": 96,
   "metadata": {},
   "outputs": [
    {
     "data": {
      "text/plain": [
       "((100,), (100, 1, 1))"
      ]
     },
     "execution_count": 96,
     "metadata": {},
     "output_type": "execute_result"
    }
   ],
   "source": [
    "t_tr.shape, t_em.shape"
   ]
  },
  {
   "cell_type": "code",
   "execution_count": 98,
   "metadata": {},
   "outputs": [
    {
     "data": {
      "text/plain": [
       "Array([1, 4, 3, 4, 3, 0, 2, 3, 2, 2, 4, 2, 1, 3, 4, 0, 4, 3, 4, 3, 4, 2,\n",
       "       1, 0, 4, 0, 1, 4, 3, 1, 4, 0, 0, 3, 4, 1, 3, 1, 1, 3, 3, 4, 3, 4,\n",
       "       1, 1, 3, 1, 0, 0, 1, 4, 4, 1, 3, 4, 2, 1, 2, 1, 4, 3, 2, 3, 4, 1,\n",
       "       2, 3, 4, 3, 1, 4, 3, 1, 0, 3, 2, 2, 4, 0, 2, 1, 4, 3, 0, 3, 3, 1,\n",
       "       4, 4, 1, 1, 2, 3, 3, 1, 3, 4, 0, 1], dtype=int32)"
      ]
     },
     "execution_count": 98,
     "metadata": {},
     "output_type": "execute_result"
    }
   ],
   "source": [
    "t_tr"
   ]
  },
  {
   "cell_type": "code",
   "execution_count": 102,
   "metadata": {},
   "outputs": [
    {
     "data": {
      "text/plain": [
       "(100, 1, 1)"
      ]
     },
     "execution_count": 102,
     "metadata": {},
     "output_type": "execute_result"
    }
   ],
   "source": [
    "t_em.shape"
   ]
  },
  {
   "cell_type": "code",
   "execution_count": 103,
   "metadata": {},
   "outputs": [
    {
     "data": {
      "image/png": "[encoded data removed]",
      "text/plain": [
       "<Figure size 640x480 with 1 Axes>"
      ]
     },
     "metadata": {},
     "output_type": "display_data"
    }
   ],
   "source": [
    "# train_emissions.reshape(10,100)[0]\n",
    "\n",
    "# to visualize:\n",
    "tr = t_tr.reshape(-1)\n",
    "emm = t_em.reshape(-1)\n",
    "\n",
    "# emissions are radians, so plot them on the number line and color by state\n",
    "fig, ax = plt.subplots()\n",
    "for i in range(5):\n",
    "    ax.scatter(emm[tr==i], tr[tr==i], color=[\"red\", \"blue\", \"green\", \"purple\", \"orange\"][i])\n",
    "plt.show()\n"
   ]
  },
  {
   "cell_type": "code",
   "execution_count": null,
   "metadata": {},
   "outputs": [],
   "source": []
  },
  {
   "cell_type": "code",
   "execution_count": null,
   "metadata": {},
   "outputs": [],
   "source": [
    "def cross_validate_model(model, key, num_iters=100):\n",
    "    # Initialize the parameters using K-Means on the full training set\n",
    "    params, props = model.initialize(key=key)\n",
    "    \n",
    "    # Split the training data into folds.\n",
    "    # Note: this is memory inefficient but it highlights the use of vmap.\n",
    "    folds = jnp.stack([\n",
    "        jnp.concatenate([train_emissions[:i], train_emissions[i+1:]])\n",
    "        for i in range(num_train_batches)\n",
    "    ])\n",
    "    \n",
    "    def _fit_fold(y_train, y_val):\n",
    "        fit_params, train_lps = model.fit_sgd(params, \n",
    "                                              props, \n",
    "                                              y_train, \n",
    "                                              inputs=jnp.ones_like(y_train),\n",
    "                                              num_epochs=num_iters)\n",
    "        return model.marginal_log_prob(fit_params, y_val)\n",
    "\n",
    "    val_lls = vmap(_fit_fold)(folds, train_emissions)\n",
    "    return val_lls.mean(), val_lls"
   ]
  },
  {
   "cell_type": "code",
   "execution_count": null,
   "metadata": {},
   "outputs": [],
   "source": []
  },
  {
   "cell_type": "code",
   "execution_count": null,
   "metadata": {},
   "outputs": [],
   "source": []
  },
  {
   "cell_type": "code",
   "execution_count": 3,
   "metadata": {},
   "outputs": [],
   "source": [
    "# Convert to radians\n",
    "design_matrix[:,:,0] = np.deg2rad(design_matrix[:,:,0])\n",
    "design_matrix[:,:,3] = np.deg2rad(design_matrix[:,:,3])\n",
    "\n",
    "observation = np.deg2rad(observation)\n",
    "\n",
    "# Add flat biases column\n",
    "flat_biases = np.ones_like(design_matrix[:,:,:1])\n",
    "design_matrix =  np.concatenate([design_matrix, flat_biases], axis=-1)"
   ]
  },
  {
   "cell_type": "code",
   "execution_count": 4,
   "metadata": {},
   "outputs": [],
   "source": [
    "# Shuffle data\n",
    "shuff_idx = np.random.permutation(len(design_matrix))\n",
    "\n",
    "design_matrix = design_matrix[shuff_idx]\n",
    "observation = observation[shuff_idx]"
   ]
  },
  {
   "cell_type": "code",
   "execution_count": 5,
   "metadata": {},
   "outputs": [],
   "source": [
    "# Split it 80:20 for training and testing\n",
    "\n",
    "train_idx = int(0.8 * len(design_matrix))\n",
    "\n",
    "train_design = design_matrix[:train_idx]\n",
    "train_obs = observation[:train_idx]\n",
    "\n",
    "test_design = design_matrix[train_idx:]\n",
    "test_obs = observation[train_idx:]"
   ]
  },
  {
   "cell_type": "code",
   "execution_count": 6,
   "metadata": {},
   "outputs": [],
   "source": [
    "# convert to jax arrays\n",
    "train_emissions = jnp.array(train_obs)\n",
    "train_inputs = jnp.array(train_design)"
   ]
  },
  {
   "cell_type": "code",
   "execution_count": 7,
   "metadata": {},
   "outputs": [],
   "source": [
    "# A training cache to store all the models and their parameters\n",
    "training_cache = defaultdict(dict)\n",
    "\n",
    "# DS to store the models organized\n",
    "class Model_Store:\n",
    "    n_states: int\n",
    "    fit_model: None\n",
    "    fit_params: None\n",
    "    lps: None"
   ]
  },
  {
   "cell_type": "code",
   "execution_count": 8,
   "metadata": {},
   "outputs": [],
   "source": [
    "def train_hmms(model_class, num_states, emission_dim, input_dim, train_emissions, train_inputs):\n",
    "    \n",
    "    model = model_class(num_states, input_dim, emission_dim)\n",
    "    parameters, properties = model.initialize(key=jr.PRNGKey(1))\n",
    "\n",
    "    # Fit with SGD\n",
    "    fit_params, lps = model.fit_sgd(params = parameters, \n",
    "                                    props = properties, \n",
    "                                    emissions = train_emissions, \n",
    "                                    inputs = train_inputs, \n",
    "                                    num_epochs = 5000, \n",
    "                                    optimizer = optax.adam(1e-4), \n",
    "                                    shuffle = False, \n",
    "                                    batch_size = 32)\n",
    "    \n",
    "    return model, fit_params, lps"
   ]
  },
  {
   "cell_type": "code",
   "execution_count": 9,
   "metadata": {},
   "outputs": [
    {
     "name": "stdout",
     "output_type": "stream",
     "text": [
      "Training: CircHMM - 2 states\n",
      "[2.0279927 2.0236886 2.0193982 2.0151236 2.0108643 2.0066216 2.0023966\n",
      " 1.9981881 1.993997  1.9898232]\n",
      "Training: CircHMM - 3 states\n",
      "[2.0386946 2.0343192 2.029957  2.0256097 2.0212777 2.0169616 2.012662\n",
      " 2.0083787 2.0041122 1.9998624]\n",
      "Training: CircHMM - 4 states\n",
      "[2.0404584 2.0360305 2.031616  2.027217  2.022834  2.0184677 2.014118\n",
      " 2.009786  2.005471  2.0011735]\n"
     ]
    }
   ],
   "source": [
    "min_state, max_state = 2, 4\n",
    "emission_dim, input_dim = 1, 5\n",
    "\n",
    "for model_class in [CircHMM]:\n",
    "\n",
    "    for num_states in range(min_state, max_state+1):\n",
    "        print(f'Training: {model_class.__name__} - {num_states} states')\n",
    "\n",
    "        model, fit_params, lps = train_hmms(model_class, num_states, emission_dim, input_dim, train_emissions, train_inputs)\n",
    "\n",
    "        print(f\"{lps[:10]}\")\n",
    "\n",
    "        t_store = Model_Store()\n",
    "        t_store.n_states = num_states\n",
    "        t_store.fit_model = model\n",
    "        t_store.fit_params = fit_params\n",
    "        t_store.lps = lps\n",
    "\n",
    "        training_cache[model_class.__name__][num_states] = t_store\n"
   ]
  },
  {
   "cell_type": "code",
   "execution_count": 17,
   "metadata": {},
   "outputs": [
    {
     "data": {
      "text/plain": [
       "<Axes: >"
      ]
     },
     "execution_count": 17,
     "metadata": {},
     "output_type": "execute_result"
    },
    {
     "data": {
      "image/png": "[encoded data removed]",
      "text/plain": [
       "<Figure size 640x480 with 1 Axes>"
      ]
     },
     "metadata": {},
     "output_type": "display_data"
    }
   ],
   "source": [
    "sns.lineplot(training_cache[\"CircHMM\"][2].lps, label=\"2 states\")\n",
    "sns.lineplot(training_cache[\"CircHMM\"][3].lps, label=\"3 states\")\n",
    "sns.lineplot(training_cache[\"CircHMM\"][4].lps, label=\"4 states\")"
   ]
  },
  {
   "cell_type": "code",
   "execution_count": 18,
   "metadata": {},
   "outputs": [
    {
     "data": {
      "text/plain": [
       "Array([2.0404584, 2.0360305, 2.031616 , ..., 0.9309583, 0.9309559,\n",
       "       0.9309536], dtype=float32)"
      ]
     },
     "execution_count": 18,
     "metadata": {},
     "output_type": "execute_result"
    }
   ],
   "source": [
    "training_cache"
   ]
  },
  {
   "cell_type": "code",
   "execution_count": 19,
   "metadata": {},
   "outputs": [
    {
     "data": {
      "text/plain": [
       "<__main__.Model_Store at 0x7f82f4551270>"
      ]
     },
     "execution_count": 19,
     "metadata": {},
     "output_type": "execute_result"
    }
   ],
   "source": [
    "training_cache[\"CircHMM\"][4]"
   ]
  },
  {
   "cell_type": "code",
   "execution_count": 23,
   "metadata": {},
   "outputs": [
    {
     "data": {
      "text/plain": [
       "Array([[-0.23085745,  0.37730235,  0.28121665,  0.97430235,  1.4713405 ],\n",
       "       [-0.7254634 ,  0.72348994, -0.45906   , -0.7803172 , -0.57019705],\n",
       "       [-1.577803  , -1.6051687 , -1.6427596 , -1.6031122 , -1.6805452 ],\n",
       "       [ 0.65423036, -1.2755809 ,  0.24850003, -0.21454309, -1.2671362 ]],      dtype=float32)"
      ]
     },
     "execution_count": 23,
     "metadata": {},
     "output_type": "execute_result"
    }
   ],
   "source": [
    "training_cache[\"CircHMM\"][4].fit_params.transitions.transition_weights[0]"
   ]
  },
  {
   "cell_type": "code",
   "execution_count": 26,
   "metadata": {},
   "outputs": [
    {
     "data": {
      "text/plain": [
       "Array([[[ 2.83266187e-01,  1.07381800e-02, -6.40832484e-02,\n",
       "          4.37593684e-02,  1.10763276e+00]],\n",
       "\n",
       "       [[ 1.17694043e-01, -8.89237896e-02, -6.21083975e-02,\n",
       "         -2.06562668e-01,  1.74767315e+00]],\n",
       "\n",
       "       [[ 1.09972075e-01,  2.89706793e-02,  2.14026291e-02,\n",
       "          1.42162833e-02,  6.28260374e-01]],\n",
       "\n",
       "       [[ 3.66456471e-02,  2.39577387e-02,  8.37263884e-04,\n",
       "          1.31549640e-02,  2.25558829e+00]]], dtype=float32)"
      ]
     },
     "execution_count": 26,
     "metadata": {},
     "output_type": "execute_result"
    }
   ],
   "source": [
    "training_cache[\"CircHMM\"][4].fit_params.emissions.weights"
   ]
  },
  {
   "cell_type": "code",
   "execution_count": null,
   "metadata": {},
   "outputs": [],
   "source": []
  },
  {
   "cell_type": "code",
   "execution_count": 27,
   "metadata": {},
   "outputs": [
    {
     "data": {
      "text/plain": [
       "Array([[[ 4.9348955]],\n",
       "\n",
       "       [[ 1.9043467]],\n",
       "\n",
       "       [[ 5.4074445]],\n",
       "\n",
       "       [[40.73532  ]]], dtype=float32)"
      ]
     },
     "execution_count": 27,
     "metadata": {},
     "output_type": "execute_result"
    }
   ],
   "source": [
    "training_cache[\"CircHMM\"][4].fit_params.emissions.covs"
   ]
  },
  {
   "cell_type": "code",
   "execution_count": 36,
   "metadata": {},
   "outputs": [
    {
     "ename": "TypeError",
     "evalue": "unsupported operand type(s) for @: 'ArrayImpl' and 'NoneType'",
     "output_type": "error",
     "traceback": [
      "\u001b[0;31m---------------------------------------------------------------------------\u001b[0m",
      "\u001b[0;31mTypeError\u001b[0m                                 Traceback (most recent call last)",
      "Cell \u001b[0;32mIn[36], line 1\u001b[0m\n\u001b[0;32m----> 1\u001b[0m \u001b[43mtraining_cache\u001b[49m\u001b[43m[\u001b[49m\u001b[38;5;124;43m\"\u001b[39;49m\u001b[38;5;124;43mCircHMM\u001b[39;49m\u001b[38;5;124;43m\"\u001b[39;49m\u001b[43m]\u001b[49m\u001b[43m[\u001b[49m\u001b[38;5;241;43m4\u001b[39;49m\u001b[43m]\u001b[49m\u001b[38;5;241;43m.\u001b[39;49m\u001b[43mfit_model\u001b[49m\u001b[38;5;241;43m.\u001b[39;49m\u001b[43memission_component\u001b[49m\u001b[38;5;241;43m.\u001b[39;49m\u001b[43mdistribution\u001b[49m\u001b[43m(\u001b[49m\u001b[43mtraining_cache\u001b[49m\u001b[43m[\u001b[49m\u001b[38;5;124;43m\"\u001b[39;49m\u001b[38;5;124;43mCircHMM\u001b[39;49m\u001b[38;5;124;43m\"\u001b[39;49m\u001b[43m]\u001b[49m\u001b[43m[\u001b[49m\u001b[38;5;241;43m4\u001b[39;49m\u001b[43m]\u001b[49m\u001b[38;5;241;43m.\u001b[39;49m\u001b[43mfit_params\u001b[49m\u001b[38;5;241;43m.\u001b[39;49m\u001b[43memissions\u001b[49m\u001b[43m,\u001b[49m\u001b[43m \u001b[49m\u001b[38;5;241;43m2\u001b[39;49m\u001b[43m)\u001b[49m\n",
      "File \u001b[0;32m~/Documents/nlab/state_space_analysis/analysis/dynamax/hidden_markov_model/models/NuttidaLab_chmm.py:56\u001b[0m, in \u001b[0;36mCircEmissions.distribution\u001b[0;34m(self, params, state, inputs)\u001b[0m\n\u001b[1;32m     55\u001b[0m \u001b[38;5;28;01mdef\u001b[39;00m \u001b[38;5;21mdistribution\u001b[39m(\u001b[38;5;28mself\u001b[39m, params, state, inputs \u001b[38;5;241m=\u001b[39m \u001b[38;5;28;01mNone\u001b[39;00m):\n\u001b[0;32m---> 56\u001b[0m     \u001b[38;5;28;01mreturn\u001b[39;00m tfd\u001b[38;5;241m.\u001b[39mVonMises(\u001b[43mparams\u001b[49m\u001b[38;5;241;43m.\u001b[39;49m\u001b[43mweights\u001b[49m\u001b[43m[\u001b[49m\u001b[43mstate\u001b[49m\u001b[43m]\u001b[49m\u001b[43m \u001b[49m\u001b[38;5;241;43m@\u001b[39;49m\u001b[43m \u001b[49m\u001b[43minputs\u001b[49m, params\u001b[38;5;241m.\u001b[39mcovs[state])\n",
      "\u001b[0;31mTypeError\u001b[0m: unsupported operand type(s) for @: 'ArrayImpl' and 'NoneType'"
     ]
    }
   ],
   "source": [
    "training_cache[\"CircHMM\"][4].fit_model.emission_component.distribution(training_cache[\"CircHMM\"][4].fit_params.emissions, 2)"
   ]
  },
  {
   "cell_type": "code",
   "execution_count": null,
   "metadata": {},
   "outputs": [],
   "source": []
  },
  {
   "cell_type": "code",
   "execution_count": null,
   "metadata": {},
   "outputs": [],
   "source": []
  },
  {
   "cell_type": "code",
   "execution_count": null,
   "metadata": {},
   "outputs": [],
   "source": []
  }
 ],
 "metadata": {
  "kernelspec": {
   "display_name": "ssm",
   "language": "python",
   "name": "python3"
  },
  "language_info": {
   "codemirror_mode": {
    "name": "ipython",
    "version": 3
   },
   "file_extension": ".py",
   "mimetype": "text/x-python",
   "name": "python",
   "nbconvert_exporter": "python",
   "pygments_lexer": "ipython3",
   "version": "3.10.14"
  }
 },
 "nbformat": 4,
 "nbformat_minor": 2
}
