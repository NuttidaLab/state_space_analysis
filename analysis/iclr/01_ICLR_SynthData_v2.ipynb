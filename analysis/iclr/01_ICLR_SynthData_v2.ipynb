{
 "cells": [
  {
   "cell_type": "code",
   "execution_count": 3,
   "metadata": {},
   "outputs": [],
   "source": [
    "from scipy import io\n",
    "from pathlib import Path\n",
    "\n",
    "import numpy as np\n",
    "import jax.numpy as jnp\n",
    "import jax.random as jr\n",
    "import optax\n",
    "\n",
    "from collections import defaultdict\n",
    "import pickle as pkl\n",
    "\n",
    "import seaborn as sns\n",
    "import matplotlib.pyplot as plt\n",
    "import matplotlib.patches as mpatches\n",
    "\n",
    "from dynamax.hidden_markov_model import CircHMMsT\n",
    "from dynamax.utils.plotting import gradient_cmap\n",
    "\n",
    "from functools import partial\n",
    "from jax import vmap"
   ]
  },
  {
   "cell_type": "code",
   "execution_count": 52,
   "metadata": {},
   "outputs": [],
   "source": [
    "num_train_batches = 80\n",
    "num_test_batches = 20\n",
    "num_timesteps = 20\n",
    "\n",
    "key = jr.PRNGKey(1)\n",
    "\n",
    "# Make an HMM and sample data and true underlying states\n",
    "true_num_states = 5\n",
    "input_dim = 2\n",
    "emission_dim = 1\n",
    "hmm = CircHMMsT(true_num_states, input_dim, emission_dim, transition_matrix_concentration=2, transition_matrix_stickiness= 10)\n",
    "\n",
    "# Specify parameters of the HMM\n",
    "initial_probs = jnp.ones(true_num_states) / true_num_states\n",
    "\n",
    "# transition_weights = 1 * jr.normal(key, (true_num_states, true_num_states, input_dim))\n",
    "# transition_matrix = 0.1 * jr.normal(key, (true_num_states, true_num_states))\n",
    "\n",
    "emission_weights = 0.1 * jr.normal(key, (true_num_states, emission_dim, input_dim))\n",
    "emission_covs = jnp.tile(jnp.eye(emission_dim), (true_num_states, 1, 1)) * 50\n",
    "\n"
   ]
  },
  {
   "cell_type": "code",
   "execution_count": 53,
   "metadata": {},
   "outputs": [
    {
     "data": {
      "text/plain": [
       "Array([0.2, 0.2, 0.2, 0.2, 0.2], dtype=float32)"
      ]
     },
     "execution_count": 53,
     "metadata": {},
     "output_type": "execute_result"
    }
   ],
   "source": [
    "initial_probs"
   ]
  },
  {
   "cell_type": "code",
   "execution_count": 54,
   "metadata": {},
   "outputs": [
    {
     "data": {
      "text/plain": [
       "Array([[1., 0., 0., 0., 0.],\n",
       "       [0., 1., 0., 0., 0.],\n",
       "       [0., 0., 1., 0., 0.],\n",
       "       [0., 0., 0., 1., 0.],\n",
       "       [0., 0., 0., 0., 1.]], dtype=float32)"
      ]
     },
     "execution_count": 54,
     "metadata": {},
     "output_type": "execute_result"
    }
   ],
   "source": [
    "# transition_weights generator configuration\n",
    "transition_mat_mod = jnp.eye(true_num_states, true_num_states) * 1\n",
    "transition_mat_mod"
   ]
  },
  {
   "cell_type": "code",
   "execution_count": 55,
   "metadata": {},
   "outputs": [
    {
     "data": {
      "text/plain": [
       "Array([-3.0415928 , -1.8099556 , -0.5783186 ,  0.65331864,  1.8849556 ],      dtype=float32)"
      ]
     },
     "execution_count": 55,
     "metadata": {},
     "output_type": "execute_result"
    }
   ],
   "source": [
    "# distribute -pi to pi evenly in state range\n",
    "offset = 0\n",
    "state_range = (jnp.linspace(0.1, 1.6 * jnp.pi, true_num_states) + offset) % ( 2* jnp.pi) - jnp.pi\n",
    "state_range"
   ]
  },
  {
   "cell_type": "code",
   "execution_count": 56,
   "metadata": {},
   "outputs": [
    {
     "data": {
      "text/plain": [
       "(-3.141592653589793, 3.141592653589793)"
      ]
     },
     "execution_count": 56,
     "metadata": {},
     "output_type": "execute_result"
    },
    {
     "data": {
      "image/png": "[encoded data removed]",
      "text/plain": [
       "<Figure size 640x480 with 1 Axes>"
      ]
     },
     "metadata": {},
     "output_type": "display_data"
    }
   ],
   "source": [
    "# plot this state range\n",
    "plt.figure()\n",
    "plt.plot(state_range, jnp.zeros_like(state_range), 'o')\n",
    "plt.xlim(-jnp.pi, jnp.pi)"
   ]
  },
  {
   "cell_type": "code",
   "execution_count": 57,
   "metadata": {},
   "outputs": [
    {
     "data": {
      "text/plain": [
       "Array([[[ 0.0690805 , -3.0415928 ]],\n",
       "\n",
       "       [[-0.1155789 , -1.8099556 ]],\n",
       "\n",
       "       [[-0.01959843, -0.5783186 ]],\n",
       "\n",
       "       [[ 0.09156866,  0.65331864]],\n",
       "\n",
       "       [[-0.03674942,  1.8849556 ]]], dtype=float32)"
      ]
     },
     "execution_count": 57,
     "metadata": {},
     "output_type": "execute_result"
    }
   ],
   "source": [
    "# emission_weights\n",
    "emission_weights_mod = emission_weights.at[:, 0, 1].set(state_range)\n",
    "emission_weights_mod"
   ]
  },
  {
   "cell_type": "code",
   "execution_count": 58,
   "metadata": {},
   "outputs": [],
   "source": [
    "true_params, _ = hmm.initialize(initial_probs=initial_probs,\n",
    "                                # transition_matrix=transition_mat_mod,\n",
    "                                emission_weights=emission_weights_mod,\n",
    "                                emission_covariances=emission_covs)"
   ]
  },
  {
   "cell_type": "code",
   "execution_count": 59,
   "metadata": {},
   "outputs": [
    {
     "data": {
      "text/plain": [
       "Array([[0.66746056, 0.0275996 , 0.10142594, 0.07511953, 0.1283943 ],\n",
       "       [0.03295066, 0.5235361 , 0.09683266, 0.23823701, 0.10844356],\n",
       "       [0.05178186, 0.24348849, 0.4456512 , 0.1862447 , 0.07283381],\n",
       "       [0.09797047, 0.04589259, 0.05409027, 0.68762887, 0.11441779],\n",
       "       [0.02370666, 0.1691034 , 0.3427932 , 0.08072241, 0.38367426]],      dtype=float32)"
      ]
     },
     "execution_count": 59,
     "metadata": {},
     "output_type": "execute_result"
    }
   ],
   "source": [
    "true_params.transitions.transition_matrix"
   ]
  },
  {
   "cell_type": "code",
   "execution_count": 60,
   "metadata": {},
   "outputs": [
    {
     "data": {
      "text/plain": [
       "((80, 20, 2), (20, 20, 2))"
      ]
     },
     "execution_count": 60,
     "metadata": {},
     "output_type": "execute_result"
    }
   ],
   "source": [
    "# choose from 0 to 1 randomly num_timesteps times\n",
    "first_input = jr.uniform(key, (num_train_batches, num_timesteps,1))\n",
    "intercept = jnp.ones((num_train_batches, num_timesteps, 1))\n",
    "\n",
    "inputs_batch_train = jnp.concatenate([first_input, intercept], axis=-1)\n",
    "\n",
    "\n",
    "# do for the test batch\n",
    "first_input = jr.uniform(key, (num_test_batches, num_timesteps,1))\n",
    "intercept = jnp.ones((num_test_batches, num_timesteps, 1))\n",
    "\n",
    "inputs_batch_test = jnp.concatenate([first_input, intercept], axis=-1)\n",
    "\n",
    "inputs_batch_train.shape, inputs_batch_test.shape"
   ]
  },
  {
   "cell_type": "code",
   "execution_count": 61,
   "metadata": {},
   "outputs": [],
   "source": [
    "# # Sample train, validation, and test data\n",
    "# train_key, val_key, test_key = jr.split(jr.PRNGKey(0), 3)\n",
    "# f = vmap(partial(hmm.sample, true_params, num_timesteps=num_timesteps, inputs=jnp.ones((num_timesteps, input_dim))))\n",
    "# train_true_states, train_emissions = f(jr.split(train_key, num_train_batches))\n",
    "# test_true_states,  test_emissions  = f(jr.split(test_key, num_test_batches))"
   ]
  },
  {
   "cell_type": "code",
   "execution_count": 62,
   "metadata": {},
   "outputs": [],
   "source": [
    "# Sample train, validation, and test data\n",
    "train_key, val_key, test_key = jr.split(jr.PRNGKey(0), 3)\n",
    "\n",
    "# Split keys for each batch\n",
    "train_keys = jr.split(train_key, num_train_batches)\n",
    "test_keys = jr.split(test_key, num_test_batches)\n",
    "\n",
    "# Define a function that samples given an input and key\n",
    "def sample_fn(key, inputs):\n",
    "    return hmm.sample(true_params, num_timesteps=num_timesteps, inputs=inputs, key=key)\n",
    "\n",
    "# Vectorize the sampling over batches using vmap\n",
    "train_true_states, train_emissions = vmap(sample_fn)(train_keys, inputs_batch_train)\n",
    "test_true_states, test_emissions = vmap(sample_fn)(test_keys, inputs_batch_test)"
   ]
  },
  {
   "cell_type": "code",
   "execution_count": 63,
   "metadata": {},
   "outputs": [
    {
     "data": {
      "text/plain": [
       "((80, 20, 1, 1), (20, 20, 1, 1), (80, 20), (20, 20))"
      ]
     },
     "execution_count": 63,
     "metadata": {},
     "output_type": "execute_result"
    }
   ],
   "source": [
    "train_emissions.shape, test_emissions.shape, train_true_states.shape, test_true_states.shape"
   ]
  },
  {
   "cell_type": "code",
   "execution_count": 64,
   "metadata": {},
   "outputs": [
    {
     "data": {
      "text/plain": [
       "Array([[ 1.7999133 ,  0.86052036,  0.8597143 ],\n",
       "       [-0.56344867, -0.6033572 ,  1.7276726 ],\n",
       "       [-1.9712641 ,  0.8270781 ,  2.0297892 ],\n",
       "       [ 1.7224189 ,  0.693267  ,  0.95189714],\n",
       "       [-0.42788813,  0.6282138 ,  0.93999755]], dtype=float32)"
      ]
     },
     "execution_count": 64,
     "metadata": {},
     "output_type": "execute_result"
    }
   ],
   "source": [
    "train_emissions.reshape(80,20)[:5, :3]"
   ]
  },
  {
   "cell_type": "code",
   "execution_count": 65,
   "metadata": {},
   "outputs": [
    {
     "data": {
      "text/plain": [
       "Array([[4, 3, 3],\n",
       "       [2, 2, 4],\n",
       "       [1, 3, 4],\n",
       "       [4, 3, 3],\n",
       "       [2, 3, 3]], dtype=int32)"
      ]
     },
     "execution_count": 65,
     "metadata": {},
     "output_type": "execute_result"
    }
   ],
   "source": [
    "train_true_states.reshape(80,20)[:5, :3]"
   ]
  },
  {
   "cell_type": "code",
   "execution_count": 66,
   "metadata": {},
   "outputs": [
    {
     "data": {
      "text/plain": [
       "(80, 20)"
      ]
     },
     "execution_count": 66,
     "metadata": {},
     "output_type": "execute_result"
    }
   ],
   "source": [
    "train_true_states.shape"
   ]
  },
  {
   "cell_type": "code",
   "execution_count": 67,
   "metadata": {},
   "outputs": [
    {
     "data": {
      "image/png": "[encoded data removed]",
      "text/plain": [
       "<Figure size 640x480 with 1 Axes>"
      ]
     },
     "metadata": {},
     "output_type": "display_data"
    }
   ],
   "source": [
    "# visualize train data\n",
    "# train_emissions.reshape(10,100)[0]\n",
    "\n",
    "# to visualize:\n",
    "# emm = train_emissions.reshape(num_train_batches,num_timesteps)[1]\n",
    "# tr = train_true_states.reshape(num_train_batches,num_timesteps)[1]\n",
    "\n",
    "emm = train_emissions.reshape(-1)\n",
    "tr = train_true_states.reshape(-1)\n",
    "\n",
    "# emissions are radians, so plot them on the number line and color by state\n",
    "fig, ax = plt.subplots()\n",
    "for i in range(5):\n",
    "    ax.scatter(emm[tr==i], tr[tr==i], color=[\"red\", \"blue\", \"green\", \"purple\", \"orange\"][i])\n",
    "plt.show()\n"
   ]
  },
  {
   "cell_type": "code",
   "execution_count": 69,
   "metadata": {},
   "outputs": [
    {
     "data": {
      "image/png": "[encoded data removed]",
      "text/plain": [
       "<Figure size 640x480 with 1 Axes>"
      ]
     },
     "metadata": {},
     "output_type": "display_data"
    }
   ],
   "source": [
    "# using the tr as labels, plot the distribution of emm for each state\n",
    "fig, ax = plt.subplots()\n",
    "for i in range(5):\n",
    "    sns.kdeplot(emm[tr==i], color=[\"red\", \"blue\", \"green\", \"purple\", \"orange\"][i], ax=ax)\n",
    "plt.show()\n"
   ]
  },
  {
   "cell_type": "code",
   "execution_count": null,
   "metadata": {},
   "outputs": [],
   "source": []
  },
  {
   "cell_type": "code",
   "execution_count": null,
   "metadata": {},
   "outputs": [],
   "source": []
  },
  {
   "cell_type": "code",
   "execution_count": null,
   "metadata": {},
   "outputs": [],
   "source": []
  },
  {
   "cell_type": "code",
   "execution_count": null,
   "metadata": {},
   "outputs": [],
   "source": []
  },
  {
   "cell_type": "code",
   "execution_count": null,
   "metadata": {},
   "outputs": [],
   "source": []
  },
  {
   "cell_type": "code",
   "execution_count": null,
   "metadata": {},
   "outputs": [],
   "source": []
  },
  {
   "cell_type": "code",
   "execution_count": 70,
   "metadata": {},
   "outputs": [
    {
     "data": {
      "text/plain": [
       "((80, 20, 1, 1), (80, 20, 2))"
      ]
     },
     "execution_count": 70,
     "metadata": {},
     "output_type": "execute_result"
    }
   ],
   "source": [
    "train_emissions.shape, inputs_batch_train.shape"
   ]
  },
  {
   "cell_type": "code",
   "execution_count": 71,
   "metadata": {},
   "outputs": [],
   "source": [
    "# Initialize the parameters using K-Means on the full training set\n",
    "key = jr.PRNGKey(0)\n",
    "test_hmm = CircHMMsT(5, input_dim, emission_dim, transition_matrix_concentration=2, transition_matrix_stickiness= 10)\n",
    "params, props = test_hmm.initialize(key=key)\n",
    "params, lps = test_hmm.fit_sgd( params = params, \n",
    "                                props = props, \n",
    "                                emissions = train_emissions.reshape(num_train_batches,num_timesteps,1), \n",
    "                                inputs = inputs_batch_train, \n",
    "                                num_epochs = 5000, \n",
    "                                optimizer = optax.adam(1e-3), \n",
    "                                shuffle = False,\n",
    "                                batch_size = 8)"
   ]
  },
  {
   "cell_type": "code",
   "execution_count": 72,
   "metadata": {},
   "outputs": [
    {
     "data": {
      "text/plain": [
       "Array([1.7921791 , 1.7875265 , 1.7832407 , ..., 0.5333592 , 0.5333593 ,\n",
       "       0.53335917], dtype=float32)"
      ]
     },
     "execution_count": 72,
     "metadata": {},
     "output_type": "execute_result"
    }
   ],
   "source": [
    "lps"
   ]
  },
  {
   "cell_type": "code",
   "execution_count": 73,
   "metadata": {},
   "outputs": [
    {
     "data": {
      "text/plain": [
       "(80, 20)"
      ]
     },
     "execution_count": 73,
     "metadata": {},
     "output_type": "execute_result"
    }
   ],
   "source": [
    "train_true_states.shape"
   ]
  },
  {
   "cell_type": "code",
   "execution_count": 74,
   "metadata": {},
   "outputs": [],
   "source": [
    "# make test hmm predict the most linekly states for the train_emissions\n",
    "predicted_train_states = []\n",
    "for i in range(num_train_batches): predicted_train_states.append(test_hmm.most_likely_states(params, train_emissions.reshape(num_train_batches,num_timesteps,1)[i], inputs_batch_train[i]))\n",
    "predicted_train_states = np.array(predicted_train_states)"
   ]
  },
  {
   "cell_type": "code",
   "execution_count": 75,
   "metadata": {},
   "outputs": [
    {
     "data": {
      "text/plain": [
       "((80, 20, 2), (80, 20, 1, 1))"
      ]
     },
     "execution_count": 75,
     "metadata": {},
     "output_type": "execute_result"
    }
   ],
   "source": [
    "inputs_batch_train.shape, train_emissions.shape"
   ]
  },
  {
   "cell_type": "code",
   "execution_count": 76,
   "metadata": {},
   "outputs": [
    {
     "data": {
      "text/plain": [
       "Array([[4, 3, 3, ..., 3, 3, 3],\n",
       "       [2, 2, 4, ..., 0, 0, 0],\n",
       "       [1, 3, 4, ..., 1, 3, 3],\n",
       "       ...,\n",
       "       [3, 3, 3, ..., 4, 2, 2],\n",
       "       [2, 3, 1, ..., 3, 4, 4],\n",
       "       [4, 2, 2, ..., 1, 0, 0]], dtype=int32)"
      ]
     },
     "execution_count": 76,
     "metadata": {},
     "output_type": "execute_result"
    }
   ],
   "source": [
    "train_true_states"
   ]
  },
  {
   "cell_type": "code",
   "execution_count": 77,
   "metadata": {},
   "outputs": [
    {
     "data": {
      "text/plain": [
       "array([[1, 2, 2, ..., 2, 2, 2],\n",
       "       [3, 3, 1, ..., 0, 0, 0],\n",
       "       [4, 2, 1, ..., 4, 2, 2],\n",
       "       ...,\n",
       "       [2, 2, 2, ..., 1, 3, 3],\n",
       "       [3, 2, 4, ..., 2, 1, 1],\n",
       "       [1, 3, 3, ..., 4, 0, 0]], dtype=int32)"
      ]
     },
     "execution_count": 77,
     "metadata": {},
     "output_type": "execute_result"
    }
   ],
   "source": [
    "predicted_train_states"
   ]
  },
  {
   "cell_type": "code",
   "execution_count": 78,
   "metadata": {},
   "outputs": [
    {
     "data": {
      "image/png": "[encoded data removed]",
      "text/plain": [
       "<Figure size 640x480 with 1 Axes>"
      ]
     },
     "metadata": {},
     "output_type": "display_data"
    }
   ],
   "source": [
    "# train_emissions.reshape(10,100)[0]\n",
    "\n",
    "# to visualize:\n",
    "emm = train_emissions\n",
    "tr = train_true_states\n",
    "\n",
    "# emissions are radians, so plot them on the number line and color by state\n",
    "fig, ax = plt.subplots()\n",
    "for i in range(5):\n",
    "    ax.scatter(emm[tr==i], tr[tr==i], color=[\"red\", \"blue\", \"green\", \"purple\", \"orange\"][i])\n",
    "plt.show()\n"
   ]
  },
  {
   "cell_type": "code",
   "execution_count": 79,
   "metadata": {},
   "outputs": [
    {
     "data": {
      "image/png": "[encoded data removed]",
      "text/plain": [
       "<Figure size 640x480 with 1 Axes>"
      ]
     },
     "metadata": {},
     "output_type": "display_data"
    }
   ],
   "source": [
    "# train_emissions.reshape(10,100)[0]\n",
    "\n",
    "# to visualize:\n",
    "emm = train_emissions\n",
    "tr = predicted_train_states\n",
    "\n",
    "# emissions are radians, so plot them on the number line and color by state\n",
    "fig, ax = plt.subplots()\n",
    "for i in range(5):\n",
    "    ax.scatter(emm[tr==i], tr[tr==i], color=[\"red\", \"blue\", \"green\", \"purple\", \"orange\"][i])\n",
    "plt.show()\n"
   ]
  },
  {
   "cell_type": "code",
   "execution_count": 80,
   "metadata": {},
   "outputs": [
    {
     "data": {
      "text/plain": [
       "ParamsCircEmissions(weights=Array([[[ 0.19260743, -3.1047559 ]],\n",
       "\n",
       "       [[-0.04938317,  1.8911779 ]],\n",
       "\n",
       "       [[ 0.03216312,  0.69942147]],\n",
       "\n",
       "       [[-0.11463001, -0.5224305 ]],\n",
       "\n",
       "       [[-0.20644675, -1.7489129 ]]], dtype=float32), covs=Array([[[44.545734]],\n",
       "\n",
       "       [[45.394783]],\n",
       "\n",
       "       [[48.569923]],\n",
       "\n",
       "       [[55.7358  ]],\n",
       "\n",
       "       [[48.87314 ]]], dtype=float32))"
      ]
     },
     "execution_count": 80,
     "metadata": {},
     "output_type": "execute_result"
    }
   ],
   "source": [
    "params.emissions"
   ]
  },
  {
   "cell_type": "code",
   "execution_count": 83,
   "metadata": {},
   "outputs": [
    {
     "data": {
      "text/plain": [
       "Array([[0.66746056, 0.0275996 , 0.10142594, 0.07511953, 0.1283943 ],\n",
       "       [0.03295066, 0.5235361 , 0.09683266, 0.23823701, 0.10844356],\n",
       "       [0.05178186, 0.24348849, 0.4456512 , 0.1862447 , 0.07283381],\n",
       "       [0.09797047, 0.04589259, 0.05409027, 0.68762887, 0.11441779],\n",
       "       [0.02370666, 0.1691034 , 0.3427932 , 0.08072241, 0.38367426]],      dtype=float32)"
      ]
     },
     "execution_count": 83,
     "metadata": {},
     "output_type": "execute_result"
    }
   ],
   "source": [
    "true_params.transitions.transition_matrix"
   ]
  },
  {
   "cell_type": "code",
   "execution_count": 84,
   "metadata": {},
   "outputs": [
    {
     "data": {
      "text/plain": [
       "Array([[0.7161326 , 0.00645154, 0.00645153, 0.19999686, 0.07096743],\n",
       "       [0.05116211, 0.283721  , 0.14418751, 0.42325413, 0.09767529],\n",
       "       [0.06666505, 0.16422375, 0.6683002 , 0.08292487, 0.01788606],\n",
       "       [0.03728827, 0.03728816, 0.27457836, 0.34237063, 0.30847454],\n",
       "       [0.00317514, 0.03492052, 0.4158739 , 0.00317459, 0.54285586]],      dtype=float32)"
      ]
     },
     "execution_count": 84,
     "metadata": {},
     "output_type": "execute_result"
    }
   ],
   "source": [
    "params.transitions.transition_matrix"
   ]
  },
  {
   "cell_type": "code",
   "execution_count": null,
   "metadata": {},
   "outputs": [],
   "source": [
    "def cross_validate_model(model, key, num_iters=100):\n",
    "    # Initialize the parameters using K-Means on the full training set\n",
    "    params, props = model.initialize(key=key)\n",
    "    \n",
    "    # Split the training data into folds.\n",
    "    # Note: this is memory inefficient but it highlights the use of vmap.\n",
    "    folds = jnp.stack([\n",
    "        jnp.concatenate([train_emissions[:i], train_emissions[i+1:]])\n",
    "        for i in range(num_train_batches)\n",
    "    ])\n",
    "    \n",
    "    def _fit_fold(y_train, y_val):\n",
    "        fit_params, train_lps = model.fit_sgd(params, \n",
    "                                              props, \n",
    "                                              y_train, \n",
    "                                              inputs=jnp.ones_like(y_train),\n",
    "                                              num_epochs=num_iters)\n",
    "        return model.marginal_log_prob(fit_params, y_val)\n",
    "\n",
    "    val_lls = vmap(_fit_fold)(folds, train_emissions)\n",
    "    return val_lls.mean(), val_lls"
   ]
  },
  {
   "cell_type": "code",
   "execution_count": null,
   "metadata": {},
   "outputs": [],
   "source": []
  },
  {
   "cell_type": "code",
   "execution_count": null,
   "metadata": {},
   "outputs": [],
   "source": []
  },
  {
   "cell_type": "code",
   "execution_count": 5,
   "metadata": {},
   "outputs": [],
   "source": [
    "# Split it 80:20 for training and testing\n",
    "\n",
    "train_idx = int(0.8 * len(design_matrix))\n",
    "\n",
    "train_design = design_matrix[:train_idx]\n",
    "train_obs = observation[:train_idx]\n",
    "\n",
    "test_design = design_matrix[train_idx:]\n",
    "test_obs = observation[train_idx:]"
   ]
  },
  {
   "cell_type": "code",
   "execution_count": 6,
   "metadata": {},
   "outputs": [],
   "source": [
    "# convert to jax arrays\n",
    "train_emissions = jnp.array(train_obs)\n",
    "train_inputs = jnp.array(train_design)"
   ]
  },
  {
   "cell_type": "code",
   "execution_count": 7,
   "metadata": {},
   "outputs": [],
   "source": [
    "# A training cache to store all the models and their parameters\n",
    "training_cache = defaultdict(dict)\n",
    "\n",
    "# DS to store the models organized\n",
    "class Model_Store:\n",
    "    n_states: int\n",
    "    fit_model: None\n",
    "    fit_params: None\n",
    "    lps: None"
   ]
  },
  {
   "cell_type": "code",
   "execution_count": 8,
   "metadata": {},
   "outputs": [],
   "source": [
    "def train_hmms(model_class, num_states, emission_dim, input_dim, train_emissions, train_inputs):\n",
    "    \n",
    "    model = model_class(num_states, input_dim, emission_dim)\n",
    "    parameters, properties = model.initialize(key=jr.PRNGKey(1))\n",
    "\n",
    "    # Fit with SGD\n",
    "    fit_params, lps = model.fit_sgd(params = parameters, \n",
    "                                    props = properties, \n",
    "                                    emissions = train_emissions, \n",
    "                                    inputs = train_inputs, \n",
    "                                    num_epochs = 5000, \n",
    "                                    optimizer = optax.adam(1e-4), \n",
    "                                    shuffle = False, \n",
    "                                    batch_size = 32)\n",
    "    \n",
    "    return model, fit_params, lps"
   ]
  },
  {
   "cell_type": "code",
   "execution_count": 9,
   "metadata": {},
   "outputs": [
    {
     "name": "stdout",
     "output_type": "stream",
     "text": [
      "Training: CircHMM - 2 states\n",
      "[2.0279927 2.0236886 2.0193982 2.0151236 2.0108643 2.0066216 2.0023966\n",
      " 1.9981881 1.993997  1.9898232]\n",
      "Training: CircHMM - 3 states\n",
      "[2.0386946 2.0343192 2.029957  2.0256097 2.0212777 2.0169616 2.012662\n",
      " 2.0083787 2.0041122 1.9998624]\n",
      "Training: CircHMM - 4 states\n",
      "[2.0404584 2.0360305 2.031616  2.027217  2.022834  2.0184677 2.014118\n",
      " 2.009786  2.005471  2.0011735]\n"
     ]
    }
   ],
   "source": [
    "min_state, max_state = 2, 4\n",
    "emission_dim, input_dim = 1, 5\n",
    "\n",
    "for model_class in [CircHMM]:\n",
    "\n",
    "    for num_states in range(min_state, max_state+1):\n",
    "        print(f'Training: {model_class.__name__} - {num_states} states')\n",
    "\n",
    "        model, fit_params, lps = train_hmms(model_class, num_states, emission_dim, input_dim, train_emissions, train_inputs)\n",
    "\n",
    "        print(f\"{lps[:10]}\")\n",
    "\n",
    "        t_store = Model_Store()\n",
    "        t_store.n_states = num_states\n",
    "        t_store.fit_model = model\n",
    "        t_store.fit_params = fit_params\n",
    "        t_store.lps = lps\n",
    "\n",
    "        training_cache[model_class.__name__][num_states] = t_store\n"
   ]
  },
  {
   "cell_type": "code",
   "execution_count": 17,
   "metadata": {},
   "outputs": [
    {
     "data": {
      "text/plain": [
       "<Axes: >"
      ]
     },
     "execution_count": 17,
     "metadata": {},
     "output_type": "execute_result"
    },
    {
     "data": {
      "image/png": "[encoded data removed]",
      "text/plain": [
       "<Figure size 640x480 with 1 Axes>"
      ]
     },
     "metadata": {},
     "output_type": "display_data"
    }
   ],
   "source": [
    "sns.lineplot(training_cache[\"CircHMM\"][2].lps, label=\"2 states\")\n",
    "sns.lineplot(training_cache[\"CircHMM\"][3].lps, label=\"3 states\")\n",
    "sns.lineplot(training_cache[\"CircHMM\"][4].lps, label=\"4 states\")"
   ]
  },
  {
   "cell_type": "code",
   "execution_count": 18,
   "metadata": {},
   "outputs": [
    {
     "data": {
      "text/plain": [
       "Array([2.0404584, 2.0360305, 2.031616 , ..., 0.9309583, 0.9309559,\n",
       "       0.9309536], dtype=float32)"
      ]
     },
     "execution_count": 18,
     "metadata": {},
     "output_type": "execute_result"
    }
   ],
   "source": [
    "training_cache"
   ]
  },
  {
   "cell_type": "code",
   "execution_count": 19,
   "metadata": {},
   "outputs": [
    {
     "data": {
      "text/plain": [
       "<__main__.Model_Store at 0x7f82f4551270>"
      ]
     },
     "execution_count": 19,
     "metadata": {},
     "output_type": "execute_result"
    }
   ],
   "source": [
    "training_cache[\"CircHMM\"][4]"
   ]
  },
  {
   "cell_type": "code",
   "execution_count": 23,
   "metadata": {},
   "outputs": [
    {
     "data": {
      "text/plain": [
       "Array([[-0.23085745,  0.37730235,  0.28121665,  0.97430235,  1.4713405 ],\n",
       "       [-0.7254634 ,  0.72348994, -0.45906   , -0.7803172 , -0.57019705],\n",
       "       [-1.577803  , -1.6051687 , -1.6427596 , -1.6031122 , -1.6805452 ],\n",
       "       [ 0.65423036, -1.2755809 ,  0.24850003, -0.21454309, -1.2671362 ]],      dtype=float32)"
      ]
     },
     "execution_count": 23,
     "metadata": {},
     "output_type": "execute_result"
    }
   ],
   "source": [
    "training_cache[\"CircHMM\"][4].fit_params.transitions.transition_weights[0]"
   ]
  },
  {
   "cell_type": "code",
   "execution_count": 26,
   "metadata": {},
   "outputs": [
    {
     "data": {
      "text/plain": [
       "Array([[[ 2.83266187e-01,  1.07381800e-02, -6.40832484e-02,\n",
       "          4.37593684e-02,  1.10763276e+00]],\n",
       "\n",
       "       [[ 1.17694043e-01, -8.89237896e-02, -6.21083975e-02,\n",
       "         -2.06562668e-01,  1.74767315e+00]],\n",
       "\n",
       "       [[ 1.09972075e-01,  2.89706793e-02,  2.14026291e-02,\n",
       "          1.42162833e-02,  6.28260374e-01]],\n",
       "\n",
       "       [[ 3.66456471e-02,  2.39577387e-02,  8.37263884e-04,\n",
       "          1.31549640e-02,  2.25558829e+00]]], dtype=float32)"
      ]
     },
     "execution_count": 26,
     "metadata": {},
     "output_type": "execute_result"
    }
   ],
   "source": [
    "training_cache[\"CircHMM\"][4].fit_params.emissions.weights"
   ]
  },
  {
   "cell_type": "code",
   "execution_count": null,
   "metadata": {},
   "outputs": [],
   "source": []
  },
  {
   "cell_type": "code",
   "execution_count": 27,
   "metadata": {},
   "outputs": [
    {
     "data": {
      "text/plain": [
       "Array([[[ 4.9348955]],\n",
       "\n",
       "       [[ 1.9043467]],\n",
       "\n",
       "       [[ 5.4074445]],\n",
       "\n",
       "       [[40.73532  ]]], dtype=float32)"
      ]
     },
     "execution_count": 27,
     "metadata": {},
     "output_type": "execute_result"
    }
   ],
   "source": [
    "training_cache[\"CircHMM\"][4].fit_params.emissions.covs"
   ]
  },
  {
   "cell_type": "code",
   "execution_count": 36,
   "metadata": {},
   "outputs": [
    {
     "ename": "TypeError",
     "evalue": "unsupported operand type(s) for @: 'ArrayImpl' and 'NoneType'",
     "output_type": "error",
     "traceback": [
      "\u001b[0;31m---------------------------------------------------------------------------\u001b[0m",
      "\u001b[0;31mTypeError\u001b[0m                                 Traceback (most recent call last)",
      "Cell \u001b[0;32mIn[36], line 1\u001b[0m\n\u001b[0;32m----> 1\u001b[0m \u001b[43mtraining_cache\u001b[49m\u001b[43m[\u001b[49m\u001b[38;5;124;43m\"\u001b[39;49m\u001b[38;5;124;43mCircHMM\u001b[39;49m\u001b[38;5;124;43m\"\u001b[39;49m\u001b[43m]\u001b[49m\u001b[43m[\u001b[49m\u001b[38;5;241;43m4\u001b[39;49m\u001b[43m]\u001b[49m\u001b[38;5;241;43m.\u001b[39;49m\u001b[43mfit_model\u001b[49m\u001b[38;5;241;43m.\u001b[39;49m\u001b[43memission_component\u001b[49m\u001b[38;5;241;43m.\u001b[39;49m\u001b[43mdistribution\u001b[49m\u001b[43m(\u001b[49m\u001b[43mtraining_cache\u001b[49m\u001b[43m[\u001b[49m\u001b[38;5;124;43m\"\u001b[39;49m\u001b[38;5;124;43mCircHMM\u001b[39;49m\u001b[38;5;124;43m\"\u001b[39;49m\u001b[43m]\u001b[49m\u001b[43m[\u001b[49m\u001b[38;5;241;43m4\u001b[39;49m\u001b[43m]\u001b[49m\u001b[38;5;241;43m.\u001b[39;49m\u001b[43mfit_params\u001b[49m\u001b[38;5;241;43m.\u001b[39;49m\u001b[43memissions\u001b[49m\u001b[43m,\u001b[49m\u001b[43m \u001b[49m\u001b[38;5;241;43m2\u001b[39;49m\u001b[43m)\u001b[49m\n",
      "File \u001b[0;32m~/Documents/nlab/state_space_analysis/analysis/dynamax/hidden_markov_model/models/NuttidaLab_chmm.py:56\u001b[0m, in \u001b[0;36mCircEmissions.distribution\u001b[0;34m(self, params, state, inputs)\u001b[0m\n\u001b[1;32m     55\u001b[0m \u001b[38;5;28;01mdef\u001b[39;00m \u001b[38;5;21mdistribution\u001b[39m(\u001b[38;5;28mself\u001b[39m, params, state, inputs \u001b[38;5;241m=\u001b[39m \u001b[38;5;28;01mNone\u001b[39;00m):\n\u001b[0;32m---> 56\u001b[0m     \u001b[38;5;28;01mreturn\u001b[39;00m tfd\u001b[38;5;241m.\u001b[39mVonMises(\u001b[43mparams\u001b[49m\u001b[38;5;241;43m.\u001b[39;49m\u001b[43mweights\u001b[49m\u001b[43m[\u001b[49m\u001b[43mstate\u001b[49m\u001b[43m]\u001b[49m\u001b[43m \u001b[49m\u001b[38;5;241;43m@\u001b[39;49m\u001b[43m \u001b[49m\u001b[43minputs\u001b[49m, params\u001b[38;5;241m.\u001b[39mcovs[state])\n",
      "\u001b[0;31mTypeError\u001b[0m: unsupported operand type(s) for @: 'ArrayImpl' and 'NoneType'"
     ]
    }
   ],
   "source": [
    "training_cache[\"CircHMM\"][4].fit_model.emission_component.distribution(training_cache[\"CircHMM\"][4].fit_params.emissions, 2)"
   ]
  },
  {
   "cell_type": "code",
   "execution_count": null,
   "metadata": {},
   "outputs": [],
   "source": []
  },
  {
   "cell_type": "code",
   "execution_count": null,
   "metadata": {},
   "outputs": [],
   "source": []
  },
  {
   "cell_type": "code",
   "execution_count": null,
   "metadata": {},
   "outputs": [],
   "source": []
  }
 ],
 "metadata": {
  "kernelspec": {
   "display_name": "ssm",
   "language": "python",
   "name": "python3"
  },
  "language_info": {
   "codemirror_mode": {
    "name": "ipython",
    "version": 3
   },
   "file_extension": ".py",
   "mimetype": "text/x-python",
   "name": "python",
   "nbconvert_exporter": "python",
   "pygments_lexer": "ipython3",
   "version": "3.10.14"
  }
 },
 "nbformat": 4,
 "nbformat_minor": 2
}
