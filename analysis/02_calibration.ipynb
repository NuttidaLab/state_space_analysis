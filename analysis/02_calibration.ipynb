{
 "cells": [
  {
   "cell_type": "code",
   "execution_count": 1,
   "metadata": {},
   "outputs": [],
   "source": [
    "from scipy.io import loadmat\n",
    "from scipy.stats import circmean, circstd\n",
    "import numpy as np\n",
    "from tqdm import tqdm\n",
    "import matplotlib.pyplot as plt\n",
    "import pandas as pd\n",
    "\n",
    "from utils import validate_data"
   ]
  },
  {
   "cell_type": "markdown",
   "metadata": {},
   "source": [
    "## Loading all the data"
   ]
  },
  {
   "cell_type": "code",
   "execution_count": 2,
   "metadata": {},
   "outputs": [],
   "source": [
    "# Set in stone\n",
    "data_path = '../axej/'\n",
    "n_subjects = 13\n",
    "n_sessions = 4\n",
    "n_runs = 1\n",
    "n_trials = 120\n",
    "n_ts = 500\n",
    "\n",
    "exp_ts = 1000\n",
    "\n",
    "# noise frames = 0 to 220 (250 - 30)\n",
    "noise_thresh = 0.5\n",
    "noise_gap = 30\n",
    "\n",
    "\n",
    "experiment_orientations = [159, 123, 87, 51, 15]\n",
    "subjects = [\"01\", \"02\", \"03\", \"04\", \"05\", \"06\", \"07\", \"08\" ,\"09\", \"10\", \"11\", \"12\", \"14\"]\n",
    "\n",
    "def get_calib(subj, sess):\n",
    "    mat_contents = loadmat(data_path + f'AxeJEEG_Subj{subjects[subj]}_S{sess+1}_Cali1.mat.mat', struct_as_record=False, squeeze_me=True)\n",
    "    return mat_contents[\"p\"].__dict__\n",
    "\n",
    "def get_run(subj, sess, run):\n",
    "    mat_contents = loadmat(data_path + f'AxeJEEG_Subj{subjects[subj]}_S{sess+1}_Run{run+1}.mat.mat', struct_as_record=False, squeeze_me=True)\n",
    "    return mat_contents[\"p\"].__dict__"
   ]
  },
  {
   "cell_type": "code",
   "execution_count": 3,
   "metadata": {},
   "outputs": [
    {
     "name": "stderr",
     "output_type": "stream",
     "text": [
      "100%|██████████| 13/13 [00:00<00:00, 47.17it/s]\n"
     ]
    },
    {
     "data": {
      "text/plain": [
       "((13, 4, 1, 120, 500), (13, 4, 1, 120, 500), (13, 4, 1, 120), (13, 4, 1, 120))"
      ]
     },
     "execution_count": 3,
     "metadata": {},
     "output_type": "execute_result"
    }
   ],
   "source": [
    "# Get all run data\n",
    "# subjexts x sessions x runs\n",
    "jx = []\n",
    "jy = []\n",
    "stimdir = []\n",
    "tgonset = []\n",
    "\n",
    "# Attention (attCue): tr_foc = 1, tr_div = 2\n",
    "# Coherence (tgCoh): tr_lo = 1, tr_hi = 2\n",
    "att = []\n",
    "coh = []\n",
    "\n",
    "for subj in tqdm(range(n_subjects)):\n",
    "    for sess in range(n_sessions):\n",
    "        for run in range(n_runs):\n",
    "\n",
    "            data = get_calib(subj, sess)\n",
    "            jx.append(data[\"joyx\"])\n",
    "            jy.append(data[\"joyy\"])\n",
    "            stimdir.append(data[\"stimDirREAL\"])\n",
    "\n",
    "            f_tgonset = data[\"f_precuedur\"] + data[\"f_cuedur\"]\n",
    "            tgonset.append(f_tgonset)\n",
    "\n",
    "            att.append(data[\"attCue\"])\n",
    "            coh.append(data[\"tgCoh\"])\n",
    "\n",
    "# Shape the run data\n",
    "jx = np.array(jx, dtype=np.float64).reshape(n_subjects, n_sessions, n_runs, n_trials, n_ts)\n",
    "jy = np.array(jy, dtype=np.float64).reshape(n_subjects, n_sessions, n_runs, n_trials, n_ts)\n",
    "stimdir = np.array(stimdir).reshape(n_subjects, n_sessions, n_runs, n_trials)\n",
    "tgonset = np.array(tgonset).reshape(n_subjects, n_sessions, n_runs, n_trials)\n",
    "att = np.array(att).reshape(n_subjects, n_sessions, n_runs, n_trials)\n",
    "coh = np.array(coh).reshape(n_subjects, n_sessions, n_runs, n_trials)\n",
    "\n",
    "jx.shape, jy.shape, stimdir.shape, tgonset.shape"
   ]
  },
  {
   "cell_type": "markdown",
   "metadata": {},
   "source": [
    "## Logic for Getting Valid Trials:\n",
    "\n",
    "1. Get all the trials\n",
    "2. Align all target onset at 250 ts\n",
    "3. Get distance from center and angle from center\n",
    "4. If the distance moves <0.4 au n frames before target onset. Then that trial is \"too early\" and all response set nan.\n",
    "5. If ts has distance > 1 au then set its response angle to the last valid angle (if first, the nan) and set that distance to 1.\n",
    "6. get angle first distance = 1 a.u. instance after target onset. or if it never reaches 1, then angle at max distance after target onset. as the response angle."
   ]
  },
  {
   "cell_type": "code",
   "execution_count": 4,
   "metadata": {},
   "outputs": [],
   "source": [
    "shifted_jx, shifted_jy, dist_from_cent, resp_angle, final_resp_angles = validate_data(n_subjects, n_sessions, n_runs, n_trials, n_ts, exp_ts, jx, jy, tgonset, noise_thresh, noise_gap)"
   ]
  },
  {
   "cell_type": "code",
   "execution_count": 5,
   "metadata": {},
   "outputs": [
    {
     "name": "stdout",
     "output_type": "stream",
     "text": [
      "197 removed trials\n",
      "3.157051282051282 % removed trials\n"
     ]
    }
   ],
   "source": [
    "# Get all trials where angles are only nan\n",
    "nan_trials = np.where(np.isnan(resp_angle).all(axis=-1))\n",
    "print(nan_trials[0].shape[0], \"removed trials\")\n",
    "print(nan_trials[0].shape[0] / (n_subjects * n_sessions * n_runs * n_trials) * 100, \"% removed trials\")"
   ]
  },
  {
   "cell_type": "markdown",
   "metadata": {},
   "source": [
    "## Getting final responses"
   ]
  },
  {
   "cell_type": "code",
   "execution_count": 6,
   "metadata": {},
   "outputs": [],
   "source": [
    "def circdist(a, b):\n",
    "    return min(abs(a-b), 360-abs(a-b))\n",
    "\n",
    "def circmedian(angs):\n",
    "    angs = np.array(angs)\n",
    "    angs = angs[~np.isnan(angs)]\n",
    "    pdists = angs[np.newaxis, :] - angs[:, np.newaxis]\n",
    "    pdists = (pdists + 180) % (2 * 180) - 180\n",
    "    pdists = np.abs(pdists).sum(1)\n",
    "    return angs[np.argmin(pdists)]"
   ]
  },
  {
   "cell_type": "code",
   "execution_count": 7,
   "metadata": {},
   "outputs": [
    {
     "data": {
      "text/plain": [
       "((13, 4, 1, 120),\n",
       " (13, 4, 1, 120),\n",
       " array([ 15,  51,  87, 123, 159], dtype=uint8))"
      ]
     },
     "execution_count": 7,
     "metadata": {},
     "output_type": "execute_result"
    }
   ],
   "source": [
    "final_resp_angles.shape, stimdir.shape, np.unique(stimdir)"
   ]
  },
  {
   "cell_type": "code",
   "execution_count": 8,
   "metadata": {},
   "outputs": [
    {
     "data": {
      "text/plain": [
       "(13, 5, 96)"
      ]
     },
     "execution_count": 8,
     "metadata": {},
     "output_type": "execute_result"
    }
   ],
   "source": [
    "# Group according to different stimdirs\n",
    "# 5 angles in total and each subject has 4 * 120/ 5 = 96 trials per angle\n",
    "stim_resp = np.zeros((n_subjects, 5, 96))\n",
    "\n",
    "for sub in range(n_subjects):\n",
    "    # for each unique stimdir\n",
    "    for i, unique_stim in enumerate(np.unique(stimdir)):\n",
    "        # get the response angle for that stimdir by masking the stimdir with the unique stimdir\n",
    "        stim_resp[sub, i] = final_resp_angles[sub][stimdir[sub]==unique_stim]\n",
    "\n",
    "stim_resp.shape"
   ]
  },
  {
   "cell_type": "code",
   "execution_count": 9,
   "metadata": {},
   "outputs": [],
   "source": [
    "circ_median = np.zeros((n_subjects, 5))\n",
    "circ_std = np.zeros((n_subjects, 5))\n",
    "\n",
    "for sub in range(n_subjects):\n",
    "    for i, unique_stim in enumerate(np.unique(stimdir)):\n",
    "        circ_median[sub, i] = circmedian(stim_resp[sub, i])\n",
    "        circ_std[sub, i] = np.rad2deg(circstd(np.deg2rad(stim_resp[sub, i]), nan_policy='omit'))"
   ]
  },
  {
   "cell_type": "code",
   "execution_count": 10,
   "metadata": {},
   "outputs": [],
   "source": [
    "# Manual tweaking one to negatives\n",
    "circ_median[11,0] = circ_median[11,0] - 360"
   ]
  },
  {
   "cell_type": "code",
   "execution_count": 11,
   "metadata": {},
   "outputs": [
    {
     "data": {
      "text/html": [
       "<div>\n",
       "<style scoped>\n",
       "    .dataframe tbody tr th:only-of-type {\n",
       "        vertical-align: middle;\n",
       "    }\n",
       "\n",
       "    .dataframe tbody tr th {\n",
       "        vertical-align: top;\n",
       "    }\n",
       "\n",
       "    .dataframe thead th {\n",
       "        text-align: right;\n",
       "    }\n",
       "</style>\n",
       "<table border=\"1\" class=\"dataframe\">\n",
       "  <thead>\n",
       "    <tr style=\"text-align: right;\">\n",
       "      <th></th>\n",
       "      <th>15</th>\n",
       "      <th>51</th>\n",
       "      <th>87</th>\n",
       "      <th>123</th>\n",
       "      <th>159</th>\n",
       "    </tr>\n",
       "  </thead>\n",
       "  <tbody>\n",
       "    <tr>\n",
       "      <th>01</th>\n",
       "      <td>18.752776</td>\n",
       "      <td>32.872185</td>\n",
       "      <td>64.547658</td>\n",
       "      <td>138.718044</td>\n",
       "      <td>145.877462</td>\n",
       "    </tr>\n",
       "    <tr>\n",
       "      <th>02</th>\n",
       "      <td>36.980188</td>\n",
       "      <td>46.453086</td>\n",
       "      <td>69.256176</td>\n",
       "      <td>134.912042</td>\n",
       "      <td>141.796043</td>\n",
       "    </tr>\n",
       "    <tr>\n",
       "      <th>03</th>\n",
       "      <td>15.590052</td>\n",
       "      <td>55.295314</td>\n",
       "      <td>83.992805</td>\n",
       "      <td>124.461200</td>\n",
       "      <td>150.389078</td>\n",
       "    </tr>\n",
       "    <tr>\n",
       "      <th>04</th>\n",
       "      <td>15.891056</td>\n",
       "      <td>49.407544</td>\n",
       "      <td>89.413314</td>\n",
       "      <td>116.616832</td>\n",
       "      <td>148.362786</td>\n",
       "    </tr>\n",
       "    <tr>\n",
       "      <th>05</th>\n",
       "      <td>23.332555</td>\n",
       "      <td>35.213999</td>\n",
       "      <td>74.428780</td>\n",
       "      <td>142.623388</td>\n",
       "      <td>153.771178</td>\n",
       "    </tr>\n",
       "    <tr>\n",
       "      <th>06</th>\n",
       "      <td>19.011896</td>\n",
       "      <td>39.561438</td>\n",
       "      <td>67.231716</td>\n",
       "      <td>127.133737</td>\n",
       "      <td>150.723443</td>\n",
       "    </tr>\n",
       "    <tr>\n",
       "      <th>07</th>\n",
       "      <td>22.130973</td>\n",
       "      <td>38.140917</td>\n",
       "      <td>82.005264</td>\n",
       "      <td>127.348362</td>\n",
       "      <td>139.820962</td>\n",
       "    </tr>\n",
       "    <tr>\n",
       "      <th>08</th>\n",
       "      <td>16.351909</td>\n",
       "      <td>37.877136</td>\n",
       "      <td>82.692124</td>\n",
       "      <td>122.602734</td>\n",
       "      <td>143.130102</td>\n",
       "    </tr>\n",
       "    <tr>\n",
       "      <th>09</th>\n",
       "      <td>1.391104</td>\n",
       "      <td>37.853070</td>\n",
       "      <td>75.131218</td>\n",
       "      <td>125.861780</td>\n",
       "      <td>159.547839</td>\n",
       "    </tr>\n",
       "    <tr>\n",
       "      <th>10</th>\n",
       "      <td>23.204631</td>\n",
       "      <td>43.472421</td>\n",
       "      <td>90.349254</td>\n",
       "      <td>127.499126</td>\n",
       "      <td>144.594361</td>\n",
       "    </tr>\n",
       "    <tr>\n",
       "      <th>11</th>\n",
       "      <td>4.930406</td>\n",
       "      <td>26.748492</td>\n",
       "      <td>67.105359</td>\n",
       "      <td>131.780960</td>\n",
       "      <td>149.509150</td>\n",
       "    </tr>\n",
       "    <tr>\n",
       "      <th>12</th>\n",
       "      <td>-0.454950</td>\n",
       "      <td>32.298844</td>\n",
       "      <td>90.346473</td>\n",
       "      <td>142.042460</td>\n",
       "      <td>180.452280</td>\n",
       "    </tr>\n",
       "    <tr>\n",
       "      <th>14</th>\n",
       "      <td>2.591583</td>\n",
       "      <td>37.048176</td>\n",
       "      <td>89.645622</td>\n",
       "      <td>137.879638</td>\n",
       "      <td>151.890213</td>\n",
       "    </tr>\n",
       "  </tbody>\n",
       "</table>\n",
       "</div>"
      ],
      "text/plain": [
       "          15         51         87          123         159\n",
       "01  18.752776  32.872185  64.547658  138.718044  145.877462\n",
       "02  36.980188  46.453086  69.256176  134.912042  141.796043\n",
       "03  15.590052  55.295314  83.992805  124.461200  150.389078\n",
       "04  15.891056  49.407544  89.413314  116.616832  148.362786\n",
       "05  23.332555  35.213999  74.428780  142.623388  153.771178\n",
       "06  19.011896  39.561438  67.231716  127.133737  150.723443\n",
       "07  22.130973  38.140917  82.005264  127.348362  139.820962\n",
       "08  16.351909  37.877136  82.692124  122.602734  143.130102\n",
       "09   1.391104  37.853070  75.131218  125.861780  159.547839\n",
       "10  23.204631  43.472421  90.349254  127.499126  144.594361\n",
       "11   4.930406  26.748492  67.105359  131.780960  149.509150\n",
       "12  -0.454950  32.298844  90.346473  142.042460  180.452280\n",
       "14   2.591583  37.048176  89.645622  137.879638  151.890213"
      ]
     },
     "execution_count": 11,
     "metadata": {},
     "output_type": "execute_result"
    }
   ],
   "source": [
    "pd.DataFrame(circ_median, index=subjects, columns=np.unique(stimdir))"
   ]
  },
  {
   "cell_type": "code",
   "execution_count": 12,
   "metadata": {},
   "outputs": [
    {
     "data": {
      "text/html": [
       "<div>\n",
       "<style scoped>\n",
       "    .dataframe tbody tr th:only-of-type {\n",
       "        vertical-align: middle;\n",
       "    }\n",
       "\n",
       "    .dataframe tbody tr th {\n",
       "        vertical-align: top;\n",
       "    }\n",
       "\n",
       "    .dataframe thead th {\n",
       "        text-align: right;\n",
       "    }\n",
       "</style>\n",
       "<table border=\"1\" class=\"dataframe\">\n",
       "  <thead>\n",
       "    <tr style=\"text-align: right;\">\n",
       "      <th></th>\n",
       "      <th>15</th>\n",
       "      <th>51</th>\n",
       "      <th>87</th>\n",
       "      <th>123</th>\n",
       "      <th>159</th>\n",
       "    </tr>\n",
       "  </thead>\n",
       "  <tbody>\n",
       "    <tr>\n",
       "      <th>01</th>\n",
       "      <td>9.022259</td>\n",
       "      <td>6.036654</td>\n",
       "      <td>11.451835</td>\n",
       "      <td>11.305999</td>\n",
       "      <td>5.991948</td>\n",
       "    </tr>\n",
       "    <tr>\n",
       "      <th>02</th>\n",
       "      <td>13.999590</td>\n",
       "      <td>9.031298</td>\n",
       "      <td>10.230571</td>\n",
       "      <td>6.295155</td>\n",
       "      <td>6.187493</td>\n",
       "    </tr>\n",
       "    <tr>\n",
       "      <th>03</th>\n",
       "      <td>11.178859</td>\n",
       "      <td>16.711538</td>\n",
       "      <td>10.886672</td>\n",
       "      <td>7.247380</td>\n",
       "      <td>14.853936</td>\n",
       "    </tr>\n",
       "    <tr>\n",
       "      <th>04</th>\n",
       "      <td>11.094986</td>\n",
       "      <td>9.799019</td>\n",
       "      <td>5.499574</td>\n",
       "      <td>9.622370</td>\n",
       "      <td>11.825942</td>\n",
       "    </tr>\n",
       "    <tr>\n",
       "      <th>05</th>\n",
       "      <td>11.053636</td>\n",
       "      <td>11.446332</td>\n",
       "      <td>11.261143</td>\n",
       "      <td>12.297227</td>\n",
       "      <td>9.700801</td>\n",
       "    </tr>\n",
       "    <tr>\n",
       "      <th>06</th>\n",
       "      <td>9.045171</td>\n",
       "      <td>8.031856</td>\n",
       "      <td>8.998997</td>\n",
       "      <td>7.385475</td>\n",
       "      <td>8.687619</td>\n",
       "    </tr>\n",
       "    <tr>\n",
       "      <th>07</th>\n",
       "      <td>9.529510</td>\n",
       "      <td>10.025275</td>\n",
       "      <td>8.359096</td>\n",
       "      <td>16.828024</td>\n",
       "      <td>9.591504</td>\n",
       "    </tr>\n",
       "    <tr>\n",
       "      <th>08</th>\n",
       "      <td>8.426546</td>\n",
       "      <td>8.591857</td>\n",
       "      <td>9.766157</td>\n",
       "      <td>8.657439</td>\n",
       "      <td>9.645553</td>\n",
       "    </tr>\n",
       "    <tr>\n",
       "      <th>09</th>\n",
       "      <td>4.381122</td>\n",
       "      <td>9.617331</td>\n",
       "      <td>7.500529</td>\n",
       "      <td>7.314267</td>\n",
       "      <td>10.317194</td>\n",
       "    </tr>\n",
       "    <tr>\n",
       "      <th>10</th>\n",
       "      <td>11.450448</td>\n",
       "      <td>16.236299</td>\n",
       "      <td>12.029523</td>\n",
       "      <td>10.773463</td>\n",
       "      <td>11.196595</td>\n",
       "    </tr>\n",
       "    <tr>\n",
       "      <th>11</th>\n",
       "      <td>5.925698</td>\n",
       "      <td>11.449763</td>\n",
       "      <td>6.466216</td>\n",
       "      <td>8.686382</td>\n",
       "      <td>7.846509</td>\n",
       "    </tr>\n",
       "    <tr>\n",
       "      <th>12</th>\n",
       "      <td>10.892273</td>\n",
       "      <td>10.099593</td>\n",
       "      <td>7.914740</td>\n",
       "      <td>10.192452</td>\n",
       "      <td>9.256806</td>\n",
       "    </tr>\n",
       "    <tr>\n",
       "      <th>14</th>\n",
       "      <td>11.030174</td>\n",
       "      <td>9.669497</td>\n",
       "      <td>9.763174</td>\n",
       "      <td>8.365202</td>\n",
       "      <td>10.002645</td>\n",
       "    </tr>\n",
       "  </tbody>\n",
       "</table>\n",
       "</div>"
      ],
      "text/plain": [
       "          15         51         87         123        159\n",
       "01   9.022259   6.036654  11.451835  11.305999   5.991948\n",
       "02  13.999590   9.031298  10.230571   6.295155   6.187493\n",
       "03  11.178859  16.711538  10.886672   7.247380  14.853936\n",
       "04  11.094986   9.799019   5.499574   9.622370  11.825942\n",
       "05  11.053636  11.446332  11.261143  12.297227   9.700801\n",
       "06   9.045171   8.031856   8.998997   7.385475   8.687619\n",
       "07   9.529510  10.025275   8.359096  16.828024   9.591504\n",
       "08   8.426546   8.591857   9.766157   8.657439   9.645553\n",
       "09   4.381122   9.617331   7.500529   7.314267  10.317194\n",
       "10  11.450448  16.236299  12.029523  10.773463  11.196595\n",
       "11   5.925698  11.449763   6.466216   8.686382   7.846509\n",
       "12  10.892273  10.099593   7.914740  10.192452   9.256806\n",
       "14  11.030174   9.669497   9.763174   8.365202  10.002645"
      ]
     },
     "execution_count": 12,
     "metadata": {},
     "output_type": "execute_result"
    }
   ],
   "source": [
    "pd.DataFrame(circ_std, index=subjects, columns=np.unique(stimdir))"
   ]
  },
  {
   "cell_type": "code",
   "execution_count": 14,
   "metadata": {},
   "outputs": [],
   "source": [
    "# np.save('circ_median.npy', circ_median)\n",
    "# np.save('circ_std.npy', circ_std)"
   ]
  },
  {
   "cell_type": "code",
   "execution_count": null,
   "metadata": {},
   "outputs": [],
   "source": []
  },
  {
   "cell_type": "code",
   "execution_count": null,
   "metadata": {},
   "outputs": [],
   "source": []
  },
  {
   "cell_type": "code",
   "execution_count": null,
   "metadata": {},
   "outputs": [],
   "source": []
  }
 ],
 "metadata": {
  "kernelspec": {
   "display_name": "ssm",
   "language": "python",
   "name": "python3"
  },
  "language_info": {
   "codemirror_mode": {
    "name": "ipython",
    "version": 3
   },
   "file_extension": ".py",
   "mimetype": "text/x-python",
   "name": "python",
   "nbconvert_exporter": "python",
   "pygments_lexer": "ipython3",
   "version": "3.10.6"
  }
 },
 "nbformat": 4,
 "nbformat_minor": 2
}
