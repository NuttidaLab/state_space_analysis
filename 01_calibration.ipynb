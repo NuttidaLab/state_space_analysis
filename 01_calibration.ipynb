{
 "cells": [
  {
   "cell_type": "code",
   "execution_count": 1,
   "metadata": {},
   "outputs": [],
   "source": [
    "import matplotlib.pyplot as plt\n",
    "from utils import validate, package_run_data, package_calib_data, circdist, circmedian"
   ]
  },
  {
   "cell_type": "code",
   "execution_count": null,
   "metadata": {},
   "outputs": [
    {
     "name": "stderr",
     "output_type": "stream",
     "text": [
      "Loading data: 100%|██████████| 52/52 [00:00<00:00, 290.71it/s]\n"
     ]
    }
   ],
   "source": [
    "ctiraltable, med, std, ctimetable = package_calib_data(do_clip=False)"
   ]
  },
  {
   "cell_type": "code",
   "execution_count": null,
   "metadata": {},
   "outputs": [
    {
     "name": "stderr",
     "output_type": "stream",
     "text": [
      "Loading data: 100%|██████████| 312/312 [00:00<00:00, 315.50it/s]\n"
     ]
    }
   ],
   "source": [
    "rtrialtable, rtimetable = package_run_data(med, std, do_clip=False)"
   ]
  },
  {
   "cell_type": "code",
   "execution_count": null,
   "metadata": {},
   "outputs": [
    {
     "data": {
      "text/html": [
       "<div>\n",
       "<style scoped>\n",
       "    .dataframe tbody tr th:only-of-type {\n",
       "        vertical-align: middle;\n",
       "    }\n",
       "\n",
       "    .dataframe tbody tr th {\n",
       "        vertical-align: top;\n",
       "    }\n",
       "\n",
       "    .dataframe thead th {\n",
       "        text-align: right;\n",
       "    }\n",
       "</style>\n",
       "<table border=\"1\" class=\"dataframe\">\n",
       "  <thead>\n",
       "    <tr style=\"text-align: right;\">\n",
       "      <th></th>\n",
       "      <th>subj</th>\n",
       "      <th>sess</th>\n",
       "      <th>run</th>\n",
       "      <th>trial</th>\n",
       "      <th>target</th>\n",
       "      <th>t_calib</th>\n",
       "      <th>resp</th>\n",
       "      <th>resp_err</th>\n",
       "      <th>v_err</th>\n",
       "      <th>exp</th>\n",
       "      <th>nn</th>\n",
       "      <th>1sig</th>\n",
       "      <th>2sig</th>\n",
       "      <th>nn_c</th>\n",
       "      <th>att</th>\n",
       "      <th>coh</th>\n",
       "      <th>exp_al</th>\n",
       "      <th>f_onset</th>\n",
       "      <th>f_resp</th>\n",
       "      <th>dir</th>\n",
       "    </tr>\n",
       "  </thead>\n",
       "  <tbody>\n",
       "    <tr>\n",
       "      <th>0</th>\n",
       "      <td>0</td>\n",
       "      <td>0</td>\n",
       "      <td>0</td>\n",
       "      <td>0</td>\n",
       "      <td>159.0</td>\n",
       "      <td>145.88</td>\n",
       "      <td>150.88</td>\n",
       "      <td>5.00</td>\n",
       "      <td>5.00</td>\n",
       "      <td>145.88</td>\n",
       "      <td>145.88</td>\n",
       "      <td>1.0</td>\n",
       "      <td>1.0</td>\n",
       "      <td>1.0</td>\n",
       "      <td>-1</td>\n",
       "      <td>1</td>\n",
       "      <td>1.0</td>\n",
       "      <td>132</td>\n",
       "      <td>373</td>\n",
       "      <td>higher</td>\n",
       "    </tr>\n",
       "    <tr>\n",
       "      <th>1</th>\n",
       "      <td>0</td>\n",
       "      <td>0</td>\n",
       "      <td>0</td>\n",
       "      <td>1</td>\n",
       "      <td>123.0</td>\n",
       "      <td>138.72</td>\n",
       "      <td>127.92</td>\n",
       "      <td>10.80</td>\n",
       "      <td>-10.80</td>\n",
       "      <td>145.88</td>\n",
       "      <td>138.72</td>\n",
       "      <td>1.0</td>\n",
       "      <td>1.0</td>\n",
       "      <td>1.0</td>\n",
       "      <td>1</td>\n",
       "      <td>1</td>\n",
       "      <td>0.0</td>\n",
       "      <td>204</td>\n",
       "      <td>280</td>\n",
       "      <td>lower</td>\n",
       "    </tr>\n",
       "    <tr>\n",
       "      <th>2</th>\n",
       "      <td>0</td>\n",
       "      <td>0</td>\n",
       "      <td>0</td>\n",
       "      <td>2</td>\n",
       "      <td>51.0</td>\n",
       "      <td>32.87</td>\n",
       "      <td>131.00</td>\n",
       "      <td>98.13</td>\n",
       "      <td>98.13</td>\n",
       "      <td>145.88</td>\n",
       "      <td>138.72</td>\n",
       "      <td>0.0</td>\n",
       "      <td>0.0</td>\n",
       "      <td>0.0</td>\n",
       "      <td>1</td>\n",
       "      <td>1</td>\n",
       "      <td>0.0</td>\n",
       "      <td>168</td>\n",
       "      <td>250</td>\n",
       "      <td>higher</td>\n",
       "    </tr>\n",
       "    <tr>\n",
       "      <th>3</th>\n",
       "      <td>0</td>\n",
       "      <td>0</td>\n",
       "      <td>0</td>\n",
       "      <td>3</td>\n",
       "      <td>159.0</td>\n",
       "      <td>145.88</td>\n",
       "      <td>144.78</td>\n",
       "      <td>1.10</td>\n",
       "      <td>-1.10</td>\n",
       "      <td>145.88</td>\n",
       "      <td>145.88</td>\n",
       "      <td>1.0</td>\n",
       "      <td>1.0</td>\n",
       "      <td>1.0</td>\n",
       "      <td>-1</td>\n",
       "      <td>1</td>\n",
       "      <td>1.0</td>\n",
       "      <td>168</td>\n",
       "      <td>337</td>\n",
       "      <td>lower</td>\n",
       "    </tr>\n",
       "    <tr>\n",
       "      <th>4</th>\n",
       "      <td>0</td>\n",
       "      <td>0</td>\n",
       "      <td>0</td>\n",
       "      <td>4</td>\n",
       "      <td>15.0</td>\n",
       "      <td>18.75</td>\n",
       "      <td>142.79</td>\n",
       "      <td>124.04</td>\n",
       "      <td>124.04</td>\n",
       "      <td>145.88</td>\n",
       "      <td>145.88</td>\n",
       "      <td>0.0</td>\n",
       "      <td>0.0</td>\n",
       "      <td>0.0</td>\n",
       "      <td>-1</td>\n",
       "      <td>-1</td>\n",
       "      <td>0.0</td>\n",
       "      <td>180</td>\n",
       "      <td>270</td>\n",
       "      <td>higher</td>\n",
       "    </tr>\n",
       "  </tbody>\n",
       "</table>\n",
       "</div>"
      ],
      "text/plain": [
       "   subj  sess  run  trial  target  t_calib    resp  resp_err   v_err     exp  \\\n",
       "0     0     0    0      0   159.0   145.88  150.88      5.00    5.00  145.88   \n",
       "1     0     0    0      1   123.0   138.72  127.92     10.80  -10.80  145.88   \n",
       "2     0     0    0      2    51.0    32.87  131.00     98.13   98.13  145.88   \n",
       "3     0     0    0      3   159.0   145.88  144.78      1.10   -1.10  145.88   \n",
       "4     0     0    0      4    15.0    18.75  142.79    124.04  124.04  145.88   \n",
       "\n",
       "       nn  1sig  2sig  nn_c  att  coh  exp_al  f_onset  f_resp     dir  \n",
       "0  145.88   1.0   1.0   1.0   -1    1     1.0      132     373  higher  \n",
       "1  138.72   1.0   1.0   1.0    1    1     0.0      204     280   lower  \n",
       "2  138.72   0.0   0.0   0.0    1    1     0.0      168     250  higher  \n",
       "3  145.88   1.0   1.0   1.0   -1    1     1.0      168     337   lower  \n",
       "4  145.88   0.0   0.0   0.0   -1   -1     0.0      180     270  higher  "
      ]
     },
     "metadata": {},
     "output_type": "display_data"
    }
   ],
   "source": [
    "rtrialtable.head().round(2)"
   ]
  },
  {
   "cell_type": "code",
   "execution_count": null,
   "metadata": {},
   "outputs": [],
   "source": []
  },
  {
   "cell_type": "code",
   "execution_count": null,
   "metadata": {},
   "outputs": [],
   "source": []
  }
 ],
 "metadata": {
  "kernelspec": {
   "display_name": "ssm",
   "language": "python",
   "name": "python3"
  },
  "language_info": {
   "codemirror_mode": {
    "name": "ipython",
    "version": 3
   },
   "file_extension": ".py",
   "mimetype": "text/x-python",
   "name": "python",
   "nbconvert_exporter": "python",
   "pygments_lexer": "ipython3",
   "version": "3.9.20"
  }
 },
 "nbformat": 4,
 "nbformat_minor": 2
}
