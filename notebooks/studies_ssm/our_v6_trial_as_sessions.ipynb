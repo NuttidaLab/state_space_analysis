{
 "cells": [
  {
   "cell_type": "code",
   "execution_count": 1,
   "metadata": {},
   "outputs": [],
   "source": [
    "import numpy as np\n",
    "import numpy.random as npr\n",
    "import matplotlib.pyplot as plt\n",
    "import ssm\n",
    "from ssm.util import find_permutation\n",
    "from pathlib import Path\n",
    "from scipy import io\n",
    "\n",
    "npr.seed(0)\n",
    "rng = npr.default_rng()\n",
    "\n",
    "rnn_dirs = sorted(Path(\"rnns/\").iterdir())"
   ]
  },
  {
   "cell_type": "code",
   "execution_count": 2,
   "metadata": {},
   "outputs": [
    {
     "name": "stdout",
     "output_type": "stream",
     "text": [
      "rnns/01_meta.mat rnns/01_trail.mat\n",
      "performance: 0.98\n",
      "num_iterations: 8301\n",
      "--------------------\n",
      "rnns/02_meta.mat rnns/02_trail.mat\n",
      "performance: 0.98\n",
      "num_iterations: 16501\n",
      "--------------------\n",
      "rnns/03_meta.mat rnns/03_trial.mat\n",
      "performance: 0.96\n",
      "num_iterations: 13501\n",
      "--------------------\n",
      "rnns/04_meta.mat rnns/04_trial.mat\n",
      "performance: 0.97\n",
      "num_iterations: 9501\n",
      "--------------------\n",
      "rnns/05_meta.mat rnns/05_trial.mat\n",
      "performance: 0.97\n",
      "num_iterations: 8501\n",
      "--------------------\n"
     ]
    }
   ],
   "source": [
    "def check_rnn_quality(rnn_dirs):\n",
    "    # loop through them in bundles of 2\n",
    "    for i in range(0, len(rnn_dirs), 2):\n",
    "\n",
    "        # load the data\n",
    "        meta = io.loadmat(rnn_dirs[i])\n",
    "        trial = io.loadmat(rnn_dirs[i + 1])\n",
    "\n",
    "        print(rnn_dirs[i], rnn_dirs[i + 1])\n",
    "        print('performance:', meta['eval_perf_mean'][0,0])\n",
    "        print('num_iterations:', meta['tr'][0,0])\n",
    "        print('-'*20)\n",
    "\n",
    "# to ensure all the rnns are trained appropriately\n",
    "check_rnn_quality(rnn_dirs)"
   ]
  },
  {
   "cell_type": "code",
   "execution_count": 3,
   "metadata": {},
   "outputs": [],
   "source": [
    "def load_rnn(rnn_dirs, rnn_num):\n",
    "    trial = io.loadmat(rnn_dirs[rnn_num * 2 - 1])\n",
    "    return trial['test_out']"
   ]
  },
  {
   "cell_type": "code",
   "execution_count": 4,
   "metadata": {},
   "outputs": [
    {
     "data": {
      "text/plain": [
       "(1, 200, 1)"
      ]
     },
     "execution_count": 4,
     "metadata": {},
     "output_type": "execute_result"
    }
   ],
   "source": [
    "choices = load_rnn(rnn_dirs, 1)\n",
    "model_choices = (choices[:,:,-50:].mean(axis=2) > 0.5).astype(int).reshape(1,-1,1) # choices_binarized\n",
    "model_choices.shape\n",
    "\n",
    "# model_choices = [(load_rnn(rnn_dirs, rnn_num)[:,:,-50:].mean(axis=2) > 0.5).astype(int).reshape(-1,1) for rnn_num in range(1,6)]\n",
    "# model_choices = np.array(model_choices)\n",
    "# model_choices.shape"
   ]
  },
  {
   "cell_type": "code",
   "execution_count": 5,
   "metadata": {},
   "outputs": [],
   "source": [
    "model_choices = model_choices.reshape(-1,1,1)"
   ]
  },
  {
   "cell_type": "code",
   "execution_count": 6,
   "metadata": {},
   "outputs": [
    {
     "name": "stdout",
     "output_type": "stream",
     "text": [
      "accuracy: 95.0 %\n"
     ]
    }
   ],
   "source": [
    "# validating model acuracy\n",
    "ground_truth = np.concatenate([np.ones(50), np.zeros(100), np.ones(50)]*5).reshape(5,-1,1)\n",
    "print('accuracy:', (ground_truth == model_choices).mean() * 100, '%')"
   ]
  },
  {
   "cell_type": "code",
   "execution_count": 8,
   "metadata": {},
   "outputs": [],
   "source": [
    "# input dimensions:\n",
    "# 1: stimulus conditions\n",
    "# 2: previous choice\n",
    "# 3: win-stay lose-switch\n",
    "# 4: stimulus bias\n",
    "\n",
    "n_sessions = 1\n",
    "n_trials = 200\n",
    "\n",
    "bias = np.zeros((n_sessions, n_trials, 1))\n",
    "\n",
    "# stimulus conditions as per the structure of the rnn testing\n",
    "# stimulus_conditions = np.array([[x]*50 for x in [1,0,0,1]] * n_sessions).reshape(5,-1,1)\n",
    "# stimulus_conditions = np.array([[x]*50 for x in [0,1,1,0]] * n_sessions).reshape(5,-1,1)\n",
    "\n",
    "first_stimulus = np.array([[x]*50 for x in [1,1,0,0]] * n_sessions).reshape(n_sessions,-1,1)\n",
    "second_stimulus = np.array([[x]*50 for x in [0,0,1,1]] * n_sessions).reshape(n_sessions,-1,1)"
   ]
  },
  {
   "cell_type": "code",
   "execution_count": 9,
   "metadata": {},
   "outputs": [
    {
     "data": {
      "text/plain": [
       "(1, 200, 3)"
      ]
     },
     "execution_count": 9,
     "metadata": {},
     "output_type": "execute_result"
    }
   ],
   "source": [
    "covariates = np.concatenate((first_stimulus, second_stimulus, bias), axis=2)\n",
    "covariates.shape"
   ]
  },
  {
   "cell_type": "code",
   "execution_count": 10,
   "metadata": {},
   "outputs": [],
   "source": [
    "covariates = covariates.reshape(200, 1, 3)"
   ]
  },
  {
   "cell_type": "code",
   "execution_count": 9,
   "metadata": {},
   "outputs": [],
   "source": [
    "# model_choices[0].reshape(-1), covariates[0, :, 0].reshape(-1)"
   ]
  },
  {
   "cell_type": "code",
   "execution_count": 10,
   "metadata": {},
   "outputs": [],
   "source": [
    "# shuffle_mix = np.concatenate((model_choices, covariates), axis=2)\n",
    "# rng.shuffle(shuffle_mix, axis=1)\n",
    "\n",
    "# model_choices = shuffle_mix[:, :, 0:1].astype(int)\n",
    "# covariates = shuffle_mix[:, :, 1:].astype(int)\n",
    "# model_choices.shape, covariates.shape, model_choices.dtype, covariates.dtype"
   ]
  },
  {
   "cell_type": "code",
   "execution_count": 12,
   "metadata": {},
   "outputs": [
    {
     "data": {
      "application/vnd.jupyter.widget-view+json": {
       "model_id": "287ed4c7243743308333aac08af5679a",
       "version_major": 2,
       "version_minor": 0
      },
      "text/plain": [
       "  0%|          | 0/100 [00:00<?, ?it/s]"
      ]
     },
     "metadata": {},
     "output_type": "display_data"
    }
   ],
   "source": [
    "# Set the parameters of the GLM-HMM\n",
    "num_states = 3        # number of discrete states - state guess\n",
    "obs_dim = 1           # number of observed dimensions (model choices output - single value) n_final layer output dimentions\n",
    "num_categories = 2    # number of categories for output (binary model choice)\n",
    "input_dim = 3         # input dimensions (first_stimulus, second_stimulus, bias)\n",
    "\n",
    "# Make a GLM-HMM\n",
    "glmhmm = ssm.HMM(num_states, obs_dim, input_dim, observations=\"input_driven_obs\",\n",
    "                 observation_kwargs=dict(C=num_categories), transitions=\"standard\")\n",
    "\n",
    "N_iters = 100\n",
    "### CHECK THIS: BOTH CHOICES AND COVARIATES NEED TO LISTS OF NDARRAYS\n",
    "fit_ll = glmhmm.fit([x for x in model_choices], inputs=[x for x in covariates], method=\"em\", num_iters=N_iters)"
   ]
  },
  {
   "cell_type": "code",
   "execution_count": 13,
   "metadata": {},
   "outputs": [
    {
     "data": {
      "image/png": "[encoded data removed]",
      "text/plain": [
       "<Figure size 320x240 with 1 Axes>"
      ]
     },
     "metadata": {},
     "output_type": "display_data"
    }
   ],
   "source": [
    "# Plot the log probabilities of the true and fit models. Fit model final LL should be greater \n",
    "# than or equal to true LL.\n",
    "fig = plt.figure(figsize=(4, 3), dpi=80, facecolor='w', edgecolor='k')\n",
    "plt.plot(fit_ll, label=\"EM\")\n",
    "plt.legend(loc=\"lower right\")\n",
    "plt.xlabel(\"EM Iteration\")\n",
    "plt.xlim(0, len(fit_ll))\n",
    "plt.ylabel(\"Log Probability\")\n",
    "plt.show()"
   ]
  },
  {
   "cell_type": "code",
   "execution_count": 14,
   "metadata": {},
   "outputs": [],
   "source": [
    "# Posterior State Probabilities\n",
    "# Get expected states:\n",
    "posterior_probs = [glmhmm.expected_states(data=data, input=inpt)[0]\n",
    "                for data, inpt\n",
    "                in zip([x for x in model_choices], \n",
    "                       [x for x in covariates])]"
   ]
  },
  {
   "cell_type": "code",
   "execution_count": 15,
   "metadata": {},
   "outputs": [
    {
     "data": {
      "image/png": "[encoded data removed]",
      "text/plain": [
       "<Figure size 400x200 with 1 Axes>"
      ]
     },
     "metadata": {},
     "output_type": "display_data"
    }
   ],
   "source": [
    "cols = ['#ff7f00', '#4daf4a', '#377eb8']\n",
    "fig = plt.figure(figsize=(5, 2.5), dpi=80, facecolor='w', edgecolor='k')\n",
    "sess_id = 0 #session id; can choose any index between 0 and num_sess-1\n",
    "for k in range(num_states):\n",
    "    plt.plot(posterior_probs[sess_id][:, k], label=\"State \" + str(k + 1), lw=2,\n",
    "             color=cols[k])\n",
    "plt.ylim((-0.01, 1.01))\n",
    "plt.yticks([0, 0.5, 1], fontsize = 10)\n",
    "plt.xlabel(\"trial #\", fontsize = 15)\n",
    "plt.ylabel(\"p(state)\", fontsize = 15)\n",
    "plt.legend(loc=\"upper right\", fontsize = 10)\n",
    "plt.show()"
   ]
  },
  {
   "cell_type": "code",
   "execution_count": 16,
   "metadata": {},
   "outputs": [],
   "source": [
    "# concatenate posterior probabilities across sessions\n",
    "posterior_probs_concat = np.concatenate(posterior_probs)\n",
    "# get state with maximum posterior probability at particular trial:\n",
    "state_max_posterior = np.argmax(posterior_probs_concat, axis = 1)\n",
    "# now obtain state fractional occupancies:\n",
    "_, state_occupancies = np.unique(state_max_posterior, return_counts=True)\n",
    "state_occupancies = state_occupancies/np.sum(state_occupancies)"
   ]
  },
  {
   "cell_type": "code",
   "execution_count": 17,
   "metadata": {},
   "outputs": [
    {
     "data": {
      "text/plain": [
       "array([0.52, 0.48])"
      ]
     },
     "execution_count": 17,
     "metadata": {},
     "output_type": "execute_result"
    }
   ],
   "source": [
    "state_occupancies"
   ]
  },
  {
   "cell_type": "code",
   "execution_count": 18,
   "metadata": {},
   "outputs": [
    {
     "data": {
      "text/plain": [
       "Text(0, 0.5, 'frac. occupancy')"
      ]
     },
     "execution_count": 18,
     "metadata": {},
     "output_type": "execute_result"
    },
    {
     "data": {
      "image/png": "[encoded data removed]",
      "text/plain": [
       "<Figure size 160x200 with 1 Axes>"
      ]
     },
     "metadata": {},
     "output_type": "display_data"
    }
   ],
   "source": [
    "fig = plt.figure(figsize=(2, 2.5), dpi=80, facecolor='w', edgecolor='k')\n",
    "for z, occ in enumerate(state_occupancies):\n",
    "    plt.bar(z, occ, width = 0.8, color = cols[z])\n",
    "plt.ylim((0, 1))\n",
    "plt.xticks(list(range(0,len(state_occupancies))), [str(x) for x in range(1, len(state_occupancies) + 1)], fontsize = 10)\n",
    "plt.yticks([0, 0.5, 1], ['0', '0.5', '1'], fontsize=10)\n",
    "plt.xlabel('state', fontsize = 15)\n",
    "plt.ylabel('frac. occupancy', fontsize=15)"
   ]
  },
  {
   "cell_type": "code",
   "execution_count": 19,
   "metadata": {},
   "outputs": [],
   "source": [
    "mle_weights = glmhmm.observations.params\n",
    "mle_log_trans_mat = glmhmm.transitions.params"
   ]
  },
  {
   "cell_type": "code",
   "execution_count": 20,
   "metadata": {},
   "outputs": [
    {
     "data": {
      "text/plain": [
       "Text(0.5, 1.0, 'Recovered transition matrix')"
      ]
     },
     "execution_count": 20,
     "metadata": {},
     "output_type": "execute_result"
    },
    {
     "data": {
      "image/png": "[encoded data removed]",
      "text/plain": [
       "<Figure size 640x240 with 2 Axes>"
      ]
     },
     "metadata": {},
     "output_type": "display_data"
    }
   ],
   "source": [
    "# Plot MLE parameters:\n",
    "fig = plt.figure(figsize=(8, 3), dpi=80, facecolor='w', edgecolor='k')\n",
    "plt.subplot(1, 2, 1)\n",
    "cols = ['#ff7f00', '#4daf4a', '#377eb8']\n",
    "for k in range(num_states):\n",
    "    plt.plot(range(input_dim), mle_weights[k][0], marker='o',\n",
    "             color=cols[k], linestyle='-',\n",
    "             lw=1.5, label=\"state \" + str(k+1))\n",
    "plt.yticks(fontsize=10)\n",
    "plt.ylabel(\"GLM weight\", fontsize=15)\n",
    "plt.xlabel(\"covariate\", fontsize=15)\n",
    "plt.xticks([0, 1, 2], ['first_stimulus', 'second_stimulus', 'bias'], fontsize=10, rotation=45)\n",
    "plt.axhline(y=0, color=\"k\", alpha=0.5, ls=\"--\")\n",
    "plt.legend()\n",
    "plt.title(\"Recovered weights\", fontsize = 15)\n",
    "\n",
    "plt.subplot(1, 2, 2)\n",
    "gen_trans_mat = np.exp(mle_log_trans_mat)[0]\n",
    "plt.imshow(gen_trans_mat, vmin=-0.8, vmax=1, cmap='bone')\n",
    "for i in range(gen_trans_mat.shape[0]):\n",
    "    for j in range(gen_trans_mat.shape[1]):\n",
    "        text = plt.text(j, i, str(np.around(gen_trans_mat[i, j], decimals=2)), ha=\"center\", va=\"center\",\n",
    "                        color=\"k\", fontsize=12)\n",
    "plt.xlim(-0.5, num_states - 0.5)\n",
    "plt.xticks(range(0, num_states), ('1', '2', '3'), fontsize=10)\n",
    "plt.yticks(range(0, num_states), ('1', '2', '3'), fontsize=10)\n",
    "plt.ylim(num_states - 0.5, -0.5)\n",
    "plt.ylabel(\"state t\", fontsize = 15)\n",
    "plt.xlabel(\"state t+1\", fontsize = 15)\n",
    "plt.title(\"Recovered transition matrix\", fontsize = 15)"
   ]
  }
 ],
 "metadata": {
  "kernelspec": {
   "display_name": "glmhmm",
   "language": "python",
   "name": "python3"
  },
  "language_info": {
   "codemirror_mode": {
    "name": "ipython",
    "version": 3
   },
   "file_extension": ".py",
   "mimetype": "text/x-python",
   "name": "python",
   "nbconvert_exporter": "python",
   "pygments_lexer": "ipython3",
   "version": "3.7.6"
  },
  "orig_nbformat": 4
 },
 "nbformat": 4,
 "nbformat_minor": 2
}
