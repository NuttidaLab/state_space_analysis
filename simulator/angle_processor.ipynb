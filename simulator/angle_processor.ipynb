{
 "cells": [
  {
   "cell_type": "code",
   "execution_count": 101,
   "metadata": {},
   "outputs": [],
   "source": [
    "# load all pickle files in a directory (all of them are lists)\n",
    "\n",
    "import pickle\n",
    "import pathlib\n",
    "import numpy as np"
   ]
  },
  {
   "cell_type": "code",
   "execution_count": 102,
   "metadata": {},
   "outputs": [],
   "source": [
    "def load_pickle_files(path):\n",
    "    pathlist = pathlib.Path(path).glob('*.pkl')\n",
    "    list_of_lists = []\n",
    "    for path in sorted(pathlist):\n",
    "        path_in_str = str(path)\n",
    "        print(path_in_str)\n",
    "        with open(path_in_str, 'rb') as f:\n",
    "            list_of_lists.append(pickle.load(f))\n",
    "    return list_of_lists\n",
    "\n",
    "# replace zero at the end of the array with last non zero value\n",
    "def replace_zeros(arr):\n",
    "    for i in range(len(arr)):\n",
    "        for j in range(len(arr[i])):\n",
    "            if arr[i][j] == 0:\n",
    "                arr[i][j] = arr[i][j-1]\n",
    "    return arr"
   ]
  },
  {
   "cell_type": "code",
   "execution_count": 103,
   "metadata": {},
   "outputs": [
    {
     "name": "stdout",
     "output_type": "stream",
     "text": [
      "/home/rudra/Desktop/markov_models/synthetic_joystic/recorded/attentive.pkl\n",
      "/home/rudra/Desktop/markov_models/synthetic_joystic/recorded/left_bias.pkl\n",
      "/home/rudra/Desktop/markov_models/synthetic_joystic/recorded/rebel.pkl\n",
      "/home/rudra/Desktop/markov_models/synthetic_joystic/recorded/top_bias.pkl\n"
     ]
    }
   ],
   "source": [
    "data = load_pickle_files('/home/rudra/Desktop/markov_models/synthetic_joystic/recorded')"
   ]
  },
  {
   "cell_type": "code",
   "execution_count": 104,
   "metadata": {},
   "outputs": [],
   "source": [
    "target_angles = []\n",
    "for files in data: target_angles.append(files[-1][:, 0])"
   ]
  },
  {
   "cell_type": "code",
   "execution_count": 105,
   "metadata": {},
   "outputs": [
    {
     "data": {
      "text/plain": [
       "array([[ 47.63350621, 126.13505974, 304.35863703, 229.73362297,\n",
       "          4.12979537, 317.10494267,  47.60077305, 227.48687995,\n",
       "        181.55450061, 133.27525528, 297.77833861, 329.79318325,\n",
       "         88.69721678, 307.82421182, 356.68681174, 177.42785519,\n",
       "        198.43095836, 219.22420868, 317.33350397, 359.22611964],\n",
       "       [119.02205865,  33.88335166, 268.38503178,  71.10400744,\n",
       "        343.15929477,  31.84747105, 251.92030748, 268.15952462,\n",
       "        280.958378  , 112.65937743, 272.51677652, 256.07237399,\n",
       "         38.01935833, 138.41207972, 126.64988314, 279.23287102,\n",
       "        150.77749463, 207.56735157, 289.45607619, 186.02720236],\n",
       "       [164.38885618, 133.86480524, 232.38302683, 307.25247308,\n",
       "        351.98388737, 229.12247434, 255.25732502, 286.9473308 ,\n",
       "        120.91912885, 252.2998257 , 345.24050978, 123.8264796 ,\n",
       "         49.69239565, 228.38904533,  88.42609823, 347.40237226,\n",
       "        160.92140108,  40.25570246, 341.73207653, 154.96872532],\n",
       "       [ 45.62339569, 141.2569898 , 332.63716156, 320.71035329,\n",
       "        104.90318858, 268.25880154, 110.33906373, 340.81489669,\n",
       "         81.54586188, 242.66412947, 321.93032668, 319.28293355,\n",
       "         57.95511974, 244.05039271, 350.45715127, 297.79532156,\n",
       "        186.79278423, 271.03313689, 235.65902206, 328.3728666 ]])"
      ]
     },
     "execution_count": 105,
     "metadata": {},
     "output_type": "execute_result"
    }
   ],
   "source": [
    "target_angles = np.array(target_angles)\n",
    "target_angles"
   ]
  },
  {
   "cell_type": "code",
   "execution_count": 106,
   "metadata": {},
   "outputs": [
    {
     "data": {
      "text/plain": [
       "(4, 20, 1300)"
      ]
     },
     "execution_count": 106,
     "metadata": {},
     "output_type": "execute_result"
    }
   ],
   "source": [
    "cursor_angles = []\n",
    "for files in data: cursor_angles.append(files[-2][:, :, 0])\n",
    "cursor_angles = np.array(cursor_angles)\n",
    "cursor_angles.shape"
   ]
  },
  {
   "cell_type": "code",
   "execution_count": 107,
   "metadata": {},
   "outputs": [],
   "source": [
    "cursor_angles = replace_zeros(cursor_angles.reshape(-1, 1300)).reshape(4, 20, 1300)[:,:, -1]"
   ]
  },
  {
   "cell_type": "code",
   "execution_count": 108,
   "metadata": {},
   "outputs": [
    {
     "data": {
      "text/plain": [
       "array([[ 47.96974843, 125.70308085, 304.24903301, 229.47665875,\n",
       "          4.20961106, 317.00955381,  47.33110748, 227.63011266,\n",
       "        182.24025735, 133.09418862, 297.72498721, 329.95111773,\n",
       "         88.71106244, 307.67359334, 356.72545315, 177.11600089,\n",
       "        198.66321765, 219.30959565, 317.23380926, 359.26922611],\n",
       "       [177.84163287, 178.14779689, 177.69789171, 177.84703721,\n",
       "        178.69804733, 179.44374777, 180.14432156, 180.        ,\n",
       "        186.46176491, 180.58314301, 178.29864539, 176.67594923,\n",
       "        178.23760898, 179.13847427, 176.45898433, 178.53868991,\n",
       "        180.57726792, 178.54610453, 178.85136634, 180.28791607],\n",
       "       [344.563073  , 309.56452231,  49.91097585, 140.3185127 ,\n",
       "        179.14744716,  47.16107949,  75.65066796, 115.2239234 ,\n",
       "        311.74112569,  78.69006753, 173.51360443, 301.55138495,\n",
       "        233.41586447,  47.1210964 , 265.15359517, 166.06724067,\n",
       "        341.06762597, 228.89584801, 154.14147531, 336.1673024 ],\n",
       "       [273.60328864, 271.16320625, 269.85711805, 270.28505128,\n",
       "        272.60914187, 268.83679375, 268.98985164, 271.59921294,\n",
       "        267.43622979, 267.36420359, 268.80026376, 268.56071037,\n",
       "        266.09950626, 267.85241457, 270.57726792, 267.21087236,\n",
       "        268.39263208, 267.90109407, 267.84703721, 265.55589388]])"
      ]
     },
     "execution_count": 108,
     "metadata": {},
     "output_type": "execute_result"
    }
   ],
   "source": [
    "cursor_angles"
   ]
  },
  {
   "cell_type": "code",
   "execution_count": 109,
   "metadata": {},
   "outputs": [
    {
     "data": {
      "text/plain": [
       "(4, 20)"
      ]
     },
     "execution_count": 109,
     "metadata": {},
     "output_type": "execute_result"
    }
   ],
   "source": [
    "cursor_angles.shape"
   ]
  },
  {
   "cell_type": "code",
   "execution_count": 110,
   "metadata": {},
   "outputs": [],
   "source": [
    "# for 4 subjects, we have 20 trials\n",
    "\n",
    "# for each of the subjects\n",
    "# randomly sample 100 trials with same index of target and cursor angles\n",
    "# choose a random degree between -10 and +10\n",
    "# add that degree to the cursor angle and target angle\n",
    "# save the new cursor angle and target angle in a new list\n",
    "\n",
    "aug_cursor = []\n",
    "aug_target = []\n",
    "\n",
    "for i in range(4):\n",
    "    t_cursor = []\n",
    "    t_target = []\n",
    "    for x in range(100):\n",
    "        # sample a random index\n",
    "        index = np.random.randint(0, 20)\n",
    "        # sample a random degree\n",
    "        degree = np.random.randint(-10, 10)\n",
    "        # add the degree to the cursor angle and target angle\n",
    "        t_cursor.append(cursor_angles[i][index] + degree)\n",
    "        t_target.append(target_angles[i][index] + degree)\n",
    "    \n",
    "    aug_cursor.append(t_cursor)\n",
    "    aug_target.append(t_target)\n",
    "\n",
    "aug_cursor = np.array(aug_cursor)\n",
    "aug_target = np.array(aug_target)\n",
    "\n",
    "# make them 2 decimal places\n",
    "aug_cursor = np.round(aug_cursor, 2)\n",
    "aug_target = np.round(aug_target, 2)"
   ]
  },
  {
   "cell_type": "code",
   "execution_count": 111,
   "metadata": {},
   "outputs": [
    {
     "data": {
      "text/plain": [
       "array([[134.09, 229.63, 359.27, 130.7 , 288.72, 309.25, 227.48, 323.23,\n",
       "        322.23,  81.71, 313.67, 309.23, 321.23, 323.95, 314.67, 338.95,\n",
       "         56.97, 127.09, 236.48, 173.24, 314.67,  89.71, 360.27, 175.24,\n",
       "        294.72,  48.33, 322.01, 351.27, 355.27, 354.73, 229.48, 309.25,\n",
       "        182.24,   8.21,  46.33, 188.24, 357.73, 307.67, 309.67, 228.48,\n",
       "        289.72, 301.25, 177.12, 319.01,   9.21,  -0.79, 220.48, 359.27,\n",
       "        172.24, 221.31,  12.21, 235.48, 238.48, 301.72, 226.48, 308.25,\n",
       "        297.67, 360.27, 356.27, 224.31, 226.63, 222.63,  53.97, 363.73,\n",
       "        295.72, 313.67, 218.63, 356.27, 306.67, 297.25, 180.24, 130.7 ,\n",
       "        311.01, 350.73, 320.01,  55.33, 361.27, 310.01, 180.12, 129.09,\n",
       "        228.31, 297.72, 321.01, 123.7 ,  86.71,  13.21,  86.71, 321.23,\n",
       "        309.23,  42.97, 228.63,  10.21, 125.7 , 190.24, 316.01,  -5.79,\n",
       "        297.25,  11.21,  -1.79, 314.01],\n",
       "       [186.  , 179.54, 172.58, 182.7 , 177.85, 186.44, 175.24, 177.46,\n",
       "        168.84, 182.54, 183.85, 175.46, 187.58, 180.14, 183.  , 166.68,\n",
       "        182.7 , 181.3 , 186.58, 168.85, 180.55, 178.7 , 177.58, 178.55,\n",
       "        179.84, 183.24, 172.7 , 185.44, 178.84, 181.14, 180.58, 189.  ,\n",
       "        186.46, 182.14, 169.85, 176.55, 171.85, 171.44, 170.55, 179.14,\n",
       "        181.24, 169.3 , 187.  , 170.  , 175.15, 179.84, 187.14, 184.15,\n",
       "        171.  , 172.85, 171.85, 175.  , 182.85, 182.58, 174.15, 184.14,\n",
       "        189.  , 172.84, 171.58, 178.54, 177.7 , 179.55, 179.24, 175.54,\n",
       "        187.58, 174.68, 177.85, 188.14, 185.14, 184.24, 170.55, 187.58,\n",
       "        177.29, 171.29, 178.46, 177.14, 171.55, 176.55, 178.85, 180.  ,\n",
       "        186.3 , 179.7 , 170.85, 178.14, 177.  , 181.15, 169.3 , 185.15,\n",
       "        183.44, 180.7 , 185.85, 174.14, 178.15, 184.46, 176.58, 179.54,\n",
       "        185.7 , 179.7 , 168.85, 172.  ],\n",
       "       [175.07, 299.56, 236.42,  77.69, 303.56, 309.55, 109.22,  82.65,\n",
       "        301.55, 161.07, 169.15, 341.17, 268.15, 135.32, 179.51, 310.74,\n",
       "         87.69,  77.69,  77.65,  43.91,  87.69, 340.17,  75.69, 170.51,\n",
       "        304.74, 255.15, 112.22, 114.22, 339.17, 138.32, 140.32, 272.15,\n",
       "        107.22, 334.56,  52.91, 348.56,  54.12,  52.91,  50.12, 184.15,\n",
       "         71.65, 308.74, 174.07, 122.22, 230.42,  51.91, 218.9 ,  42.12,\n",
       "        114.22, 155.14, 171.51, 338.17, 235.42, 294.55,  44.16,  39.12,\n",
       "        347.56, 241.42, 308.74, 293.55, 225.9 , 140.32,  68.65, 229.42,\n",
       "        182.15, 179.15, 335.07, 176.15, 306.56, 305.55, 163.07, 342.56,\n",
       "        164.07, 305.74, 232.42, 177.51, 228.9 , 306.74, 144.32, 344.56,\n",
       "         52.91, 163.07, 133.32, 346.07, 149.32,  86.69, 230.42, 144.14,\n",
       "        308.74,  40.91, 342.56, 334.07,  49.16, 334.07,  69.69, 331.17,\n",
       "        148.32,  54.12, 293.55, 163.14],\n",
       "       [265.56, 262.56, 270.16, 271.58, 261.58, 273.36, 270.86, 271.36,\n",
       "        268.56, 263.86, 261.36, 261.9 , 269.6 , 271.85, 269.61, 262.9 ,\n",
       "        270.6 , 276.99, 269.84, 260.56, 277.29, 267.6 , 262.86, 274.85,\n",
       "        268.29, 268.61, 276.29, 271.39, 268.85, 261.85, 261.9 , 269.6 ,\n",
       "        269.6 , 256.1 , 270.99, 280.61, 275.61, 263.58, 272.1 , 262.85,\n",
       "        278.16, 262.39, 261.1 , 275.56, 275.16, 267.1 , 269.1 , 257.56,\n",
       "        258.84, 271.56, 279.61, 269.58, 260.85, 272.29, 270.44, 269.85,\n",
       "        271.56, 268.1 , 272.36, 271.58, 272.6 , 261.8 , 266.9 , 271.86,\n",
       "        272.36, 270.6 , 276.6 , 272.85, 277.6 , 281.6 , 266.29, 265.84,\n",
       "        257.56, 272.6 , 263.16, 268.6 , 269.9 , 274.86, 267.21, 265.1 ,\n",
       "        275.6 , 262.85, 264.58, 276.85, 269.99, 277.58, 270.6 , 270.29,\n",
       "        274.58, 259.44, 270.6 , 262.36, 277.39, 266.16, 260.85, 264.16,\n",
       "        272.56, 270.6 , 268.9 , 269.86]])"
      ]
     },
     "execution_count": 111,
     "metadata": {},
     "output_type": "execute_result"
    }
   ],
   "source": [
    "aug_cursor"
   ]
  },
  {
   "cell_type": "code",
   "execution_count": 112,
   "metadata": {},
   "outputs": [],
   "source": [
    "# Now make the augmented data cursor and target angles into format of 10 of 1st suject, 10 of second subject and so on\n",
    "# making it 40 of 4 total subjects\n",
    "# save that into new variable"
   ]
  },
  {
   "cell_type": "code",
   "execution_count": 120,
   "metadata": {},
   "outputs": [],
   "source": [
    "ch_cursor = [aug_cursor[:, i:i+10].reshape(-1) for i in range(10)]\n",
    "ch_target = [aug_target[:, i:i+10].reshape(-1) for i in range(10)]\n",
    "ch_cursor = np.array(ch_cursor)\n",
    "ch_target = np.array(ch_target)"
   ]
  },
  {
   "cell_type": "code",
   "execution_count": 122,
   "metadata": {},
   "outputs": [
    {
     "data": {
      "text/plain": [
       "((10, 40), (10, 40))"
      ]
     },
     "execution_count": 122,
     "metadata": {},
     "output_type": "execute_result"
    }
   ],
   "source": [
    "ch_cursor.shape, ch_target.shape"
   ]
  },
  {
   "cell_type": "code",
   "execution_count": 127,
   "metadata": {},
   "outputs": [
    {
     "data": {
      "text/plain": [
       "(array([288.72, 309.25, 227.48, 323.23, 322.23,  81.71, 313.67, 309.23,\n",
       "        321.23, 323.95, 177.85, 186.44, 175.24, 177.46, 168.84, 182.54,\n",
       "        183.85, 175.46, 187.58, 180.14, 303.56, 309.55, 109.22,  82.65,\n",
       "        301.55, 161.07, 169.15, 341.17, 268.15, 135.32, 261.58, 273.36,\n",
       "        270.86, 271.36, 268.56, 263.86, 261.36, 261.9 , 269.6 , 271.85]),\n",
       " array([288.78, 309.36, 227.73, 323.33, 322.33,  81.7 , 313.82, 309.33,\n",
       "        321.33, 323.79,  71.1 ,  38.85,  35.02, 127.65, 110.02, 283.23,\n",
       "        294.46, 125.65, 157.78, 251.92, 127.86, 131.83, 280.95, 262.26,\n",
       "        123.83, 342.4 , 341.98, 159.97,  91.43, 302.25, 341.46, 248.66,\n",
       "        333.64, 246.66, 319.28, 326.64, 236.66, 265.03, 338.81, 248.05]))"
      ]
     },
     "execution_count": 127,
     "metadata": {},
     "output_type": "execute_result"
    }
   ],
   "source": [
    "n = 4\n",
    "ch_cursor[n], ch_target[n]"
   ]
  },
  {
   "cell_type": "code",
   "execution_count": 128,
   "metadata": {},
   "outputs": [],
   "source": [
    "np.save('ch_cursor.npy', ch_cursor)\n",
    "np.save('ch_target.npy', ch_target)"
   ]
  }
 ],
 "metadata": {
  "kernelspec": {
   "display_name": "glmhmm",
   "language": "python",
   "name": "python3"
  },
  "language_info": {
   "codemirror_mode": {
    "name": "ipython",
    "version": 3
   },
   "file_extension": ".py",
   "mimetype": "text/x-python",
   "name": "python",
   "nbconvert_exporter": "python",
   "pygments_lexer": "ipython3",
   "version": "3.7.6"
  },
  "orig_nbformat": 4
 },
 "nbformat": 4,
 "nbformat_minor": 2
}
