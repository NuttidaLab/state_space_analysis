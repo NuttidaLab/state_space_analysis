{
 "cells": [
  {
   "cell_type": "code",
   "execution_count": 1,
   "metadata": {},
   "outputs": [],
   "source": [
    "# orientations (15-159° with 36° increments)\n",
    "# - 15, 51, 87, 123, 159\n",
    "\n",
    "# 50 sessions, 5 blocks, 20 trials each = 5000 trials"
   ]
  },
  {
   "cell_type": "code",
   "execution_count": 2,
   "metadata": {},
   "outputs": [],
   "source": [
    "import numpy as np\n",
    "rng = np.random.default_rng()"
   ]
  },
  {
   "cell_type": "code",
   "execution_count": 20,
   "metadata": {},
   "outputs": [
    {
     "data": {
      "text/plain": [
       "((50, 100), (50, 100), (50, 100))"
      ]
     },
     "execution_count": 20,
     "metadata": {},
     "output_type": "execute_result"
    }
   ],
   "source": [
    "targets = np.array([[15, 51, 87, 123, 159]*4*5]*50)\n",
    "targets = rng.permuted(targets, axis=1)\n",
    "targetsn_1 = np.roll(targets, 1, axis=1)\n",
    "targetsn_1[:,0] = 0\n",
    "\n",
    "# np random floats from -3 to 3 of shape 50, 100\n",
    "jitters = rng.uniform(-3, 3, size=(50, 100))\n",
    "observations = targets + jitters\n",
    "t = targetsn_1 + jitters\n",
    "observations[:, -10:] = t[:, -10:]\n",
    "\n",
    "observations.shape, targets.shape, targetsn_1.shape"
   ]
  },
  {
   "cell_type": "code",
   "execution_count": 21,
   "metadata": {},
   "outputs": [
    {
     "data": {
      "text/plain": [
       "(array([ 51.4946109 ,  14.05497273, 161.61593225,  14.56845713,\n",
       "        122.62063208,  87.47965399,  88.1509385 ,  52.20394882,\n",
       "         84.54767697,  15.82798113]),\n",
       " array([ 51,  15, 159,  15, 123,  87,  87,  51,  87,  15]),\n",
       " array([  0,  51,  15, 159,  15, 123,  87,  87,  51,  87]))"
      ]
     },
     "execution_count": 21,
     "metadata": {},
     "output_type": "execute_result"
    }
   ],
   "source": [
    "observations[0, :10], targets[0, :10], targetsn_1[0, :10]"
   ]
  },
  {
   "cell_type": "code",
   "execution_count": null,
   "metadata": {},
   "outputs": [],
   "source": []
  }
 ],
 "metadata": {
  "kernelspec": {
   "display_name": "ssm",
   "language": "python",
   "name": "python3"
  },
  "language_info": {
   "codemirror_mode": {
    "name": "ipython",
    "version": 3
   },
   "file_extension": ".py",
   "mimetype": "text/x-python",
   "name": "python",
   "nbconvert_exporter": "python",
   "pygments_lexer": "ipython3",
   "version": "3.11.5"
  },
  "orig_nbformat": 4
 },
 "nbformat": 4,
 "nbformat_minor": 2
}
