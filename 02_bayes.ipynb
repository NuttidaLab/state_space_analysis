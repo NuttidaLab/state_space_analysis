{
 "cells": [
  {
   "cell_type": "code",
   "execution_count": 39,
   "metadata": {},
   "outputs": [],
   "source": [
    "import numpy as np\n",
    "import pandas as pd\n",
    "\n",
    "from utils import validate, package_run_data, package_calib_data, circdist, circmedian\n",
    "\n",
    "import matplotlib.pyplot as plt\n",
    "import seaborn as sns\n",
    "import arviz as az\n",
    "\n",
    "from cmdstanpy import CmdStanModel\n",
    "\n",
    "#NP set random seed\n",
    "np.random.seed(42)\n",
    "\n",
    "az.style.use(\"arviz-docgrid\")"
   ]
  },
  {
   "cell_type": "code",
   "execution_count": 40,
   "metadata": {},
   "outputs": [],
   "source": [
    "experiment_orientations = [159, 123, 87, 51, 15]\n",
    "subjects = [\"01\", \"02\", \"03\", \"04\", \"05\", \"06\", \"07\", \"08\" ,\"09\", \"10\", \"11\", \"12\", \"14\"]\n",
    "median_key = {15:0, 51:1, 87:2, 123:3, 159:4}\n",
    "std_key = {15:0, 51:1, 87:2, 123:3, 159:4}"
   ]
  },
  {
   "cell_type": "code",
   "execution_count": 41,
   "metadata": {},
   "outputs": [
    {
     "name": "stderr",
     "output_type": "stream",
     "text": [
      "Loading data: 100%|██████████| 52/52 [00:00<00:00, 322.46it/s]\n",
      "Loading data: 100%|██████████| 312/312 [00:00<00:00, 319.82it/s]\n"
     ]
    }
   ],
   "source": [
    "# Allow negative angles\n",
    "c_table, med, std, ctimetable = package_calib_data(do_clip=False)\n",
    "r_table, (x, y, d, r, e) = package_run_data(med, std, do_clip=False)"
   ]
  },
  {
   "cell_type": "markdown",
   "metadata": {},
   "source": [
    "## Splitting the data for stan"
   ]
  },
  {
   "cell_type": "code",
   "execution_count": 59,
   "metadata": {},
   "outputs": [],
   "source": [
    "xaxis = np.arange(-250, 750, 1) * (1000/120)"
   ]
  },
  {
   "cell_type": "code",
   "execution_count": 60,
   "metadata": {},
   "outputs": [
    {
     "data": {
      "text/plain": [
       "(191, 430)"
      ]
     },
     "execution_count": 60,
     "metadata": {},
     "output_type": "execute_result"
    }
   ],
   "source": [
    "start_idx, end_idx = np.searchsorted(xaxis, -500), np.searchsorted(xaxis, 1500)\n",
    "(start_idx, end_idx)"
   ]
  },
  {
   "cell_type": "code",
   "execution_count": 61,
   "metadata": {},
   "outputs": [],
   "source": [
    "low_coherence_mask = r_table[\"coh\"] == -1\n",
    "high_coherence_mask = r_table[\"coh\"] == 1\n",
    "\n",
    "divided_attention_mask = r_table[\"att\"] == -1\n",
    "focused_attention_mask = r_table[\"att\"] == 1\n",
    "\n",
    "unexpected_mask = r_table[\"exp_al\"] == 0\n",
    "expected_mask = r_table[\"exp_al\"] == 1"
   ]
  },
  {
   "cell_type": "code",
   "execution_count": 62,
   "metadata": {},
   "outputs": [],
   "source": [
    "r_low = r.reshape(-1, 1000)[low_coherence_mask]\n",
    "r_high = r.reshape(-1, 1000)[high_coherence_mask]\n",
    "\n",
    "r_divided = r.reshape(-1, 1000)[divided_attention_mask]\n",
    "r_focused = r.reshape(-1, 1000)[focused_attention_mask]\n",
    "\n",
    "r_unexpected = r.reshape(-1, 1000)[unexpected_mask]\n",
    "r_expected = r.reshape(-1, 1000)[expected_mask]\n",
    "\n",
    "r_low = r_low[:, start_idx:end_idx].T\n",
    "r_high = r_high[:, start_idx:end_idx].T\n",
    "\n",
    "r_focused = r_focused[:, start_idx:end_idx].T\n",
    "r_divided = r_divided[:, start_idx:end_idx].T\n",
    "\n",
    "r_unexpected = r_unexpected[:, start_idx:end_idx].T\n",
    "r_expected = r_expected[:, start_idx:end_idx.T].T"
   ]
  },
  {
   "cell_type": "code",
   "execution_count": 63,
   "metadata": {},
   "outputs": [
    {
     "data": {
      "text/plain": [
       "((239, 18720),\n",
       " (239, 18720),\n",
       " (239, 18720),\n",
       " (239, 18720),\n",
       " (239, 7696),\n",
       " (239, 21103))"
      ]
     },
     "execution_count": 63,
     "metadata": {},
     "output_type": "execute_result"
    }
   ],
   "source": [
    "r_low.shape, r_high.shape, r_divided.shape, r_focused.shape, r_unexpected.shape, r_expected.shape"
   ]
  },
  {
   "cell_type": "code",
   "execution_count": 64,
   "metadata": {},
   "outputs": [],
   "source": [
    "t = r_table[\"t_calib\"]\n",
    "\n",
    "t_low = t[low_coherence_mask].to_numpy().repeat(239).reshape(239, -1)\n",
    "t_high = t[high_coherence_mask].to_numpy().repeat(239).reshape(239, -1)\n",
    "\n",
    "t_divided = t[divided_attention_mask].to_numpy().repeat(239).reshape(239, -1)\n",
    "t_focused = t[focused_attention_mask].to_numpy().repeat(239).reshape(239, -1)\n",
    "\n",
    "t_unexpected = t[unexpected_mask].to_numpy().repeat(239).reshape(239, -1)\n",
    "t_expected = t[expected_mask].to_numpy().repeat(239).reshape(239, -1)\n",
    "\n",
    "rt_low = np.stack([r_low, t_low], axis=-1)\n",
    "rt_high = np.stack([r_high, t_high], axis=-1)\n",
    "\n",
    "rt_divided = np.stack([r_divided, t_divided], axis=-1)\n",
    "rt_focused = np.stack([r_focused, t_focused], axis=-1)\n",
    "\n",
    "rt_unexpected = np.stack([r_unexpected, t_unexpected], axis=-1)\n",
    "rt_expected = np.stack([r_expected, t_expected], axis=-1)"
   ]
  },
  {
   "cell_type": "code",
   "execution_count": 65,
   "metadata": {},
   "outputs": [
    {
     "data": {
      "text/plain": [
       "(239, 7696, 2)"
      ]
     },
     "execution_count": 65,
     "metadata": {},
     "output_type": "execute_result"
    }
   ],
   "source": [
    "rt_unexpected.shape"
   ]
  },
  {
   "cell_type": "code",
   "execution_count": 66,
   "metadata": {},
   "outputs": [],
   "source": [
    "def drop_nan_rows(data):\n",
    "    # Filter rows where the first value in the last axis is not nan\n",
    "    return np.array([row[~np.isnan(row[:, 0])] for row in data])\n",
    "\n",
    "# Apply the function to each variable\n",
    "lr_low = drop_nan_rows(rt_low)\n",
    "lr_high = drop_nan_rows(rt_high)\n",
    "lr_divided = drop_nan_rows(rt_divided)\n",
    "lr_focused = drop_nan_rows(rt_focused)\n",
    "lr_unexpected = drop_nan_rows(rt_unexpected)\n",
    "lr_expected = drop_nan_rows(rt_expected)\n"
   ]
  },
  {
   "cell_type": "code",
   "execution_count": 67,
   "metadata": {},
   "outputs": [
    {
     "data": {
      "text/plain": [
       "(239, 239, 239, 239, 239, 239)"
      ]
     },
     "execution_count": 67,
     "metadata": {},
     "output_type": "execute_result"
    }
   ],
   "source": [
    "len(lr_low), len(lr_high), len(lr_divided), len(lr_focused), len(lr_unexpected), len(lr_expected)"
   ]
  },
  {
   "cell_type": "code",
   "execution_count": 68,
   "metadata": {},
   "outputs": [
    {
     "data": {
      "text/plain": [
       "(False, False, False, False, False, False)"
      ]
     },
     "execution_count": 68,
     "metadata": {},
     "output_type": "execute_result"
    }
   ],
   "source": [
    "# Check if there are any nan values\n",
    "# np.isnan(r_low).any(), np.isnan(r_high).any(), np.isnan(r_divided).any(), np.isnan(r_focused).any(), np.isnan(r_unexpected).any(), np.isnan(r_expected).any()\n",
    "np.isnan(lr_low).any(), np.isnan(lr_high).any(), np.isnan(lr_divided).any(), np.isnan(lr_focused).any(), np.isnan(lr_unexpected).any(), np.isnan(lr_expected).any()"
   ]
  },
  {
   "cell_type": "markdown",
   "metadata": {},
   "source": [
    "## Stan independent exp-att model loop"
   ]
  },
  {
   "cell_type": "code",
   "execution_count": null,
   "metadata": {},
   "outputs": [],
   "source": [
    "def make_data(data, timestep, n=100):\n",
    "    idx = np.random.choice(len(data[timestep]), n, replace=False)\n",
    "    ds = lr_expected[0][idx]\n",
    "    return {\n",
    "        \"N\": n,\n",
    "        \"y\": ds[:, 0],\n",
    "        \"x\": ds[:, 1],\n",
    "    }"
   ]
  },
  {
   "cell_type": "code",
   "execution_count": null,
   "metadata": {},
   "outputs": [],
   "source": [
    "def calc_and_save_post(data):\n",
    "    # Compile and fit the model\n",
    "    model = CmdStanModel(stan_file=\"./models/02_exp_att.stan\")\n",
    "    fit = model.sample(data=data, iter_sampling=1000, chains=4)\n",
    "    ifit = az.from_cmdstanpy(fit)\n",
    "    return ifit"
   ]
  },
  {
   "cell_type": "code",
   "execution_count": null,
   "metadata": {},
   "outputs": [],
   "source": [
    "cats = [\"low\", \"high\", \"divided\", \"focused\", \"unexpected\", \"expected\"]\n",
    "dats = [lr_low, lr_high, lr_divided, lr_focused, lr_unexpected, lr_expected]"
   ]
  },
  {
   "cell_type": "code",
   "execution_count": null,
   "metadata": {},
   "outputs": [],
   "source": [
    "for cat, dat in zip(cats, dats):\n",
    "    for i in range(end_idx - start_idx):\n",
    "        data = make_data(dat, i, n=100)\n",
    "        ifit = calc_and_save_post(data)\n",
    "        ifit.to_json(f\"./cache/fig3/{cat}/{i}.json\")"
   ]
  },
  {
   "cell_type": "code",
   "execution_count": null,
   "metadata": {},
   "outputs": [],
   "source": []
  },
  {
   "cell_type": "code",
   "execution_count": null,
   "metadata": {},
   "outputs": [],
   "source": []
  },
  {
   "cell_type": "code",
   "execution_count": null,
   "metadata": {},
   "outputs": [],
   "source": []
  }
 ],
 "metadata": {
  "kernelspec": {
   "display_name": "ssm",
   "language": "python",
   "name": "python3"
  },
  "language_info": {
   "codemirror_mode": {
    "name": "ipython",
    "version": 3
   },
   "file_extension": ".py",
   "mimetype": "text/x-python",
   "name": "python",
   "nbconvert_exporter": "python",
   "pygments_lexer": "ipython3",
   "version": "3.9.20"
  }
 },
 "nbformat": 4,
 "nbformat_minor": 2
}
