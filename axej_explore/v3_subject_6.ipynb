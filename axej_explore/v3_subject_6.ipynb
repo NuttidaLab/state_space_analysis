{
 "cells": [
  {
   "cell_type": "code",
   "execution_count": 38,
   "metadata": {},
   "outputs": [],
   "source": [
    "from scipy.io import loadmat\n",
    "import numpy as np\n",
    "import os\n",
    "from tqdm import tqdm\n",
    "import itertools\n",
    "import matplotlib.pyplot as plt"
   ]
  },
  {
   "cell_type": "code",
   "execution_count": 39,
   "metadata": {},
   "outputs": [],
   "source": [
    "# Indexer\n",
    "class Subjects:\n",
    "    class Sessions:\n",
    "        class Runs:\n",
    "\n",
    "            def __init__(self, paths) -> None:\n",
    "                self.paths = sorted(paths, key= lambda x: int(x.split('_')[-1][3]))\n",
    "\n",
    "            def __getitem__(self, run_idx):\n",
    "                return self.load_data(self.paths[run_idx])\n",
    "            \n",
    "            def load_data(self, path):\n",
    "                mat_contents = loadmat(path, struct_as_record=False, squeeze_me=True)\n",
    "                return mat_contents[\"p\"].__dict__\n",
    "\n",
    "        def __init__(self, path) -> None:\n",
    "            self.base_path = os.path.join(path, \"runs\")\n",
    "            self.sess_paths = sorted(os.listdir(self.base_path), key= lambda x: int(x.split('_')[2][1]))\n",
    "            self.sess_paths = [os.path.join(self.base_path, path) for path in self.sess_paths]\n",
    "            self.sess_paths = [self.sess_paths[i:i+6] for i in range(0, len(self.sess_paths), 6)]\n",
    "\n",
    "        def __getitem__(self, sess_idx):\n",
    "            return self.Runs(self.sess_paths[sess_idx])\n",
    "\n",
    "    def __init__(self, path) -> None:\n",
    "        self.path = path\n",
    "        self.subj_paths = sorted(os.listdir(path), key=lambda x: int(x.split('j')[1]))\n",
    "\n",
    "    def __getitem__(self, sub_idx):\n",
    "        return self.Sessions(os.path.join(self.path, self.subj_paths[sub_idx]))\n",
    "\n",
    "# Refresher\n",
    "def np_refresh(np_array): return np.array(np_array.tolist())"
   ]
  },
  {
   "cell_type": "code",
   "execution_count": 40,
   "metadata": {},
   "outputs": [],
   "source": [
    "# Set in stone\n",
    "PATH_DS = '../axej_eeg'\n",
    "EXP_ORI = [159, 123, 87, 51, 15]\n",
    "SUBS = 13\n",
    "SESS = 4\n",
    "RUNS = 6\n",
    "\n",
    "subj = Subjects(PATH_DS)\n",
    "\n",
    "# Index combinations at 3 levels with ittertools\n",
    "data_idx = list(itertools.product(range(SUBS), range(SESS), range(RUNS)))"
   ]
  },
  {
   "cell_type": "code",
   "execution_count": 41,
   "metadata": {},
   "outputs": [],
   "source": [
    "# Expectation\n",
    "# pcat.tr_exp = pcat.trlabel(pcat.prior == 1);\n",
    "# pcat.tr_un = pcat.trlabel(pcat.prior == 3);\n",
    "# pcat.tr_neu = pcat.trlabel(pcat.prior == 2);\n",
    "\n",
    "# Attention = attCue\n",
    "# pcat.tr_foc = pcat.trlabel(pcat.attcue == 1); = attCue\n",
    "# pcat.tr_div = pcat.trlabel(pcat.attcue == 2); = attCue\n",
    "# div -> -1, for -> 1\n",
    "\n",
    "# Coherence = tgCoh\n",
    "# pcat.tr_lo = pcat.trlabel(pcat.moco == 1); = tgCoh\n",
    "# pcat.tr_hi = pcat.trlabel(pcat.moco == 2); = tgCoh\n",
    "# low -> -1, high -> 1\n",
    "\n",
    "# Observation = response_angle\n",
    "\n",
    "# Target = stimDirREAL\n",
    "# Coherece oriantation = EXP_ORI[p.expOri]\n",
    "# Coherence strength = tgCoh\n",
    "# Attention state = attCue\n",
    "# bias = np.ones"
   ]
  },
  {
   "cell_type": "code",
   "execution_count": 42,
   "metadata": {},
   "outputs": [
    {
     "data": {
      "text/plain": [
       "((4, 5, 120, 500), (4, 5, 120, 500))"
      ]
     },
     "execution_count": 42,
     "metadata": {},
     "output_type": "execute_result"
    }
   ],
   "source": [
    "shape = (SESS, RUNS - 1)\n",
    "\n",
    "jx = np.ndarray(shape=shape, dtype=object)\n",
    "jy = np.ndarray(shape=shape, dtype=object)\n",
    "sti_dir = np.ndarray(shape=shape, dtype=object)\n",
    "ori_dir = np.ndarray(shape=shape, dtype=object)\n",
    "ori_st = np.ndarray(shape=shape, dtype=object)\n",
    "att_st = np.ndarray(shape=shape, dtype=object)\n",
    "\n",
    "subs = 5\n",
    "for sess, runs in itertools.product(range(SESS), range(RUNS)):\n",
    "    if runs == 5: continue\n",
    "    data = subj[subs][sess][runs]\n",
    "    jx[sess, runs] = data['joyx']\n",
    "    jy[sess, runs] = data['joyy']\n",
    "    sti_dir[sess, runs] = data['stimDirREAL']\n",
    "    ori_dir[sess, runs] = EXP_ORI[data['expOri'] - 1]\n",
    "    ori_st[sess, runs] = data['tgCoh']\n",
    "    att_st[sess, runs] = data['attCue']\n",
    "\n",
    "jx = np_refresh(jx)\n",
    "jy = np_refresh(jy)\n",
    "sti_dir = np_refresh(sti_dir)\n",
    "ori_dir = np_refresh(ori_dir)\n",
    "ori_st = np_refresh(ori_st)\n",
    "att_st = np_refresh(att_st)\n",
    "\n",
    "# Repeat ori for each trial\n",
    "ori_dir = np.expand_dims(ori_dir, axis=2)\n",
    "ori_dir = np.repeat(ori_dir, 120, axis=2)\n",
    "\n",
    "jx.shape, jy.shape"
   ]
  },
  {
   "cell_type": "code",
   "execution_count": 43,
   "metadata": {},
   "outputs": [
    {
     "data": {
      "text/plain": [
       "((4, 5, 120), (4, 5, 120), (4, 5, 120), (4, 5, 120))"
      ]
     },
     "execution_count": 43,
     "metadata": {},
     "output_type": "execute_result"
    }
   ],
   "source": [
    "sti_dir.shape, ori_dir.shape, ori_st.shape, att_st.shape"
   ]
  },
  {
   "cell_type": "code",
   "execution_count": 123,
   "metadata": {},
   "outputs": [],
   "source": [
    "def make_responses(jx, jy):\n",
    "    dist_from_cent = np.sqrt(jx ** 2 + jy ** 2)\n",
    "    dist_from_cent[np.isnan(dist_from_cent)] = 0\n",
    "    max_idx = np.argmax(dist_from_cent, axis=3)\n",
    "\n",
    "    max_x = jx[np.arange(4)[:, np.newaxis, np.newaxis], np.arange(5)[:, np.newaxis], np.arange(120), max_idx]\n",
    "    max_y = jy[np.arange(4)[:, np.newaxis, np.newaxis], np.arange(5)[:, np.newaxis], np.arange(120), max_idx]\n",
    "\n",
    "    resp_angle = np.arctan2(max_y, max_x)\n",
    "    resp_angle = np.rad2deg(resp_angle)\n",
    "\n",
    "    return resp_angle, max_idx"
   ]
  },
  {
   "cell_type": "code",
   "execution_count": 124,
   "metadata": {},
   "outputs": [
    {
     "data": {
      "text/plain": [
       "((4, 5, 120), (4, 5, 120))"
      ]
     },
     "execution_count": 124,
     "metadata": {},
     "output_type": "execute_result"
    }
   ],
   "source": [
    "resp_angle, resp_idx = make_responses(jx, jy)\n",
    "resp_angle.shape, resp_idx.shape"
   ]
  },
  {
   "cell_type": "code",
   "execution_count": 153,
   "metadata": {},
   "outputs": [
    {
     "name": "stdout",
     "output_type": "stream",
     "text": [
      "133 -  159\n",
      "65 -  15\n",
      "129 -  159\n",
      "49 -  51\n",
      "140 -  159\n",
      "156 -  159\n",
      "150 -  159\n",
      "30 -  159\n",
      "80 -  87\n",
      "155 -  159\n",
      "151 -  159\n",
      "64 -  159\n",
      "41 -  15\n",
      "44 -  51\n",
      "145 -  159\n",
      "149 -  159\n",
      "38 -  15\n",
      "37 -  159\n",
      "159 -  159\n",
      "56 -  159\n",
      "126 -  15\n",
      "42 -  159\n",
      "50 -  159\n",
      "147 -  159\n",
      "47 -  159\n",
      "70 -  123\n",
      "57 -  159\n",
      "150 -  159\n",
      "134 -  159\n",
      "145 -  159\n",
      "67 -  87\n",
      "141 -  159\n",
      "61 -  159\n",
      "142 -  159\n",
      "42 -  159\n",
      "150 -  159\n",
      "149 -  159\n",
      "40 -  159\n",
      "42 -  159\n",
      "34 -  159\n",
      "150 -  159\n",
      "62 -  159\n",
      "150 -  159\n",
      "84 -  87\n",
      "37 -  159\n",
      "149 -  159\n",
      "33 -  159\n",
      "153 -  123\n",
      "151 -  159\n",
      "29 -  51\n"
     ]
    }
   ],
   "source": [
    "ch = 8\n",
    "\n",
    "for i in range(50):\n",
    "    ch = i\n",
    "    print(f\"{resp_angle[1,0,ch]:.0f} - \", sti_dir[1,0,ch])"
   ]
  },
  {
   "cell_type": "code",
   "execution_count": null,
   "metadata": {},
   "outputs": [],
   "source": []
  },
  {
   "cell_type": "code",
   "execution_count": null,
   "metadata": {},
   "outputs": [],
   "source": []
  }
 ],
 "metadata": {
  "kernelspec": {
   "display_name": "ssm",
   "language": "python",
   "name": "python3"
  },
  "language_info": {
   "codemirror_mode": {
    "name": "ipython",
    "version": 3
   },
   "file_extension": ".py",
   "mimetype": "text/x-python",
   "name": "python",
   "nbconvert_exporter": "python",
   "pygments_lexer": "ipython3",
   "version": "3.11.5"
  }
 },
 "nbformat": 4,
 "nbformat_minor": 2
}
